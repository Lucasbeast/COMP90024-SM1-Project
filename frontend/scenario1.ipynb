{
 "cells": [
  {
   "cell_type": "code",
   "execution_count": 190,
   "metadata": {},
   "outputs": [],
   "source": [
    "import requests\n",
    "import logging\n",
    "import pandas as pd\n",
    "import plotly.express as px\n",
    "import plotly.graph_objects as go\n",
    "import seaborn as sns\n",
    "import matplotlib.pyplot as plt\n",
    "from plotly.subplots import make_subplots"
   ]
  },
  {
   "cell_type": "code",
   "execution_count": 218,
   "metadata": {},
   "outputs": [],
   "source": [
    "def main():\n",
    "    try:\n",
    "        # Disable SSL verification (not recommended for production)\n",
    "        response = requests.get('http://127.0.0.1:9090/camstream', verify=False).json()\n",
    "        print(response)\n",
    "        return response\n",
    "    except requests.exceptions.SSLError as e:\n",
    "        logging.error(f\"SSL Error: {e}\")\n",
    "        return None\n",
    "    except Exception as e:\n",
    "        logging.error(f\"An error occurred: {e}\")\n",
    "        return None"
   ]
  },
  {
   "cell_type": "code",
   "execution_count": 237,
   "metadata": {},
   "outputs": [
    {
     "name": "stdout",
     "output_type": "stream",
     "text": [
      "[{'local_date_time_full': '2024-05-16-19-30-00', 'air_temp': 13.5, 'apparent_t': 14.4, 'dewpt': 13.0, 'gust_kmh': 0.0, 'rel_hum': 97, 'wind_spd_kmh': 0.0, 'pollen_total': 30.7751671199028}, {'local_date_time_full': '2024-05-16-19-00-00', 'air_temp': 13.3, 'apparent_t': 14.1, 'dewpt': 12.7, 'gust_kmh': 0.0, 'rel_hum': 96, 'wind_spd_kmh': 0.0, 'pollen_total': 30.849203292458437}, {'local_date_time_full': '2024-05-16-18-30-00', 'air_temp': 13.5, 'apparent_t': 14.3, 'dewpt': 12.4, 'gust_kmh': 0.0, 'rel_hum': 93, 'wind_spd_kmh': 0.0, 'pollen_total': 30.673698798881386}, {'local_date_time_full': '2024-05-16-18-00-00', 'air_temp': 14.0, 'apparent_t': 14.8, 'dewpt': 12.7, 'gust_kmh': 0.0, 'rel_hum': 92, 'wind_spd_kmh': 0.0, 'pollen_total': 29.331342899491816}, {'local_date_time_full': '2024-05-16-17-30-00', 'air_temp': 15.1, 'apparent_t': 16.0, 'dewpt': 13.0, 'gust_kmh': 0.0, 'rel_hum': 87, 'wind_spd_kmh': 0.0, 'pollen_total': 31.864648422655772}, {'local_date_time_full': '2024-05-16-17-00-00', 'air_temp': 16.6, 'apparent_t': 17.6, 'dewpt': 13.1, 'gust_kmh': 0.0, 'rel_hum': 80, 'wind_spd_kmh': 0.0, 'pollen_total': 31.065689084269014}, {'local_date_time_full': '2024-05-16-16-30-00', 'air_temp': 18.9, 'apparent_t': 18.5, 'dewpt': 12.9, 'gust_kmh': 11.0, 'rel_hum': 68, 'wind_spd_kmh': 7.0, 'pollen_total': 30.32853837764402}, {'local_date_time_full': '2024-05-16-16-00-00', 'air_temp': 20.3, 'apparent_t': 19.5, 'dewpt': 13.0, 'gust_kmh': 15.0, 'rel_hum': 63, 'wind_spd_kmh': 9.0, 'pollen_total': 29.805072870498947}, {'local_date_time_full': '2024-05-16-15-30-00', 'air_temp': 21.0, 'apparent_t': 21.1, 'dewpt': 13.9, 'gust_kmh': 9.0, 'rel_hum': 64, 'wind_spd_kmh': 6.0, 'pollen_total': 28.63178503688844}, {'local_date_time_full': '2024-05-16-15-00-00', 'air_temp': 21.1, 'apparent_t': 21.5, 'dewpt': 13.8, 'gust_kmh': 7.0, 'rel_hum': 63, 'wind_spd_kmh': 4.0, 'pollen_total': 28.490055707059344}, {'local_date_time_full': '2024-05-16-14-30-00', 'air_temp': 21.4, 'apparent_t': 21.0, 'dewpt': 13.1, 'gust_kmh': 13.0, 'rel_hum': 59, 'wind_spd_kmh': 7.0, 'pollen_total': 28.957290523202285}, {'local_date_time_full': '2024-05-16-14-00-00', 'air_temp': 21.5, 'apparent_t': 20.6, 'dewpt': 12.6, 'gust_kmh': 17.0, 'rel_hum': 57, 'wind_spd_kmh': 9.0, 'pollen_total': 29.65353285311181}, {'local_date_time_full': '2024-05-16-13-30-00', 'air_temp': 21.4, 'apparent_t': 21.0, 'dewpt': 13.1, 'gust_kmh': 11.0, 'rel_hum': 59, 'wind_spd_kmh': 7.0, 'pollen_total': 29.091254265342503}, {'local_date_time_full': '2024-05-16-13-00-00', 'air_temp': 20.9, 'apparent_t': 20.9, 'dewpt': 14.3, 'gust_kmh': 11.0, 'rel_hum': 66, 'wind_spd_kmh': 7.0, 'pollen_total': 29.82799548671143}, {'local_date_time_full': '2024-05-16-12-30-00', 'air_temp': 21.2, 'apparent_t': 21.7, 'dewpt': 15.1, 'gust_kmh': 11.0, 'rel_hum': 68, 'wind_spd_kmh': 6.0, 'pollen_total': 30.039427657532265}, {'local_date_time_full': '2024-05-16-12-00-00', 'air_temp': 20.1, 'apparent_t': 20.4, 'dewpt': 14.5, 'gust_kmh': 9.0, 'rel_hum': 70, 'wind_spd_kmh': 6.0, 'pollen_total': 29.631776281767767}, {'local_date_time_full': '2024-05-16-11-30-00', 'air_temp': 18.5, 'apparent_t': 18.3, 'dewpt': 13.6, 'gust_kmh': 11.0, 'rel_hum': 73, 'wind_spd_kmh': 7.0, 'pollen_total': 28.831543911146724}, {'local_date_time_full': '2024-05-16-11-00-00', 'air_temp': 18.6, 'apparent_t': 19.0, 'dewpt': 13.7, 'gust_kmh': 7.0, 'rel_hum': 73, 'wind_spd_kmh': 4.0, 'pollen_total': 29.441444166818272}, {'local_date_time_full': '2024-05-16-10-30-00', 'air_temp': 18.0, 'apparent_t': 17.9, 'dewpt': 13.3, 'gust_kmh': 9.0, 'rel_hum': 74, 'wind_spd_kmh': 6.0, 'pollen_total': 30.346248953378677}, {'local_date_time_full': '2024-05-16-10-00-00', 'air_temp': 16.3, 'apparent_t': 16.3, 'dewpt': 13.6, 'gust_kmh': 9.0, 'rel_hum': 84, 'wind_spd_kmh': 6.0, 'pollen_total': 29.385584146374775}, {'local_date_time_full': '2024-05-16-09-30-00', 'air_temp': 14.9, 'apparent_t': 14.7, 'dewpt': 12.9, 'gust_kmh': 7.0, 'rel_hum': 88, 'wind_spd_kmh': 6.0, 'pollen_total': 29.695698815144784}, {'local_date_time_full': '2024-05-16-09-00-00', 'air_temp': 12.9, 'apparent_t': 13.4, 'dewpt': 11.5, 'gust_kmh': 0.0, 'rel_hum': 91, 'wind_spd_kmh': 0.0, 'pollen_total': 28.544877082953168}, {'local_date_time_full': '2024-05-16-08-30-00', 'air_temp': 12.0, 'apparent_t': 12.4, 'dewpt': 11.1, 'gust_kmh': 0.0, 'rel_hum': 94, 'wind_spd_kmh': 0.0, 'pollen_total': 30.934792209596385}, {'local_date_time_full': '2024-05-16-08-00-00', 'air_temp': 9.9, 'apparent_t': 9.9, 'dewpt': 9.9, 'gust_kmh': 0.0, 'rel_hum': 100, 'wind_spd_kmh': 0.0, 'pollen_total': 30.319479645012006}, {'local_date_time_full': '2024-05-16-07-30-00', 'air_temp': 8.6, 'apparent_t': 8.3, 'dewpt': 8.5, 'gust_kmh': 0.0, 'rel_hum': 99, 'wind_spd_kmh': 0.0, 'pollen_total': 31.658846861129227}, {'local_date_time_full': '2024-05-16-07-00-00', 'air_temp': 8.6, 'apparent_t': 8.3, 'dewpt': 8.5, 'gust_kmh': 0.0, 'rel_hum': 99, 'wind_spd_kmh': 0.0, 'pollen_total': 31.658846861129227}, {'local_date_time_full': '2024-05-16-06-30-00', 'air_temp': 8.8, 'apparent_t': 8.5, 'dewpt': 8.5, 'gust_kmh': 0.0, 'rel_hum': 98, 'wind_spd_kmh': 0.0, 'pollen_total': 30.77368937471197}, {'local_date_time_full': '2024-05-16-06-00-00', 'air_temp': 9.0, 'apparent_t': 8.7, 'dewpt': 8.7, 'gust_kmh': 0.0, 'rel_hum': 98, 'wind_spd_kmh': 0.0, 'pollen_total': 30.77368937471197}, {'local_date_time_full': '2024-05-16-05-30-00', 'air_temp': 9.3, 'apparent_t': 8.7, 'dewpt': 8.8, 'gust_kmh': 6.0, 'rel_hum': 97, 'wind_spd_kmh': 2.0, 'pollen_total': 31.068073765759518}, {'local_date_time_full': '2024-05-16-05-00-00', 'air_temp': 9.4, 'apparent_t': 7.8, 'dewpt': 8.8, 'gust_kmh': 7.0, 'rel_hum': 96, 'wind_spd_kmh': 7.0, 'pollen_total': 31.19951551699075}, {'local_date_time_full': '2024-05-16-04-30-00', 'air_temp': 9.7, 'apparent_t': 8.1, 'dewpt': 8.9, 'gust_kmh': 9.0, 'rel_hum': 95, 'wind_spd_kmh': 7.0, 'pollen_total': 30.556581989991436}, {'local_date_time_full': '2024-05-16-04-00-00', 'air_temp': 9.6, 'apparent_t': 8.1, 'dewpt': 9.0, 'gust_kmh': 7.0, 'rel_hum': 96, 'wind_spd_kmh': 7.0, 'pollen_total': 31.19951551699075}, {'local_date_time_full': '2024-05-16-03-30-00', 'air_temp': 9.9, 'apparent_t': 9.3, 'dewpt': 9.1, 'gust_kmh': 6.0, 'rel_hum': 95, 'wind_spd_kmh': 2.0, 'pollen_total': 30.87532376575952}, {'local_date_time_full': '2024-05-16-03-00-00', 'air_temp': 10.6, 'apparent_t': 8.7, 'dewpt': 9.2, 'gust_kmh': 13.0, 'rel_hum': 91, 'wind_spd_kmh': 9.0, 'pollen_total': 29.37065656943675}, {'local_date_time_full': '2024-05-16-02-30-00', 'air_temp': 10.7, 'apparent_t': 8.9, 'dewpt': 9.3, 'gust_kmh': 11.0, 'rel_hum': 91, 'wind_spd_kmh': 9.0, 'pollen_total': 29.636428772723658}, {'local_date_time_full': '2024-05-16-02-00-00', 'air_temp': 10.7, 'apparent_t': 9.3, 'dewpt': 9.6, 'gust_kmh': 11.0, 'rel_hum': 93, 'wind_spd_kmh': 7.0, 'pollen_total': 30.40006469072723}, {'local_date_time_full': '2024-05-16-01-30-00', 'air_temp': 10.3, 'apparent_t': 9.9, 'dewpt': 9.8, 'gust_kmh': 9.0, 'rel_hum': 97, 'wind_spd_kmh': 2.0, 'pollen_total': 30.64623610342186}, {'local_date_time_full': '2024-05-16-01-00-00', 'air_temp': 10.8, 'apparent_t': 10.2, 'dewpt': 10.5, 'gust_kmh': 9.0, 'rel_hum': 98, 'wind_spd_kmh': 4.0, 'pollen_total': 31.440434260373273}, {'local_date_time_full': '2024-05-16-00-30-00', 'air_temp': 11.0, 'apparent_t': 11.2, 'dewpt': 10.5, 'gust_kmh': 0.0, 'rel_hum': 97, 'wind_spd_kmh': 0.0, 'pollen_total': 30.552084246506844}, {'local_date_time_full': '2024-05-16-00-00-00', 'air_temp': 11.7, 'apparent_t': 11.2, 'dewpt': 10.8, 'gust_kmh': 9.0, 'rel_hum': 94, 'wind_spd_kmh': 4.0, 'pollen_total': 30.970125096008225}, {'local_date_time_full': '2024-05-15-23-30-00', 'air_temp': 12.2, 'apparent_t': 10.6, 'dewpt': 11.7, 'gust_kmh': 15.0, 'rel_hum': 97, 'wind_spd_kmh': 11.0, 'pollen_total': 30.508840718363167}, {'local_date_time_full': '2024-05-15-23-00-00', 'air_temp': 11.3, 'apparent_t': 10.9, 'dewpt': 11.1, 'gust_kmh': 7.0, 'rel_hum': 99, 'wind_spd_kmh': 4.0, 'pollen_total': 33.69392094728532}, {'local_date_time_full': '2024-05-15-22-30-00', 'air_temp': 11.7, 'apparent_t': 11.8, 'dewpt': 11.5, 'gust_kmh': 9.0, 'rel_hum': 99, 'wind_spd_kmh': 2.0, 'pollen_total': 31.97015697879767}, {'local_date_time_full': '2024-05-15-22-00-00', 'air_temp': 11.7, 'apparent_t': 12.2, 'dewpt': 11.5, 'gust_kmh': 0.0, 'rel_hum': 99, 'wind_spd_kmh': 0.0, 'pollen_total': 31.658846861129227}, {'local_date_time_full': '2024-05-15-21-30-00', 'air_temp': 12.4, 'apparent_t': 13.1, 'dewpt': 12.2, 'gust_kmh': 0.0, 'rel_hum': 99, 'wind_spd_kmh': 0.0, 'pollen_total': 33.06469927831988}, {'local_date_time_full': '2024-05-15-21-00-00', 'air_temp': 12.5, 'apparent_t': 13.2, 'dewpt': 12.2, 'gust_kmh': 0.0, 'rel_hum': 98, 'wind_spd_kmh': 0.0, 'pollen_total': 29.955963220474047}, {'local_date_time_full': '2024-05-15-20-30-00', 'air_temp': 12.6, 'apparent_t': 12.9, 'dewpt': 12.1, 'gust_kmh': 7.0, 'rel_hum': 97, 'wind_spd_kmh': 2.0, 'pollen_total': 31.592552057076045}, {'local_date_time_full': '2024-05-15-20-00-00', 'air_temp': 13.4, 'apparent_t': 13.2, 'dewpt': 12.9, 'gust_kmh': 7.0, 'rel_hum': 97, 'wind_spd_kmh': 6.0, 'pollen_total': 30.443902402452387}, {'local_date_time_full': '2024-05-15-19-30-00', 'air_temp': 13.5, 'apparent_t': 13.2, 'dewpt': 12.6, 'gust_kmh': 7.0, 'rel_hum': 94, 'wind_spd_kmh': 6.0, 'pollen_total': 30.754406517263416}, {'local_date_time_full': '2024-05-15-19-00-00', 'air_temp': 13.5, 'apparent_t': 13.1, 'dewpt': 12.4, 'gust_kmh': 7.0, 'rel_hum': 93, 'wind_spd_kmh': 6.0, 'pollen_total': 31.989870073212106}, {'local_date_time_full': '2024-05-15-18-30-00', 'air_temp': 13.6, 'apparent_t': 14.4, 'dewpt': 12.7, 'gust_kmh': 0.0, 'rel_hum': 94, 'wind_spd_kmh': 0.0, 'pollen_total': 30.830511161054815}, {'local_date_time_full': '2024-05-15-18-00-00', 'air_temp': 14.4, 'apparent_t': 15.4, 'dewpt': 13.1, 'gust_kmh': 0.0, 'rel_hum': 92, 'wind_spd_kmh': 0.0, 'pollen_total': 31.754846163640277}, {'local_date_time_full': '2024-05-15-17-30-00', 'air_temp': 15.2, 'apparent_t': 15.0, 'dewpt': 13.1, 'gust_kmh': 7.0, 'rel_hum': 87, 'wind_spd_kmh': 6.0, 'pollen_total': 29.856015724540338}, {'local_date_time_full': '2024-05-15-17-00-00', 'air_temp': 17.3, 'apparent_t': 18.4, 'dewpt': 13.6, 'gust_kmh': 0.0, 'rel_hum': 79, 'wind_spd_kmh': 0.0, 'pollen_total': 30.07225552525388}, {'local_date_time_full': '2024-05-15-16-30-00', 'air_temp': 19.7, 'apparent_t': 19.7, 'dewpt': 13.6, 'gust_kmh': 7.0, 'rel_hum': 68, 'wind_spd_kmh': 6.0, 'pollen_total': 28.47608508248716}, {'local_date_time_full': '2024-05-15-16-00-00', 'air_temp': 20.8, 'apparent_t': 20.7, 'dewpt': 13.3, 'gust_kmh': 9.0, 'rel_hum': 62, 'wind_spd_kmh': 6.0, 'pollen_total': 29.25864310055605}, {'local_date_time_full': '2024-05-15-15-30-00', 'air_temp': 21.1, 'apparent_t': 20.1, 'dewpt': 12.3, 'gust_kmh': 13.0, 'rel_hum': 57, 'wind_spd_kmh': 9.0, 'pollen_total': 29.210329628704628}, {'local_date_time_full': '2024-05-15-15-00-00', 'air_temp': 21.3, 'apparent_t': 20.8, 'dewpt': 12.2, 'gust_kmh': 13.0, 'rel_hum': 56, 'wind_spd_kmh': 6.0, 'pollen_total': 29.10581766517796}, {'local_date_time_full': '2024-05-15-14-30-00', 'air_temp': 21.1, 'apparent_t': 20.7, 'dewpt': 12.5, 'gust_kmh': 11.0, 'rel_hum': 58, 'wind_spd_kmh': 6.0, 'pollen_total': 29.29362467434526}, {'local_date_time_full': '2024-05-15-14-00-00', 'air_temp': 21.3, 'apparent_t': 20.4, 'dewpt': 12.7, 'gust_kmh': 17.0, 'rel_hum': 58, 'wind_spd_kmh': 9.0, 'pollen_total': 29.79238999596895}, {'local_date_time_full': '2024-05-15-13-30-00', 'air_temp': 20.8, 'apparent_t': 19.4, 'dewpt': 12.2, 'gust_kmh': 20.0, 'rel_hum': 58, 'wind_spd_kmh': 11.0, 'pollen_total': 29.59396472864081}, {'local_date_time_full': '2024-05-15-13-00-00', 'air_temp': 20.7, 'apparent_t': 19.6, 'dewpt': 12.1, 'gust_kmh': 17.0, 'rel_hum': 58, 'wind_spd_kmh': 9.0, 'pollen_total': 29.50349654409058}, {'local_date_time_full': '2024-05-15-12-30-00', 'air_temp': 20.5, 'apparent_t': 19.7, 'dewpt': 13.0, 'gust_kmh': 19.0, 'rel_hum': 62, 'wind_spd_kmh': 9.0, 'pollen_total': 29.730712212838757}, {'local_date_time_full': '2024-05-15-12-00-00', 'air_temp': 20.4, 'apparent_t': 19.4, 'dewpt': 12.4, 'gust_kmh': 15.0, 'rel_hum': 60, 'wind_spd_kmh': 9.0, 'pollen_total': 30.079762289696884}, {'local_date_time_full': '2024-05-15-11-30-00', 'air_temp': 20.1, 'apparent_t': 19.1, 'dewpt': 12.3, 'gust_kmh': 15.0, 'rel_hum': 61, 'wind_spd_kmh': 9.0, 'pollen_total': 29.788004027061685}, {'local_date_time_full': '2024-05-15-11-00-00', 'air_temp': 19.3, 'apparent_t': 18.9, 'dewpt': 12.3, 'gust_kmh': 9.0, 'rel_hum': 64, 'wind_spd_kmh': 6.0, 'pollen_total': 29.501952198063297}, {'local_date_time_full': '2024-05-15-10-30-00', 'air_temp': 18.5, 'apparent_t': 17.8, 'dewpt': 12.0, 'gust_kmh': 11.0, 'rel_hum': 66, 'wind_spd_kmh': 7.0, 'pollen_total': 28.94070252721994}, {'local_date_time_full': '2024-05-15-10-00-00', 'air_temp': 17.2, 'apparent_t': 16.5, 'dewpt': 11.5, 'gust_kmh': 9.0, 'rel_hum': 69, 'wind_spd_kmh': 6.0, 'pollen_total': 29.80068740722753}, {'local_date_time_full': '2024-05-15-09-30-00', 'air_temp': 16.1, 'apparent_t': 15.6, 'dewpt': 12.1, 'gust_kmh': 9.0, 'rel_hum': 77, 'wind_spd_kmh': 6.0, 'pollen_total': 29.315685688431007}, {'local_date_time_full': '2024-05-15-09-00-00', 'air_temp': 15.2, 'apparent_t': 15.2, 'dewpt': 12.3, 'gust_kmh': 9.0, 'rel_hum': 83, 'wind_spd_kmh': 4.0, 'pollen_total': 29.666399009807}, {'local_date_time_full': '2024-05-15-08-30-00', 'air_temp': 13.5, 'apparent_t': 13.1, 'dewpt': 12.4, 'gust_kmh': 7.0, 'rel_hum': 93, 'wind_spd_kmh': 6.0, 'pollen_total': 31.989870073212106}, {'local_date_time_full': '2024-05-15-08-00-00', 'air_temp': 12.7, 'apparent_t': 12.8, 'dewpt': 12.7, 'gust_kmh': 7.0, 'rel_hum': 100, 'wind_spd_kmh': 4.0, 'pollen_total': 33.65217538144764}, {'local_date_time_full': '2024-05-15-07-30-00', 'air_temp': 12.2, 'apparent_t': 12.9, 'dewpt': 12.2, 'gust_kmh': 0.0, 'rel_hum': 100, 'wind_spd_kmh': 0.0, 'pollen_total': 30.493604040224636}, {'local_date_time_full': '2024-05-15-07-00-00', 'air_temp': 11.9, 'apparent_t': 12.5, 'dewpt': 11.9, 'gust_kmh': 0.0, 'rel_hum': 100, 'wind_spd_kmh': 0.0, 'pollen_total': 30.319479645012006}, {'local_date_time_full': '2024-05-15-06-30-00', 'air_temp': 11.5, 'apparent_t': 11.2, 'dewpt': 11.5, 'gust_kmh': 6.0, 'rel_hum': 100, 'wind_spd_kmh': 4.0, 'pollen_total': 31.5310582266726}, {'local_date_time_full': '2024-05-15-06-00-00', 'air_temp': 10.9, 'apparent_t': 11.2, 'dewpt': 10.9, 'gust_kmh': 0.0, 'rel_hum': 100, 'wind_spd_kmh': 0.0, 'pollen_total': 30.319479645012006}, {'local_date_time_full': '2024-05-15-05-30-00', 'air_temp': 9.7, 'apparent_t': 9.7, 'dewpt': 9.7, 'gust_kmh': 0.0, 'rel_hum': 100, 'wind_spd_kmh': 0.0, 'pollen_total': 30.319479645012006}, {'local_date_time_full': '2024-05-15-05-00-00', 'air_temp': 9.4, 'apparent_t': 9.3, 'dewpt': 9.4, 'gust_kmh': 0.0, 'rel_hum': 100, 'wind_spd_kmh': 0.0, 'pollen_total': 30.319479645012006}, {'local_date_time_full': '2024-05-15-04-30-00', 'air_temp': 9.8, 'apparent_t': 9.8, 'dewpt': 9.8, 'gust_kmh': 0.0, 'rel_hum': 100, 'wind_spd_kmh': 0.0, 'pollen_total': 30.319479645012006}, {'local_date_time_full': '2024-05-15-04-00-00', 'air_temp': 9.9, 'apparent_t': 9.9, 'dewpt': 9.9, 'gust_kmh': 0.0, 'rel_hum': 100, 'wind_spd_kmh': 0.0, 'pollen_total': 30.319479645012006}, {'local_date_time_full': '2024-05-15-03-30-00', 'air_temp': 10.0, 'apparent_t': 9.7, 'dewpt': 10.0, 'gust_kmh': 6.0, 'rel_hum': 100, 'wind_spd_kmh': 2.0, 'pollen_total': 30.74438192052261}, {'local_date_time_full': '2024-05-15-03-00-00', 'air_temp': 10.3, 'apparent_t': 10.4, 'dewpt': 10.1, 'gust_kmh': 0.0, 'rel_hum': 99, 'wind_spd_kmh': 0.0, 'pollen_total': 31.658846861129227}, {'local_date_time_full': '2024-05-15-02-30-00', 'air_temp': 10.7, 'apparent_t': 10.9, 'dewpt': 10.5, 'gust_kmh': 0.0, 'rel_hum': 99, 'wind_spd_kmh': 0.0, 'pollen_total': 31.658846861129227}, {'local_date_time_full': '2024-05-15-02-00-00', 'air_temp': 11.3, 'apparent_t': 11.7, 'dewpt': 11.1, 'gust_kmh': 0.0, 'rel_hum': 99, 'wind_spd_kmh': 0.0, 'pollen_total': 31.658846861129227}, {'local_date_time_full': '2024-05-15-01-30-00', 'air_temp': 11.6, 'apparent_t': 12.0, 'dewpt': 11.4, 'gust_kmh': 0.0, 'rel_hum': 99, 'wind_spd_kmh': 0.0, 'pollen_total': 31.658846861129227}, {'local_date_time_full': '2024-05-15-01-00-00', 'air_temp': 11.8, 'apparent_t': 11.5, 'dewpt': 11.6, 'gust_kmh': 7.0, 'rel_hum': 99, 'wind_spd_kmh': 4.0, 'pollen_total': 33.69392094728532}, {'local_date_time_full': '2024-05-15-00-30-00', 'air_temp': 11.7, 'apparent_t': 11.0, 'dewpt': 11.5, 'gust_kmh': 7.0, 'rel_hum': 99, 'wind_spd_kmh': 6.0, 'pollen_total': 33.11624540224213}, {'local_date_time_full': '2024-05-15-00-00-00', 'air_temp': 11.7, 'apparent_t': 11.0, 'dewpt': 11.5, 'gust_kmh': 7.0, 'rel_hum': 99, 'wind_spd_kmh': 6.0, 'pollen_total': 33.11624540224213}, {'local_date_time_full': '2024-05-14-23-30-00', 'air_temp': 12.0, 'apparent_t': 12.6, 'dewpt': 11.8, 'gust_kmh': 0.0, 'rel_hum': 99, 'wind_spd_kmh': 0.0, 'pollen_total': 31.658846861129227}, {'local_date_time_full': '2024-05-14-23-00-00', 'air_temp': 12.3, 'apparent_t': 12.9, 'dewpt': 12.0, 'gust_kmh': 0.0, 'rel_hum': 98, 'wind_spd_kmh': 0.0, 'pollen_total': 31.127349484210313}, {'local_date_time_full': '2024-05-14-22-30-00', 'air_temp': 12.4, 'apparent_t': 13.1, 'dewpt': 12.2, 'gust_kmh': 0.0, 'rel_hum': 99, 'wind_spd_kmh': 0.0, 'pollen_total': 33.06469927831988}, {'local_date_time_full': '2024-05-14-22-00-00', 'air_temp': 12.8, 'apparent_t': 13.6, 'dewpt': 12.6, 'gust_kmh': 0.0, 'rel_hum': 99, 'wind_spd_kmh': 0.0, 'pollen_total': 30.34578627171163}, {'local_date_time_full': '2024-05-14-21-30-00', 'air_temp': 12.3, 'apparent_t': 13.0, 'dewpt': 12.1, 'gust_kmh': 0.0, 'rel_hum': 99, 'wind_spd_kmh': 0.0, 'pollen_total': 32.41022308784369}, {'local_date_time_full': '2024-05-14-21-00-00', 'air_temp': 12.2, 'apparent_t': 12.7, 'dewpt': 11.7, 'gust_kmh': 0.0, 'rel_hum': 97, 'wind_spd_kmh': 0.0, 'pollen_total': 30.552084246506844}, {'local_date_time_full': '2024-05-14-20-30-00', 'air_temp': 12.8, 'apparent_t': 12.4, 'dewpt': 12.3, 'gust_kmh': 7.0, 'rel_hum': 97, 'wind_spd_kmh': 6.0, 'pollen_total': 32.715629736104965}, {'local_date_time_full': '2024-05-14-20-00-00', 'air_temp': 12.9, 'apparent_t': 13.7, 'dewpt': 12.4, 'gust_kmh': 0.0, 'rel_hum': 97, 'wind_spd_kmh': 0.0, 'pollen_total': 30.183627525480755}, {'local_date_time_full': '2024-05-14-19-30-00', 'air_temp': 12.7, 'apparent_t': 12.2, 'dewpt': 11.9, 'gust_kmh': 7.0, 'rel_hum': 95, 'wind_spd_kmh': 6.0, 'pollen_total': 31.4073642734974}, {'local_date_time_full': '2024-05-14-19-00-00', 'air_temp': 13.1, 'apparent_t': 13.8, 'dewpt': 12.2, 'gust_kmh': 0.0, 'rel_hum': 94, 'wind_spd_kmh': 0.0, 'pollen_total': 28.63356232446604}, {'local_date_time_full': '2024-05-14-18-30-00', 'air_temp': 14.0, 'apparent_t': 14.2, 'dewpt': 12.0, 'gust_kmh': 6.0, 'rel_hum': 88, 'wind_spd_kmh': 2.0, 'pollen_total': 28.702032293431213}, {'local_date_time_full': '2024-05-14-18-00-00', 'air_temp': 15.8, 'apparent_t': 15.4, 'dewpt': 12.5, 'gust_kmh': 7.0, 'rel_hum': 81, 'wind_spd_kmh': 6.0, 'pollen_total': 29.8328436001563}, {'local_date_time_full': '2024-05-14-17-30-00', 'air_temp': 16.8, 'apparent_t': 16.2, 'dewpt': 12.3, 'gust_kmh': 13.0, 'rel_hum': 75, 'wind_spd_kmh': 7.0, 'pollen_total': 29.37609342151432}, {'local_date_time_full': '2024-05-14-17-00-00', 'air_temp': 17.6, 'apparent_t': 16.9, 'dewpt': 12.1, 'gust_kmh': 11.0, 'rel_hum': 70, 'wind_spd_kmh': 7.0, 'pollen_total': 28.997124188942035}, {'local_date_time_full': '2024-05-14-16-30-00', 'air_temp': 19.5, 'apparent_t': 18.5, 'dewpt': 12.3, 'gust_kmh': 17.0, 'rel_hum': 63, 'wind_spd_kmh': 9.0, 'pollen_total': 29.499566936417555}, {'local_date_time_full': '2024-05-14-16-00-00', 'air_temp': 20.9, 'apparent_t': 20.0, 'dewpt': 12.6, 'gust_kmh': 13.0, 'rel_hum': 59, 'wind_spd_kmh': 9.0, 'pollen_total': 29.492813311688305}, {'local_date_time_full': '2024-05-14-15-30-00', 'air_temp': 23.2, 'apparent_t': 22.2, 'dewpt': 8.9, 'gust_kmh': 7.0, 'rel_hum': 40, 'wind_spd_kmh': 4.0, 'pollen_total': 29.527685003700476}, {'local_date_time_full': '2024-05-14-15-00-00', 'air_temp': 22.3, 'apparent_t': 20.2, 'dewpt': 8.1, 'gust_kmh': 15.0, 'rel_hum': 40, 'wind_spd_kmh': 9.0, 'pollen_total': 29.295256903571147}, {'local_date_time_full': '2024-05-14-14-30-00', 'air_temp': 22.4, 'apparent_t': 20.4, 'dewpt': 8.5, 'gust_kmh': 15.0, 'rel_hum': 41, 'wind_spd_kmh': 9.0, 'pollen_total': 29.10532824889249}, {'local_date_time_full': '2024-05-14-14-00-00', 'air_temp': 22.4, 'apparent_t': 20.5, 'dewpt': 8.9, 'gust_kmh': 13.0, 'rel_hum': 42, 'wind_spd_kmh': 9.0, 'pollen_total': 28.97805322128852}, {'local_date_time_full': '2024-05-14-13-30-00', 'air_temp': 22.6, 'apparent_t': 20.3, 'dewpt': 9.0, 'gust_kmh': 20.0, 'rel_hum': 42, 'wind_spd_kmh': 11.0, 'pollen_total': 28.890984259548503}, {'local_date_time_full': '2024-05-14-13-00-00', 'air_temp': 22.3, 'apparent_t': 19.6, 'dewpt': 8.8, 'gust_kmh': 20.0, 'rel_hum': 42, 'wind_spd_kmh': 13.0, 'pollen_total': 29.098483116993684}, {'local_date_time_full': '2024-05-14-12-30-00', 'air_temp': 22.5, 'apparent_t': 21.9, 'dewpt': 11.6, 'gust_kmh': 9.0, 'rel_hum': 50, 'wind_spd_kmh': 6.0, 'pollen_total': 29.367947111818275}, {'local_date_time_full': '2024-05-14-12-00-00', 'air_temp': 22.1, 'apparent_t': 21.9, 'dewpt': 12.9, 'gust_kmh': 11.0, 'rel_hum': 56, 'wind_spd_kmh': 6.0, 'pollen_total': 29.856866239153007}, {'local_date_time_full': '2024-05-14-11-30-00', 'air_temp': 21.0, 'apparent_t': 20.5, 'dewpt': 12.2, 'gust_kmh': 9.0, 'rel_hum': 57, 'wind_spd_kmh': 6.0, 'pollen_total': 29.06176927250073}, {'local_date_time_full': '2024-05-14-11-00-00', 'air_temp': 19.9, 'apparent_t': 19.3, 'dewpt': 12.4, 'gust_kmh': 11.0, 'rel_hum': 62, 'wind_spd_kmh': 7.0, 'pollen_total': 29.234543519432055}, {'local_date_time_full': '2024-05-14-10-30-00', 'air_temp': 18.5, 'apparent_t': 17.1, 'dewpt': 10.8, 'gust_kmh': 19.0, 'rel_hum': 61, 'wind_spd_kmh': 9.0, 'pollen_total': 29.014388316763558}, {'local_date_time_full': '2024-05-14-10-00-00', 'air_temp': 17.4, 'apparent_t': 16.9, 'dewpt': 12.7, 'gust_kmh': 11.0, 'rel_hum': 74, 'wind_spd_kmh': 7.0, 'pollen_total': 29.949348660548853}, {'local_date_time_full': '2024-05-14-09-30-00', 'air_temp': 16.5, 'apparent_t': 15.2, 'dewpt': 11.4, 'gust_kmh': 13.0, 'rel_hum': 72, 'wind_spd_kmh': 9.0, 'pollen_total': 28.135820096138286}, {'local_date_time_full': '2024-05-14-09-00-00', 'air_temp': 15.4, 'apparent_t': 14.1, 'dewpt': 11.2, 'gust_kmh': 17.0, 'rel_hum': 76, 'wind_spd_kmh': 9.0, 'pollen_total': 28.847724591687253}, {'local_date_time_full': '2024-05-14-08-30-00', 'air_temp': 13.5, 'apparent_t': 12.1, 'dewpt': 10.9, 'gust_kmh': 13.0, 'rel_hum': 84, 'wind_spd_kmh': 9.0, 'pollen_total': 29.15689983856275}, {'local_date_time_full': '2024-05-14-08-00-00', 'air_temp': 12.3, 'apparent_t': 10.8, 'dewpt': 10.4, 'gust_kmh': 11.0, 'rel_hum': 88, 'wind_spd_kmh': 9.0, 'pollen_total': 29.82250020129509}, {'local_date_time_full': '2024-05-14-07-30-00', 'air_temp': 10.5, 'apparent_t': 9.3, 'dewpt': 9.7, 'gust_kmh': 9.0, 'rel_hum': 95, 'wind_spd_kmh': 6.0, 'pollen_total': 30.81552661115974}, {'local_date_time_full': '2024-05-14-07-00-00', 'air_temp': 10.0, 'apparent_t': 8.7, 'dewpt': 9.2, 'gust_kmh': 9.0, 'rel_hum': 95, 'wind_spd_kmh': 6.0, 'pollen_total': 30.81552661115974}, {'local_date_time_full': '2024-05-14-06-30-00', 'air_temp': 8.9, 'apparent_t': 7.3, 'dewpt': 8.9, 'gust_kmh': 9.0, 'rel_hum': 100, 'wind_spd_kmh': 7.0, 'pollen_total': 30.171431512597202}, {'local_date_time_full': '2024-05-14-06-00-00', 'air_temp': 8.9, 'apparent_t': 8.7, 'dewpt': 8.9, 'gust_kmh': 0.0, 'rel_hum': 100, 'wind_spd_kmh': 0.0, 'pollen_total': 30.319479645012006}, {'local_date_time_full': '2024-05-14-05-30-00', 'air_temp': 8.5, 'apparent_t': 8.2, 'dewpt': 8.5, 'gust_kmh': 0.0, 'rel_hum': 100, 'wind_spd_kmh': 0.0, 'pollen_total': 30.319479645012006}, {'local_date_time_full': '2024-05-14-05-00-00', 'air_temp': 8.7, 'apparent_t': 8.4, 'dewpt': 8.7, 'gust_kmh': 6.0, 'rel_hum': 100, 'wind_spd_kmh': 0.0, 'pollen_total': 30.689875427016112}, {'local_date_time_full': '2024-05-14-04-30-00', 'air_temp': 9.2, 'apparent_t': 7.7, 'dewpt': 9.2, 'gust_kmh': 9.0, 'rel_hum': 100, 'wind_spd_kmh': 7.0, 'pollen_total': 30.171431512597202}, {'local_date_time_full': '2024-05-14-04-00-00', 'air_temp': 9.3, 'apparent_t': 8.0, 'dewpt': 9.3, 'gust_kmh': 6.0, 'rel_hum': 100, 'wind_spd_kmh': 6.0, 'pollen_total': 31.187897387511757}, {'local_date_time_full': '2024-05-14-03-30-00', 'air_temp': 9.3, 'apparent_t': 9.2, 'dewpt': 9.3, 'gust_kmh': 0.0, 'rel_hum': 100, 'wind_spd_kmh': 0.0, 'pollen_total': 30.319479645012006}, {'local_date_time_full': '2024-05-14-03-00-00', 'air_temp': 9.0, 'apparent_t': 8.8, 'dewpt': 9.0, 'gust_kmh': 0.0, 'rel_hum': 100, 'wind_spd_kmh': 0.0, 'pollen_total': 30.319479645012006}, {'local_date_time_full': '2024-05-14-02-30-00', 'air_temp': 9.4, 'apparent_t': 9.3, 'dewpt': 9.4, 'gust_kmh': 0.0, 'rel_hum': 100, 'wind_spd_kmh': 0.0, 'pollen_total': 30.319479645012006}, {'local_date_time_full': '2024-05-14-02-00-00', 'air_temp': 9.5, 'apparent_t': 9.4, 'dewpt': 9.5, 'gust_kmh': 0.0, 'rel_hum': 100, 'wind_spd_kmh': 0.0, 'pollen_total': 30.319479645012006}, {'local_date_time_full': '2024-05-14-01-30-00', 'air_temp': 9.8, 'apparent_t': 9.8, 'dewpt': 9.8, 'gust_kmh': 0.0, 'rel_hum': 100, 'wind_spd_kmh': 0.0, 'pollen_total': 30.319479645012006}, {'local_date_time_full': '2024-05-14-01-00-00', 'air_temp': 10.2, 'apparent_t': 10.3, 'dewpt': 10.2, 'gust_kmh': 0.0, 'rel_hum': 100, 'wind_spd_kmh': 0.0, 'pollen_total': 30.319479645012006}, {'local_date_time_full': '2024-05-14-00-30-00', 'air_temp': 10.5, 'apparent_t': 10.7, 'dewpt': 10.5, 'gust_kmh': 0.0, 'rel_hum': 100, 'wind_spd_kmh': 0.0, 'pollen_total': 30.319479645012006}, {'local_date_time_full': '2024-05-14-00-00-00', 'air_temp': 10.5, 'apparent_t': 10.6, 'dewpt': 10.3, 'gust_kmh': 0.0, 'rel_hum': 99, 'wind_spd_kmh': 0.0, 'pollen_total': 31.658846861129227}, {'local_date_time_full': '2024-05-13-23-30-00', 'air_temp': 11.0, 'apparent_t': 11.3, 'dewpt': 11.0, 'gust_kmh': 0.0, 'rel_hum': 100, 'wind_spd_kmh': 0.0, 'pollen_total': 30.319479645012006}, {'local_date_time_full': '2024-05-13-23-00-00', 'air_temp': 11.1, 'apparent_t': 11.4, 'dewpt': 10.9, 'gust_kmh': 0.0, 'rel_hum': 99, 'wind_spd_kmh': 0.0, 'pollen_total': 31.658846861129227}, {'local_date_time_full': '2024-05-13-22-30-00', 'air_temp': 11.4, 'apparent_t': 11.8, 'dewpt': 11.2, 'gust_kmh': 0.0, 'rel_hum': 99, 'wind_spd_kmh': 0.0, 'pollen_total': 31.658846861129227}, {'local_date_time_full': '2024-05-13-22-00-00', 'air_temp': 11.6, 'apparent_t': 12.0, 'dewpt': 11.4, 'gust_kmh': 0.0, 'rel_hum': 99, 'wind_spd_kmh': 0.0, 'pollen_total': 31.658846861129227}, {'local_date_time_full': '2024-05-13-21-30-00', 'air_temp': 11.6, 'apparent_t': 12.0, 'dewpt': 11.3, 'gust_kmh': 0.0, 'rel_hum': 98, 'wind_spd_kmh': 0.0, 'pollen_total': 30.77368937471197}, {'local_date_time_full': '2024-05-13-21-00-00', 'air_temp': 12.2, 'apparent_t': 12.8, 'dewpt': 12.0, 'gust_kmh': 0.0, 'rel_hum': 99, 'wind_spd_kmh': 0.0, 'pollen_total': 31.658846861129227}, {'local_date_time_full': '2024-05-13-20-30-00', 'air_temp': 12.4, 'apparent_t': 13.1, 'dewpt': 12.1, 'gust_kmh': 0.0, 'rel_hum': 98, 'wind_spd_kmh': 0.0, 'pollen_total': 32.15233941095024}, {'local_date_time_full': '2024-05-13-20-00-00', 'air_temp': 12.6, 'apparent_t': 13.3, 'dewpt': 12.1, 'gust_kmh': 0.0, 'rel_hum': 97, 'wind_spd_kmh': 0.0, 'pollen_total': 28.211361004063015}]\n",
      "DataFrame created:\n",
      "   local_date_time_full  air_temp  apparent_t  dewpt  gust_kmh  rel_hum  \\\n",
      "0  2024-05-16-19-30-00      13.5        14.4   13.0       0.0       97   \n",
      "1  2024-05-16-19-00-00      13.3        14.1   12.7       0.0       96   \n",
      "2  2024-05-16-18-30-00      13.5        14.3   12.4       0.0       93   \n",
      "3  2024-05-16-18-00-00      14.0        14.8   12.7       0.0       92   \n",
      "4  2024-05-16-17-30-00      15.1        16.0   13.0       0.0       87   \n",
      "\n",
      "   wind_spd_kmh  pollen_total  \n",
      "0           0.0     30.775167  \n",
      "1           0.0     30.849203  \n",
      "2           0.0     30.673699  \n",
      "3           0.0     29.331343  \n",
      "4           0.0     31.864648  \n"
     ]
    }
   ],
   "source": [
    "response_data = main()\n",
    "\n",
    "if response_data is not None:\n",
    "    if isinstance(response_data, list) and all(isinstance(item, dict) for item in response_data):\n",
    "        df = pd.DataFrame(response_data)\n",
    "        print(\"DataFrame created:\\n\", df.head())\n",
    "    else:\n",
    "        print(\"The response data is not in the expected format of a list of dictionaries.\")\n",
    "else:\n",
    "    print(\"Failed to fetch data.\")\n",
    "\n"
   ]
  },
  {
   "cell_type": "code",
   "execution_count": 238,
   "metadata": {},
   "outputs": [
    {
     "name": "stdout",
     "output_type": "stream",
     "text": [
      "DataFrame after setting datetime index:\n",
      "                            air_temp  apparent_t  dewpt  gust_kmh  rel_hum  \\\n",
      "local_date_time_full                                                        \n",
      "2024-05-16 19:00:00+00:00      13.5        14.4   13.0       0.0       97   \n",
      "2024-05-16 19:00:00+00:00      13.3        14.1   12.7       0.0       96   \n",
      "2024-05-16 18:00:00+00:00      13.5        14.3   12.4       0.0       93   \n",
      "2024-05-16 18:00:00+00:00      14.0        14.8   12.7       0.0       92   \n",
      "2024-05-16 17:00:00+00:00      15.1        16.0   13.0       0.0       87   \n",
      "\n",
      "                           wind_spd_kmh  pollen_total  \n",
      "local_date_time_full                                   \n",
      "2024-05-16 19:00:00+00:00           0.0     30.775167  \n",
      "2024-05-16 19:00:00+00:00           0.0     30.849203  \n",
      "2024-05-16 18:00:00+00:00           0.0     30.673699  \n",
      "2024-05-16 18:00:00+00:00           0.0     29.331343  \n",
      "2024-05-16 17:00:00+00:00           0.0     31.864648  \n"
     ]
    }
   ],
   "source": [
    "expected_columns = ['local_date_time_full', 'pollen_total', 'rel_hum']\n",
    "\n",
    "# 检查所有期望的列是否存在\n",
    "if all(column in df.columns for column in expected_columns):\n",
    "    df['local_date_time_full'] = pd.to_datetime(df['local_date_time_full'])\n",
    "    df.set_index('local_date_time_full', inplace=True)\n",
    "    \n",
    "    # 打印DataFrame以检查数据\n",
    "    print(\"DataFrame after setting datetime index:\\n\", df.head())\n",
    "else:\n",
    "    missing_columns = [column for column in expected_columns if column not in df.columns]\n",
    "    print(f\"The DataFrame does not contain the expected columns: {missing_columns}\")\n"
   ]
  },
  {
   "cell_type": "code",
   "execution_count": 239,
   "metadata": {},
   "outputs": [
    {
     "data": {
      "text/html": [
       "<div>\n",
       "<style scoped>\n",
       "    .dataframe tbody tr th:only-of-type {\n",
       "        vertical-align: middle;\n",
       "    }\n",
       "\n",
       "    .dataframe tbody tr th {\n",
       "        vertical-align: top;\n",
       "    }\n",
       "\n",
       "    .dataframe thead th {\n",
       "        text-align: right;\n",
       "    }\n",
       "</style>\n",
       "<table border=\"1\" class=\"dataframe\">\n",
       "  <thead>\n",
       "    <tr style=\"text-align: right;\">\n",
       "      <th></th>\n",
       "      <th>air_temp</th>\n",
       "      <th>apparent_t</th>\n",
       "      <th>dewpt</th>\n",
       "      <th>gust_kmh</th>\n",
       "      <th>rel_hum</th>\n",
       "      <th>wind_spd_kmh</th>\n",
       "      <th>pollen_total</th>\n",
       "    </tr>\n",
       "    <tr>\n",
       "      <th>local_date_time_full</th>\n",
       "      <th></th>\n",
       "      <th></th>\n",
       "      <th></th>\n",
       "      <th></th>\n",
       "      <th></th>\n",
       "      <th></th>\n",
       "      <th></th>\n",
       "    </tr>\n",
       "  </thead>\n",
       "  <tbody>\n",
       "    <tr>\n",
       "      <th>2024-05-16 19:00:00+00:00</th>\n",
       "      <td>13.5</td>\n",
       "      <td>14.4</td>\n",
       "      <td>13.0</td>\n",
       "      <td>0.0</td>\n",
       "      <td>97</td>\n",
       "      <td>0.0</td>\n",
       "      <td>30.775167</td>\n",
       "    </tr>\n",
       "    <tr>\n",
       "      <th>2024-05-16 19:00:00+00:00</th>\n",
       "      <td>13.3</td>\n",
       "      <td>14.1</td>\n",
       "      <td>12.7</td>\n",
       "      <td>0.0</td>\n",
       "      <td>96</td>\n",
       "      <td>0.0</td>\n",
       "      <td>30.849203</td>\n",
       "    </tr>\n",
       "    <tr>\n",
       "      <th>2024-05-16 18:00:00+00:00</th>\n",
       "      <td>13.5</td>\n",
       "      <td>14.3</td>\n",
       "      <td>12.4</td>\n",
       "      <td>0.0</td>\n",
       "      <td>93</td>\n",
       "      <td>0.0</td>\n",
       "      <td>30.673699</td>\n",
       "    </tr>\n",
       "    <tr>\n",
       "      <th>2024-05-16 18:00:00+00:00</th>\n",
       "      <td>14.0</td>\n",
       "      <td>14.8</td>\n",
       "      <td>12.7</td>\n",
       "      <td>0.0</td>\n",
       "      <td>92</td>\n",
       "      <td>0.0</td>\n",
       "      <td>29.331343</td>\n",
       "    </tr>\n",
       "    <tr>\n",
       "      <th>2024-05-16 17:00:00+00:00</th>\n",
       "      <td>15.1</td>\n",
       "      <td>16.0</td>\n",
       "      <td>13.0</td>\n",
       "      <td>0.0</td>\n",
       "      <td>87</td>\n",
       "      <td>0.0</td>\n",
       "      <td>31.864648</td>\n",
       "    </tr>\n",
       "    <tr>\n",
       "      <th>...</th>\n",
       "      <td>...</td>\n",
       "      <td>...</td>\n",
       "      <td>...</td>\n",
       "      <td>...</td>\n",
       "      <td>...</td>\n",
       "      <td>...</td>\n",
       "      <td>...</td>\n",
       "    </tr>\n",
       "    <tr>\n",
       "      <th>2024-05-13 22:00:00+00:00</th>\n",
       "      <td>11.6</td>\n",
       "      <td>12.0</td>\n",
       "      <td>11.4</td>\n",
       "      <td>0.0</td>\n",
       "      <td>99</td>\n",
       "      <td>0.0</td>\n",
       "      <td>31.658847</td>\n",
       "    </tr>\n",
       "    <tr>\n",
       "      <th>2024-05-13 21:00:00+00:00</th>\n",
       "      <td>11.6</td>\n",
       "      <td>12.0</td>\n",
       "      <td>11.3</td>\n",
       "      <td>0.0</td>\n",
       "      <td>98</td>\n",
       "      <td>0.0</td>\n",
       "      <td>30.773689</td>\n",
       "    </tr>\n",
       "    <tr>\n",
       "      <th>2024-05-13 21:00:00+00:00</th>\n",
       "      <td>12.2</td>\n",
       "      <td>12.8</td>\n",
       "      <td>12.0</td>\n",
       "      <td>0.0</td>\n",
       "      <td>99</td>\n",
       "      <td>0.0</td>\n",
       "      <td>31.658847</td>\n",
       "    </tr>\n",
       "    <tr>\n",
       "      <th>2024-05-13 20:00:00+00:00</th>\n",
       "      <td>12.4</td>\n",
       "      <td>13.1</td>\n",
       "      <td>12.1</td>\n",
       "      <td>0.0</td>\n",
       "      <td>98</td>\n",
       "      <td>0.0</td>\n",
       "      <td>32.152339</td>\n",
       "    </tr>\n",
       "    <tr>\n",
       "      <th>2024-05-13 20:00:00+00:00</th>\n",
       "      <td>12.6</td>\n",
       "      <td>13.3</td>\n",
       "      <td>12.1</td>\n",
       "      <td>0.0</td>\n",
       "      <td>97</td>\n",
       "      <td>0.0</td>\n",
       "      <td>28.211361</td>\n",
       "    </tr>\n",
       "  </tbody>\n",
       "</table>\n",
       "<p>144 rows × 7 columns</p>\n",
       "</div>"
      ],
      "text/plain": [
       "                           air_temp  apparent_t  dewpt  gust_kmh  rel_hum  \\\n",
       "local_date_time_full                                                        \n",
       "2024-05-16 19:00:00+00:00      13.5        14.4   13.0       0.0       97   \n",
       "2024-05-16 19:00:00+00:00      13.3        14.1   12.7       0.0       96   \n",
       "2024-05-16 18:00:00+00:00      13.5        14.3   12.4       0.0       93   \n",
       "2024-05-16 18:00:00+00:00      14.0        14.8   12.7       0.0       92   \n",
       "2024-05-16 17:00:00+00:00      15.1        16.0   13.0       0.0       87   \n",
       "...                             ...         ...    ...       ...      ...   \n",
       "2024-05-13 22:00:00+00:00      11.6        12.0   11.4       0.0       99   \n",
       "2024-05-13 21:00:00+00:00      11.6        12.0   11.3       0.0       98   \n",
       "2024-05-13 21:00:00+00:00      12.2        12.8   12.0       0.0       99   \n",
       "2024-05-13 20:00:00+00:00      12.4        13.1   12.1       0.0       98   \n",
       "2024-05-13 20:00:00+00:00      12.6        13.3   12.1       0.0       97   \n",
       "\n",
       "                           wind_spd_kmh  pollen_total  \n",
       "local_date_time_full                                   \n",
       "2024-05-16 19:00:00+00:00           0.0     30.775167  \n",
       "2024-05-16 19:00:00+00:00           0.0     30.849203  \n",
       "2024-05-16 18:00:00+00:00           0.0     30.673699  \n",
       "2024-05-16 18:00:00+00:00           0.0     29.331343  \n",
       "2024-05-16 17:00:00+00:00           0.0     31.864648  \n",
       "...                                 ...           ...  \n",
       "2024-05-13 22:00:00+00:00           0.0     31.658847  \n",
       "2024-05-13 21:00:00+00:00           0.0     30.773689  \n",
       "2024-05-13 21:00:00+00:00           0.0     31.658847  \n",
       "2024-05-13 20:00:00+00:00           0.0     32.152339  \n",
       "2024-05-13 20:00:00+00:00           0.0     28.211361  \n",
       "\n",
       "[144 rows x 7 columns]"
      ]
     },
     "execution_count": 239,
     "metadata": {},
     "output_type": "execute_result"
    }
   ],
   "source": [
    "df"
   ]
  },
  {
   "cell_type": "code",
   "execution_count": 279,
   "metadata": {},
   "outputs": [
    {
     "data": {
      "image/png": "[encoded data removed]",
      "text/plain": [
       "<Figure size 720x576 with 2 Axes>"
      ]
     },
     "metadata": {},
     "output_type": "display_data"
    }
   ],
   "source": [
    "# 重新命名列\n",
    "df_renamed = df.rename(columns={\n",
    "    'air_temp': 'Air Temperature (°C)',\n",
    "    'apparent_t': 'Apparent Temperature (°C)',\n",
    "    'dewpt': 'Dew Point (°C)',\n",
    "    'gust_kmh': 'Gust Wind Speed (km/h)',\n",
    "    'rel_hum': 'Relative Humidity (%)',\n",
    "    'wind_spd_kmh': 'Average Wind Speed (km/h)',\n",
    "    'pollen_total': 'Pollen Total'\n",
    "})\n",
    "\n",
    "# 计算相关矩阵\n",
    "corr = df_renamed.corr()\n",
    "\n",
    "# 设置绘图风格\n",
    "sns.set(style='whitegrid')\n",
    "\n",
    "# 绘制热力图\n",
    "plt.figure(figsize=(10, 8))\n",
    "heatmap = sns.heatmap(corr, annot=True, cmap='coolwarm', vmin=-1, vmax=1, center=0,\n",
    "                      annot_kws={\"size\": 12}, fmt=\".2f\", linewidths=.5, cbar_kws={\"shrink\": .75})\n",
    "\n",
    "# 设置标题和标签\n",
    "heatmap.set_title('Correlation Heatmap', fontsize=18)\n",
    "heatmap.set_xticklabels(heatmap.get_xticklabels(), fontsize=12, rotation=45)\n",
    "heatmap.set_yticklabels(heatmap.get_yticklabels(), fontsize=12, rotation=0)\n",
    "\n",
    "# 调整色条标签大小\n",
    "cbar = heatmap.collections[0].colorbar\n",
    "cbar.ax.tick_params(labelsize=12)\n",
    "\n",
    "# 显示图表\n",
    "plt.tight_layout()\n",
    "plt.show()\n",
    "\n"
   ]
  },
  {
   "cell_type": "code",
   "execution_count": 289,
   "metadata": {},
   "outputs": [
    {
     "data": {
      "application/vnd.plotly.v1+json": {
       "config": {
        "plotlyServerURL": "https://plot.ly"
       },
       "data": [
        {
         "boxmean": "sd",
         "hovertemplate": "Max: %{y.upperfence:.2f}<br>Upper Quartile: %{y.upperq:.2f}<br>Mean: %{y.mean:.2f} ± %{y.sd:.2f}<br>Median: %{y.median:.2f}<br>Lower Quartile: %{y.lowerq:.2f}<br>Min: %{y.lowerfence:.2f}<extra></extra>",
         "marker": {
          "color": "lightblue"
         },
         "name": "Pollen Total",
         "type": "box",
         "xaxis": "x",
         "y": [
          30.7751671199028,
          30.849203292458437,
          30.673698798881386,
          29.331342899491816,
          31.864648422655772,
          31.065689084269014,
          30.32853837764402,
          29.805072870498947,
          28.63178503688844,
          28.490055707059344,
          28.957290523202285,
          29.65353285311181,
          29.091254265342503,
          29.82799548671143,
          30.039427657532265,
          29.631776281767767,
          28.831543911146724,
          29.441444166818272,
          30.346248953378677,
          29.385584146374775,
          29.695698815144784,
          28.544877082953168,
          30.934792209596385,
          30.319479645012006,
          31.658846861129227,
          31.658846861129227,
          30.77368937471197,
          30.77368937471197,
          31.068073765759518,
          31.19951551699075,
          30.556581989991436,
          31.19951551699075,
          30.87532376575952,
          29.37065656943675,
          29.636428772723658,
          30.40006469072723,
          30.64623610342186,
          31.440434260373273,
          30.552084246506844,
          30.970125096008225,
          30.508840718363167,
          33.69392094728532,
          31.97015697879767,
          31.658846861129227,
          33.06469927831988,
          29.955963220474047,
          31.592552057076045,
          30.443902402452387,
          30.754406517263416,
          31.989870073212106,
          30.830511161054815,
          31.754846163640277,
          29.856015724540338,
          30.07225552525388,
          28.47608508248716,
          29.25864310055605,
          29.210329628704628,
          29.10581766517796,
          29.29362467434526,
          29.79238999596895,
          29.59396472864081,
          29.50349654409058,
          29.730712212838757,
          30.079762289696884,
          29.788004027061685,
          29.501952198063297,
          28.94070252721994,
          29.80068740722753,
          29.315685688431007,
          29.666399009807,
          31.989870073212106,
          33.65217538144764,
          30.493604040224636,
          30.319479645012006,
          31.5310582266726,
          30.319479645012006,
          30.319479645012006,
          30.319479645012006,
          30.319479645012006,
          30.319479645012006,
          30.74438192052261,
          31.658846861129227,
          31.658846861129227,
          31.658846861129227,
          31.658846861129227,
          33.69392094728532,
          33.11624540224213,
          33.11624540224213,
          31.658846861129227,
          31.127349484210313,
          33.06469927831988,
          30.34578627171163,
          32.41022308784369,
          30.552084246506844,
          32.715629736104965,
          30.183627525480755,
          31.4073642734974,
          28.63356232446604,
          28.702032293431213,
          29.8328436001563,
          29.37609342151432,
          28.997124188942035,
          29.499566936417555,
          29.492813311688305,
          29.527685003700476,
          29.295256903571147,
          29.10532824889249,
          28.97805322128852,
          28.890984259548503,
          29.098483116993684,
          29.367947111818275,
          29.856866239153007,
          29.06176927250073,
          29.234543519432055,
          29.014388316763558,
          29.949348660548853,
          28.135820096138286,
          28.847724591687253,
          29.15689983856275,
          29.82250020129509,
          30.81552661115974,
          30.81552661115974,
          30.171431512597202,
          30.319479645012006,
          30.319479645012006,
          30.689875427016112,
          30.171431512597202,
          31.187897387511757,
          30.319479645012006,
          30.319479645012006,
          30.319479645012006,
          30.319479645012006,
          30.319479645012006,
          30.319479645012006,
          30.319479645012006,
          31.658846861129227,
          30.319479645012006,
          31.658846861129227,
          31.658846861129227,
          31.658846861129227,
          30.77368937471197,
          31.658846861129227,
          32.15233941095024,
          28.211361004063015
         ],
         "yaxis": "y"
        },
        {
         "boxmean": "sd",
         "hovertemplate": "Max: %{y.upperfence:.2f}<br>Upper Quartile: %{y.upperq:.2f}<br>Mean: %{y.mean:.2f} ± %{y.sd:.2f}<br>Median: %{y.median:.2f}<br>Lower Quartile: %{y.lowerq:.2f}<br>Min: %{y.lowerfence:.2f}<extra></extra>",
         "marker": {
          "color": "lightcoral"
         },
         "name": "Air Temperature (°C)",
         "type": "box",
         "xaxis": "x2",
         "y": [
          13.5,
          13.3,
          13.5,
          14,
          15.1,
          16.6,
          18.9,
          20.3,
          21,
          21.1,
          21.4,
          21.5,
          21.4,
          20.9,
          21.2,
          20.1,
          18.5,
          18.6,
          18,
          16.3,
          14.9,
          12.9,
          12,
          9.9,
          8.6,
          8.6,
          8.8,
          9,
          9.3,
          9.4,
          9.7,
          9.6,
          9.9,
          10.6,
          10.7,
          10.7,
          10.3,
          10.8,
          11,
          11.7,
          12.2,
          11.3,
          11.7,
          11.7,
          12.4,
          12.5,
          12.6,
          13.4,
          13.5,
          13.5,
          13.6,
          14.4,
          15.2,
          17.3,
          19.7,
          20.8,
          21.1,
          21.3,
          21.1,
          21.3,
          20.8,
          20.7,
          20.5,
          20.4,
          20.1,
          19.3,
          18.5,
          17.2,
          16.1,
          15.2,
          13.5,
          12.7,
          12.2,
          11.9,
          11.5,
          10.9,
          9.7,
          9.4,
          9.8,
          9.9,
          10,
          10.3,
          10.7,
          11.3,
          11.6,
          11.8,
          11.7,
          11.7,
          12,
          12.3,
          12.4,
          12.8,
          12.3,
          12.2,
          12.8,
          12.9,
          12.7,
          13.1,
          14,
          15.8,
          16.8,
          17.6,
          19.5,
          20.9,
          23.2,
          22.3,
          22.4,
          22.4,
          22.6,
          22.3,
          22.5,
          22.1,
          21,
          19.9,
          18.5,
          17.4,
          16.5,
          15.4,
          13.5,
          12.3,
          10.5,
          10,
          8.9,
          8.9,
          8.5,
          8.7,
          9.2,
          9.3,
          9.3,
          9,
          9.4,
          9.5,
          9.8,
          10.2,
          10.5,
          10.5,
          11,
          11.1,
          11.4,
          11.6,
          11.6,
          12.2,
          12.4,
          12.6
         ],
         "yaxis": "y2"
        },
        {
         "boxmean": "sd",
         "hovertemplate": "Max: %{y.upperfence:.2f}<br>Upper Quartile: %{y.upperq:.2f}<br>Mean: %{y.mean:.2f} ± %{y.sd:.2f}<br>Median: %{y.median:.2f}<br>Lower Quartile: %{y.lowerq:.2f}<br>Min: %{y.lowerfence:.2f}<extra></extra>",
         "marker": {
          "color": "lightgreen"
         },
         "name": "Relative Humidity (%)",
         "type": "box",
         "xaxis": "x3",
         "y": [
          97,
          96,
          93,
          92,
          87,
          80,
          68,
          63,
          64,
          63,
          59,
          57,
          59,
          66,
          68,
          70,
          73,
          73,
          74,
          84,
          88,
          91,
          94,
          100,
          99,
          99,
          98,
          98,
          97,
          96,
          95,
          96,
          95,
          91,
          91,
          93,
          97,
          98,
          97,
          94,
          97,
          99,
          99,
          99,
          99,
          98,
          97,
          97,
          94,
          93,
          94,
          92,
          87,
          79,
          68,
          62,
          57,
          56,
          58,
          58,
          58,
          58,
          62,
          60,
          61,
          64,
          66,
          69,
          77,
          83,
          93,
          100,
          100,
          100,
          100,
          100,
          100,
          100,
          100,
          100,
          100,
          99,
          99,
          99,
          99,
          99,
          99,
          99,
          99,
          98,
          99,
          99,
          99,
          97,
          97,
          97,
          95,
          94,
          88,
          81,
          75,
          70,
          63,
          59,
          40,
          40,
          41,
          42,
          42,
          42,
          50,
          56,
          57,
          62,
          61,
          74,
          72,
          76,
          84,
          88,
          95,
          95,
          100,
          100,
          100,
          100,
          100,
          100,
          100,
          100,
          100,
          100,
          100,
          100,
          100,
          99,
          100,
          99,
          99,
          99,
          98,
          99,
          98,
          97
         ],
         "yaxis": "y3"
        }
       ],
       "layout": {
        "annotations": [
         {
          "font": {
           "size": 16
          },
          "showarrow": false,
          "text": "Pollen Total",
          "x": 0.14444444444444446,
          "xanchor": "center",
          "xref": "paper",
          "y": 1,
          "yanchor": "bottom",
          "yref": "paper"
         },
         {
          "font": {
           "size": 16
          },
          "showarrow": false,
          "text": "Air Temperature (°C)",
          "x": 0.5,
          "xanchor": "center",
          "xref": "paper",
          "y": 1,
          "yanchor": "bottom",
          "yref": "paper"
         },
         {
          "font": {
           "size": 16
          },
          "showarrow": false,
          "text": "Relative Humidity (%)",
          "x": 0.8555555555555556,
          "xanchor": "center",
          "xref": "paper",
          "y": 1,
          "yanchor": "bottom",
          "yref": "paper"
         }
        ],
        "font": {
         "color": "black",
         "family": "Arial, sans-serif",
         "size": 12
        },
        "legend": {
         "title": {
          "text": "Variables"
         },
         "x": 1,
         "y": 0.5
        },
        "margin": {
         "b": 20,
         "l": 20,
         "r": 20,
         "t": 80
        },
        "paper_bgcolor": "white",
        "plot_bgcolor": "white",
        "showlegend": true,
        "template": {
         "data": {
          "bar": [
           {
            "error_x": {
             "color": "#2a3f5f"
            },
            "error_y": {
             "color": "#2a3f5f"
            },
            "marker": {
             "line": {
              "color": "#E5ECF6",
              "width": 0.5
             },
             "pattern": {
              "fillmode": "overlay",
              "size": 10,
              "solidity": 0.2
             }
            },
            "type": "bar"
           }
          ],
          "barpolar": [
           {
            "marker": {
             "line": {
              "color": "#E5ECF6",
              "width": 0.5
             },
             "pattern": {
              "fillmode": "overlay",
              "size": 10,
              "solidity": 0.2
             }
            },
            "type": "barpolar"
           }
          ],
          "carpet": [
           {
            "aaxis": {
             "endlinecolor": "#2a3f5f",
             "gridcolor": "white",
             "linecolor": "white",
             "minorgridcolor": "white",
             "startlinecolor": "#2a3f5f"
            },
            "baxis": {
             "endlinecolor": "#2a3f5f",
             "gridcolor": "white",
             "linecolor": "white",
             "minorgridcolor": "white",
             "startlinecolor": "#2a3f5f"
            },
            "type": "carpet"
           }
          ],
          "choropleth": [
           {
            "colorbar": {
             "outlinewidth": 0,
             "ticks": ""
            },
            "type": "choropleth"
           }
          ],
          "contour": [
           {
            "colorbar": {
             "outlinewidth": 0,
             "ticks": ""
            },
            "colorscale": [
             [
              0,
              "#0d0887"
             ],
             [
              0.1111111111111111,
              "#46039f"
             ],
             [
              0.2222222222222222,
              "#7201a8"
             ],
             [
              0.3333333333333333,
              "#9c179e"
             ],
             [
              0.4444444444444444,
              "#bd3786"
             ],
             [
              0.5555555555555556,
              "#d8576b"
             ],
             [
              0.6666666666666666,
              "#ed7953"
             ],
             [
              0.7777777777777778,
              "#fb9f3a"
             ],
             [
              0.8888888888888888,
              "#fdca26"
             ],
             [
              1,
              "#f0f921"
             ]
            ],
            "type": "contour"
           }
          ],
          "contourcarpet": [
           {
            "colorbar": {
             "outlinewidth": 0,
             "ticks": ""
            },
            "type": "contourcarpet"
           }
          ],
          "heatmap": [
           {
            "colorbar": {
             "outlinewidth": 0,
             "ticks": ""
            },
            "colorscale": [
             [
              0,
              "#0d0887"
             ],
             [
              0.1111111111111111,
              "#46039f"
             ],
             [
              0.2222222222222222,
              "#7201a8"
             ],
             [
              0.3333333333333333,
              "#9c179e"
             ],
             [
              0.4444444444444444,
              "#bd3786"
             ],
             [
              0.5555555555555556,
              "#d8576b"
             ],
             [
              0.6666666666666666,
              "#ed7953"
             ],
             [
              0.7777777777777778,
              "#fb9f3a"
             ],
             [
              0.8888888888888888,
              "#fdca26"
             ],
             [
              1,
              "#f0f921"
             ]
            ],
            "type": "heatmap"
           }
          ],
          "heatmapgl": [
           {
            "colorbar": {
             "outlinewidth": 0,
             "ticks": ""
            },
            "colorscale": [
             [
              0,
              "#0d0887"
             ],
             [
              0.1111111111111111,
              "#46039f"
             ],
             [
              0.2222222222222222,
              "#7201a8"
             ],
             [
              0.3333333333333333,
              "#9c179e"
             ],
             [
              0.4444444444444444,
              "#bd3786"
             ],
             [
              0.5555555555555556,
              "#d8576b"
             ],
             [
              0.6666666666666666,
              "#ed7953"
             ],
             [
              0.7777777777777778,
              "#fb9f3a"
             ],
             [
              0.8888888888888888,
              "#fdca26"
             ],
             [
              1,
              "#f0f921"
             ]
            ],
            "type": "heatmapgl"
           }
          ],
          "histogram": [
           {
            "marker": {
             "pattern": {
              "fillmode": "overlay",
              "size": 10,
              "solidity": 0.2
             }
            },
            "type": "histogram"
           }
          ],
          "histogram2d": [
           {
            "colorbar": {
             "outlinewidth": 0,
             "ticks": ""
            },
            "colorscale": [
             [
              0,
              "#0d0887"
             ],
             [
              0.1111111111111111,
              "#46039f"
             ],
             [
              0.2222222222222222,
              "#7201a8"
             ],
             [
              0.3333333333333333,
              "#9c179e"
             ],
             [
              0.4444444444444444,
              "#bd3786"
             ],
             [
              0.5555555555555556,
              "#d8576b"
             ],
             [
              0.6666666666666666,
              "#ed7953"
             ],
             [
              0.7777777777777778,
              "#fb9f3a"
             ],
             [
              0.8888888888888888,
              "#fdca26"
             ],
             [
              1,
              "#f0f921"
             ]
            ],
            "type": "histogram2d"
           }
          ],
          "histogram2dcontour": [
           {
            "colorbar": {
             "outlinewidth": 0,
             "ticks": ""
            },
            "colorscale": [
             [
              0,
              "#0d0887"
             ],
             [
              0.1111111111111111,
              "#46039f"
             ],
             [
              0.2222222222222222,
              "#7201a8"
             ],
             [
              0.3333333333333333,
              "#9c179e"
             ],
             [
              0.4444444444444444,
              "#bd3786"
             ],
             [
              0.5555555555555556,
              "#d8576b"
             ],
             [
              0.6666666666666666,
              "#ed7953"
             ],
             [
              0.7777777777777778,
              "#fb9f3a"
             ],
             [
              0.8888888888888888,
              "#fdca26"
             ],
             [
              1,
              "#f0f921"
             ]
            ],
            "type": "histogram2dcontour"
           }
          ],
          "mesh3d": [
           {
            "colorbar": {
             "outlinewidth": 0,
             "ticks": ""
            },
            "type": "mesh3d"
           }
          ],
          "parcoords": [
           {
            "line": {
             "colorbar": {
              "outlinewidth": 0,
              "ticks": ""
             }
            },
            "type": "parcoords"
           }
          ],
          "pie": [
           {
            "automargin": true,
            "type": "pie"
           }
          ],
          "scatter": [
           {
            "fillpattern": {
             "fillmode": "overlay",
             "size": 10,
             "solidity": 0.2
            },
            "type": "scatter"
           }
          ],
          "scatter3d": [
           {
            "line": {
             "colorbar": {
              "outlinewidth": 0,
              "ticks": ""
             }
            },
            "marker": {
             "colorbar": {
              "outlinewidth": 0,
              "ticks": ""
             }
            },
            "type": "scatter3d"
           }
          ],
          "scattercarpet": [
           {
            "marker": {
             "colorbar": {
              "outlinewidth": 0,
              "ticks": ""
             }
            },
            "type": "scattercarpet"
           }
          ],
          "scattergeo": [
           {
            "marker": {
             "colorbar": {
              "outlinewidth": 0,
              "ticks": ""
             }
            },
            "type": "scattergeo"
           }
          ],
          "scattergl": [
           {
            "marker": {
             "colorbar": {
              "outlinewidth": 0,
              "ticks": ""
             }
            },
            "type": "scattergl"
           }
          ],
          "scattermapbox": [
           {
            "marker": {
             "colorbar": {
              "outlinewidth": 0,
              "ticks": ""
             }
            },
            "type": "scattermapbox"
           }
          ],
          "scatterpolar": [
           {
            "marker": {
             "colorbar": {
              "outlinewidth": 0,
              "ticks": ""
             }
            },
            "type": "scatterpolar"
           }
          ],
          "scatterpolargl": [
           {
            "marker": {
             "colorbar": {
              "outlinewidth": 0,
              "ticks": ""
             }
            },
            "type": "scatterpolargl"
           }
          ],
          "scatterternary": [
           {
            "marker": {
             "colorbar": {
              "outlinewidth": 0,
              "ticks": ""
             }
            },
            "type": "scatterternary"
           }
          ],
          "surface": [
           {
            "colorbar": {
             "outlinewidth": 0,
             "ticks": ""
            },
            "colorscale": [
             [
              0,
              "#0d0887"
             ],
             [
              0.1111111111111111,
              "#46039f"
             ],
             [
              0.2222222222222222,
              "#7201a8"
             ],
             [
              0.3333333333333333,
              "#9c179e"
             ],
             [
              0.4444444444444444,
              "#bd3786"
             ],
             [
              0.5555555555555556,
              "#d8576b"
             ],
             [
              0.6666666666666666,
              "#ed7953"
             ],
             [
              0.7777777777777778,
              "#fb9f3a"
             ],
             [
              0.8888888888888888,
              "#fdca26"
             ],
             [
              1,
              "#f0f921"
             ]
            ],
            "type": "surface"
           }
          ],
          "table": [
           {
            "cells": {
             "fill": {
              "color": "#EBF0F8"
             },
             "line": {
              "color": "white"
             }
            },
            "header": {
             "fill": {
              "color": "#C8D4E3"
             },
             "line": {
              "color": "white"
             }
            },
            "type": "table"
           }
          ]
         },
         "layout": {
          "annotationdefaults": {
           "arrowcolor": "#2a3f5f",
           "arrowhead": 0,
           "arrowwidth": 1
          },
          "autotypenumbers": "strict",
          "coloraxis": {
           "colorbar": {
            "outlinewidth": 0,
            "ticks": ""
           }
          },
          "colorscale": {
           "diverging": [
            [
             0,
             "#8e0152"
            ],
            [
             0.1,
             "#c51b7d"
            ],
            [
             0.2,
             "#de77ae"
            ],
            [
             0.3,
             "#f1b6da"
            ],
            [
             0.4,
             "#fde0ef"
            ],
            [
             0.5,
             "#f7f7f7"
            ],
            [
             0.6,
             "#e6f5d0"
            ],
            [
             0.7,
             "#b8e186"
            ],
            [
             0.8,
             "#7fbc41"
            ],
            [
             0.9,
             "#4d9221"
            ],
            [
             1,
             "#276419"
            ]
           ],
           "sequential": [
            [
             0,
             "#0d0887"
            ],
            [
             0.1111111111111111,
             "#46039f"
            ],
            [
             0.2222222222222222,
             "#7201a8"
            ],
            [
             0.3333333333333333,
             "#9c179e"
            ],
            [
             0.4444444444444444,
             "#bd3786"
            ],
            [
             0.5555555555555556,
             "#d8576b"
            ],
            [
             0.6666666666666666,
             "#ed7953"
            ],
            [
             0.7777777777777778,
             "#fb9f3a"
            ],
            [
             0.8888888888888888,
             "#fdca26"
            ],
            [
             1,
             "#f0f921"
            ]
           ],
           "sequentialminus": [
            [
             0,
             "#0d0887"
            ],
            [
             0.1111111111111111,
             "#46039f"
            ],
            [
             0.2222222222222222,
             "#7201a8"
            ],
            [
             0.3333333333333333,
             "#9c179e"
            ],
            [
             0.4444444444444444,
             "#bd3786"
            ],
            [
             0.5555555555555556,
             "#d8576b"
            ],
            [
             0.6666666666666666,
             "#ed7953"
            ],
            [
             0.7777777777777778,
             "#fb9f3a"
            ],
            [
             0.8888888888888888,
             "#fdca26"
            ],
            [
             1,
             "#f0f921"
            ]
           ]
          },
          "colorway": [
           "#636efa",
           "#EF553B",
           "#00cc96",
           "#ab63fa",
           "#FFA15A",
           "#19d3f3",
           "#FF6692",
           "#B6E880",
           "#FF97FF",
           "#FECB52"
          ],
          "font": {
           "color": "#2a3f5f"
          },
          "geo": {
           "bgcolor": "white",
           "lakecolor": "white",
           "landcolor": "#E5ECF6",
           "showlakes": true,
           "showland": true,
           "subunitcolor": "white"
          },
          "hoverlabel": {
           "align": "left"
          },
          "hovermode": "closest",
          "mapbox": {
           "style": "light"
          },
          "paper_bgcolor": "white",
          "plot_bgcolor": "#E5ECF6",
          "polar": {
           "angularaxis": {
            "gridcolor": "white",
            "linecolor": "white",
            "ticks": ""
           },
           "bgcolor": "#E5ECF6",
           "radialaxis": {
            "gridcolor": "white",
            "linecolor": "white",
            "ticks": ""
           }
          },
          "scene": {
           "xaxis": {
            "backgroundcolor": "#E5ECF6",
            "gridcolor": "white",
            "gridwidth": 2,
            "linecolor": "white",
            "showbackground": true,
            "ticks": "",
            "zerolinecolor": "white"
           },
           "yaxis": {
            "backgroundcolor": "#E5ECF6",
            "gridcolor": "white",
            "gridwidth": 2,
            "linecolor": "white",
            "showbackground": true,
            "ticks": "",
            "zerolinecolor": "white"
           },
           "zaxis": {
            "backgroundcolor": "#E5ECF6",
            "gridcolor": "white",
            "gridwidth": 2,
            "linecolor": "white",
            "showbackground": true,
            "ticks": "",
            "zerolinecolor": "white"
           }
          },
          "shapedefaults": {
           "line": {
            "color": "#2a3f5f"
           }
          },
          "ternary": {
           "aaxis": {
            "gridcolor": "white",
            "linecolor": "white",
            "ticks": ""
           },
           "baxis": {
            "gridcolor": "white",
            "linecolor": "white",
            "ticks": ""
           },
           "bgcolor": "#E5ECF6",
           "caxis": {
            "gridcolor": "white",
            "linecolor": "white",
            "ticks": ""
           }
          },
          "title": {
           "x": 0.05
          },
          "xaxis": {
           "automargin": true,
           "gridcolor": "white",
           "linecolor": "white",
           "ticks": "",
           "title": {
            "standoff": 15
           },
           "zerolinecolor": "white",
           "zerolinewidth": 2
          },
          "yaxis": {
           "automargin": true,
           "gridcolor": "white",
           "linecolor": "white",
           "ticks": "",
           "title": {
            "standoff": 15
           },
           "zerolinecolor": "white",
           "zerolinewidth": 2
          }
         }
        },
        "title": {
         "text": "Box Plots of Pollen Total, Air Temperature, and Relative Humidity",
         "x": 0.5,
         "xanchor": "center",
         "y": 0.95,
         "yanchor": "top"
        },
        "xaxis": {
         "anchor": "y",
         "domain": [
          0,
          0.2888888888888889
         ],
         "gridcolor": "LightGray",
         "showgrid": true
        },
        "xaxis2": {
         "anchor": "y2",
         "domain": [
          0.35555555555555557,
          0.6444444444444445
         ]
        },
        "xaxis3": {
         "anchor": "y3",
         "domain": [
          0.7111111111111111,
          1
         ]
        },
        "yaxis": {
         "anchor": "x",
         "domain": [
          0,
          1
         ],
         "gridcolor": "LightGray",
         "showgrid": true
        },
        "yaxis2": {
         "anchor": "x2",
         "domain": [
          0,
          1
         ]
        },
        "yaxis3": {
         "anchor": "x3",
         "domain": [
          0,
          1
         ]
        }
       }
      }
     },
     "metadata": {},
     "output_type": "display_data"
    }
   ],
   "source": [
    "# 创建子图\n",
    "fig_box = make_subplots(rows=1, cols=3, subplot_titles=(\"Pollen Total\", \"Air Temperature (°C)\", \"Relative Humidity (%)\"))\n",
    "\n",
    "# 添加花粉总量的盒须图\n",
    "fig_box.add_trace(go.Box(\n",
    "    y=df['pollen_total'], \n",
    "    name='Pollen Total', \n",
    "    marker_color='lightblue', \n",
    "    boxmean='sd',\n",
    "    hovertemplate='Max: %{y.upperfence:.2f}<br>Upper Quartile: %{y.upperq:.2f}<br>Mean: %{y.mean:.2f} ± %{y.sd:.2f}<br>Median: %{y.median:.2f}<br>Lower Quartile: %{y.lowerq:.2f}<br>Min: %{y.lowerfence:.2f}<extra></extra>'\n",
    "), row=1, col=1)\n",
    "\n",
    "# 添加空气温度的盒须图\n",
    "fig_box.add_trace(go.Box(\n",
    "    y=df['air_temp'], \n",
    "    name='Air Temperature (°C)', \n",
    "    marker_color='lightcoral', \n",
    "    boxmean='sd',\n",
    "    hovertemplate='Max: %{y.upperfence:.2f}<br>Upper Quartile: %{y.upperq:.2f}<br>Mean: %{y.mean:.2f} ± %{y.sd:.2f}<br>Median: %{y.median:.2f}<br>Lower Quartile: %{y.lowerq:.2f}<br>Min: %{y.lowerfence:.2f}<extra></extra>'\n",
    "), row=1, col=2)\n",
    "\n",
    "# 添加相对湿度的盒须图\n",
    "fig_box.add_trace(go.Box(\n",
    "    y=df['rel_hum'], \n",
    "    name='Relative Humidity (%)', \n",
    "    marker_color='lightgreen', \n",
    "    boxmean='sd',\n",
    "    hovertemplate='Max: %{y.upperfence:.2f}<br>Upper Quartile: %{y.upperq:.2f}<br>Mean: %{y.mean:.2f} ± %{y.sd:.2f}<br>Median: %{y.median:.2f}<br>Lower Quartile: %{y.lowerq:.2f}<br>Min: %{y.lowerfence:.2f}<extra></extra>'\n",
    "), row=1, col=3)\n",
    "\n",
    "# 更新布局\n",
    "fig_box.update_layout(\n",
    "    title={\n",
    "        'text': 'Box Plots of Pollen Total, Air Temperature, and Relative Humidity',\n",
    "        'y':0.95,\n",
    "        'x':0.5,\n",
    "        'xanchor': 'center',\n",
    "        'yanchor': 'top'\n",
    "    },\n",
    "    plot_bgcolor='white',\n",
    "    font=dict(family=\"Arial, sans-serif\", size=12, color=\"black\"),\n",
    "    showlegend=True,\n",
    "    legend=dict(title='Variables', x=1, y=0.5)\n",
    ")\n",
    "\n",
    "# 调整子图之间的间距\n",
    "fig_box.update_layout(\n",
    "    margin=dict(l=20, r=20, t=80, b=20),\n",
    "    paper_bgcolor='white',\n",
    "    xaxis=dict(showgrid=True, gridcolor='LightGray'),\n",
    "    yaxis=dict(showgrid=True, gridcolor='LightGray')\n",
    ")\n",
    "\n",
    "# 显示图表\n",
    "fig_box.show()\n"
   ]
  },
  {
   "cell_type": "code",
   "execution_count": 267,
   "metadata": {},
   "outputs": [
    {
     "data": {
      "application/vnd.plotly.v1+json": {
       "config": {
        "plotlyServerURL": "https://plot.ly"
       },
       "data": [
        {
         "alignmentgroup": "True",
         "bingroup": "x",
         "hovertemplate": "<b>Pollen Total:</b> %{x:.2f}<br><b>Count:</b> %{y}<extra></extra>",
         "legendgroup": "",
         "marker": {
          "color": "#1E90FF",
          "line": {
           "color": "#000000",
           "width": 1
          },
          "pattern": {
           "shape": ""
          }
         },
         "name": "",
         "nbinsx": 20,
         "offsetgroup": "",
         "orientation": "v",
         "showlegend": false,
         "type": "histogram",
         "x": [
          30.7751671199028,
          30.849203292458437,
          30.673698798881386,
          29.331342899491816,
          31.864648422655772,
          31.065689084269014,
          30.32853837764402,
          29.805072870498947,
          28.63178503688844,
          28.490055707059344,
          28.957290523202285,
          29.65353285311181,
          29.091254265342503,
          29.82799548671143,
          30.039427657532265,
          29.631776281767767,
          28.831543911146724,
          29.441444166818272,
          30.346248953378677,
          29.385584146374775,
          29.695698815144784,
          28.544877082953168,
          30.934792209596385,
          30.319479645012006,
          31.658846861129227,
          31.658846861129227,
          30.77368937471197,
          30.77368937471197,
          31.068073765759518,
          31.19951551699075,
          30.556581989991436,
          31.19951551699075,
          30.87532376575952,
          29.37065656943675,
          29.636428772723658,
          30.40006469072723,
          30.64623610342186,
          31.440434260373273,
          30.552084246506844,
          30.970125096008225,
          30.508840718363167,
          33.69392094728532,
          31.97015697879767,
          31.658846861129227,
          33.06469927831988,
          29.955963220474047,
          31.592552057076045,
          30.443902402452387,
          30.754406517263416,
          31.989870073212106,
          30.830511161054815,
          31.754846163640277,
          29.856015724540338,
          30.07225552525388,
          28.47608508248716,
          29.25864310055605,
          29.210329628704628,
          29.10581766517796,
          29.29362467434526,
          29.79238999596895,
          29.59396472864081,
          29.50349654409058,
          29.730712212838757,
          30.079762289696884,
          29.788004027061685,
          29.501952198063297,
          28.94070252721994,
          29.80068740722753,
          29.315685688431007,
          29.666399009807,
          31.989870073212106,
          33.65217538144764,
          30.493604040224636,
          30.319479645012006,
          31.5310582266726,
          30.319479645012006,
          30.319479645012006,
          30.319479645012006,
          30.319479645012006,
          30.319479645012006,
          30.74438192052261,
          31.658846861129227,
          31.658846861129227,
          31.658846861129227,
          31.658846861129227,
          33.69392094728532,
          33.11624540224213,
          33.11624540224213,
          31.658846861129227,
          31.127349484210313,
          33.06469927831988,
          30.34578627171163,
          32.41022308784369,
          30.552084246506844,
          32.715629736104965,
          30.183627525480755,
          31.4073642734974,
          28.63356232446604,
          28.702032293431213,
          29.8328436001563,
          29.37609342151432,
          28.997124188942035,
          29.499566936417555,
          29.492813311688305,
          29.527685003700476,
          29.295256903571147,
          29.10532824889249,
          28.97805322128852,
          28.890984259548503,
          29.098483116993684,
          29.367947111818275,
          29.856866239153007,
          29.06176927250073,
          29.234543519432055,
          29.014388316763558,
          29.949348660548853,
          28.135820096138286,
          28.847724591687253,
          29.15689983856275,
          29.82250020129509,
          30.81552661115974,
          30.81552661115974,
          30.171431512597202,
          30.319479645012006,
          30.319479645012006,
          30.689875427016112,
          30.171431512597202,
          31.187897387511757,
          30.319479645012006,
          30.319479645012006,
          30.319479645012006,
          30.319479645012006,
          30.319479645012006,
          30.319479645012006,
          30.319479645012006,
          31.658846861129227,
          30.319479645012006,
          31.658846861129227,
          31.658846861129227,
          31.658846861129227,
          30.77368937471197,
          31.658846861129227,
          32.15233941095024,
          28.211361004063015
         ],
         "xaxis": "x",
         "yaxis": "y"
        }
       ],
       "layout": {
        "barmode": "relative",
        "font": {
         "color": "black",
         "family": "Arial, sans-serif",
         "size": 12
        },
        "legend": {
         "tracegroupgap": 0
        },
        "paper_bgcolor": "white",
        "plot_bgcolor": "white",
        "template": {
         "data": {
          "bar": [
           {
            "error_x": {
             "color": "#2a3f5f"
            },
            "error_y": {
             "color": "#2a3f5f"
            },
            "marker": {
             "line": {
              "color": "#E5ECF6",
              "width": 0.5
             },
             "pattern": {
              "fillmode": "overlay",
              "size": 10,
              "solidity": 0.2
             }
            },
            "type": "bar"
           }
          ],
          "barpolar": [
           {
            "marker": {
             "line": {
              "color": "#E5ECF6",
              "width": 0.5
             },
             "pattern": {
              "fillmode": "overlay",
              "size": 10,
              "solidity": 0.2
             }
            },
            "type": "barpolar"
           }
          ],
          "carpet": [
           {
            "aaxis": {
             "endlinecolor": "#2a3f5f",
             "gridcolor": "white",
             "linecolor": "white",
             "minorgridcolor": "white",
             "startlinecolor": "#2a3f5f"
            },
            "baxis": {
             "endlinecolor": "#2a3f5f",
             "gridcolor": "white",
             "linecolor": "white",
             "minorgridcolor": "white",
             "startlinecolor": "#2a3f5f"
            },
            "type": "carpet"
           }
          ],
          "choropleth": [
           {
            "colorbar": {
             "outlinewidth": 0,
             "ticks": ""
            },
            "type": "choropleth"
           }
          ],
          "contour": [
           {
            "colorbar": {
             "outlinewidth": 0,
             "ticks": ""
            },
            "colorscale": [
             [
              0,
              "#0d0887"
             ],
             [
              0.1111111111111111,
              "#46039f"
             ],
             [
              0.2222222222222222,
              "#7201a8"
             ],
             [
              0.3333333333333333,
              "#9c179e"
             ],
             [
              0.4444444444444444,
              "#bd3786"
             ],
             [
              0.5555555555555556,
              "#d8576b"
             ],
             [
              0.6666666666666666,
              "#ed7953"
             ],
             [
              0.7777777777777778,
              "#fb9f3a"
             ],
             [
              0.8888888888888888,
              "#fdca26"
             ],
             [
              1,
              "#f0f921"
             ]
            ],
            "type": "contour"
           }
          ],
          "contourcarpet": [
           {
            "colorbar": {
             "outlinewidth": 0,
             "ticks": ""
            },
            "type": "contourcarpet"
           }
          ],
          "heatmap": [
           {
            "colorbar": {
             "outlinewidth": 0,
             "ticks": ""
            },
            "colorscale": [
             [
              0,
              "#0d0887"
             ],
             [
              0.1111111111111111,
              "#46039f"
             ],
             [
              0.2222222222222222,
              "#7201a8"
             ],
             [
              0.3333333333333333,
              "#9c179e"
             ],
             [
              0.4444444444444444,
              "#bd3786"
             ],
             [
              0.5555555555555556,
              "#d8576b"
             ],
             [
              0.6666666666666666,
              "#ed7953"
             ],
             [
              0.7777777777777778,
              "#fb9f3a"
             ],
             [
              0.8888888888888888,
              "#fdca26"
             ],
             [
              1,
              "#f0f921"
             ]
            ],
            "type": "heatmap"
           }
          ],
          "heatmapgl": [
           {
            "colorbar": {
             "outlinewidth": 0,
             "ticks": ""
            },
            "colorscale": [
             [
              0,
              "#0d0887"
             ],
             [
              0.1111111111111111,
              "#46039f"
             ],
             [
              0.2222222222222222,
              "#7201a8"
             ],
             [
              0.3333333333333333,
              "#9c179e"
             ],
             [
              0.4444444444444444,
              "#bd3786"
             ],
             [
              0.5555555555555556,
              "#d8576b"
             ],
             [
              0.6666666666666666,
              "#ed7953"
             ],
             [
              0.7777777777777778,
              "#fb9f3a"
             ],
             [
              0.8888888888888888,
              "#fdca26"
             ],
             [
              1,
              "#f0f921"
             ]
            ],
            "type": "heatmapgl"
           }
          ],
          "histogram": [
           {
            "marker": {
             "pattern": {
              "fillmode": "overlay",
              "size": 10,
              "solidity": 0.2
             }
            },
            "type": "histogram"
           }
          ],
          "histogram2d": [
           {
            "colorbar": {
             "outlinewidth": 0,
             "ticks": ""
            },
            "colorscale": [
             [
              0,
              "#0d0887"
             ],
             [
              0.1111111111111111,
              "#46039f"
             ],
             [
              0.2222222222222222,
              "#7201a8"
             ],
             [
              0.3333333333333333,
              "#9c179e"
             ],
             [
              0.4444444444444444,
              "#bd3786"
             ],
             [
              0.5555555555555556,
              "#d8576b"
             ],
             [
              0.6666666666666666,
              "#ed7953"
             ],
             [
              0.7777777777777778,
              "#fb9f3a"
             ],
             [
              0.8888888888888888,
              "#fdca26"
             ],
             [
              1,
              "#f0f921"
             ]
            ],
            "type": "histogram2d"
           }
          ],
          "histogram2dcontour": [
           {
            "colorbar": {
             "outlinewidth": 0,
             "ticks": ""
            },
            "colorscale": [
             [
              0,
              "#0d0887"
             ],
             [
              0.1111111111111111,
              "#46039f"
             ],
             [
              0.2222222222222222,
              "#7201a8"
             ],
             [
              0.3333333333333333,
              "#9c179e"
             ],
             [
              0.4444444444444444,
              "#bd3786"
             ],
             [
              0.5555555555555556,
              "#d8576b"
             ],
             [
              0.6666666666666666,
              "#ed7953"
             ],
             [
              0.7777777777777778,
              "#fb9f3a"
             ],
             [
              0.8888888888888888,
              "#fdca26"
             ],
             [
              1,
              "#f0f921"
             ]
            ],
            "type": "histogram2dcontour"
           }
          ],
          "mesh3d": [
           {
            "colorbar": {
             "outlinewidth": 0,
             "ticks": ""
            },
            "type": "mesh3d"
           }
          ],
          "parcoords": [
           {
            "line": {
             "colorbar": {
              "outlinewidth": 0,
              "ticks": ""
             }
            },
            "type": "parcoords"
           }
          ],
          "pie": [
           {
            "automargin": true,
            "type": "pie"
           }
          ],
          "scatter": [
           {
            "fillpattern": {
             "fillmode": "overlay",
             "size": 10,
             "solidity": 0.2
            },
            "type": "scatter"
           }
          ],
          "scatter3d": [
           {
            "line": {
             "colorbar": {
              "outlinewidth": 0,
              "ticks": ""
             }
            },
            "marker": {
             "colorbar": {
              "outlinewidth": 0,
              "ticks": ""
             }
            },
            "type": "scatter3d"
           }
          ],
          "scattercarpet": [
           {
            "marker": {
             "colorbar": {
              "outlinewidth": 0,
              "ticks": ""
             }
            },
            "type": "scattercarpet"
           }
          ],
          "scattergeo": [
           {
            "marker": {
             "colorbar": {
              "outlinewidth": 0,
              "ticks": ""
             }
            },
            "type": "scattergeo"
           }
          ],
          "scattergl": [
           {
            "marker": {
             "colorbar": {
              "outlinewidth": 0,
              "ticks": ""
             }
            },
            "type": "scattergl"
           }
          ],
          "scattermapbox": [
           {
            "marker": {
             "colorbar": {
              "outlinewidth": 0,
              "ticks": ""
             }
            },
            "type": "scattermapbox"
           }
          ],
          "scatterpolar": [
           {
            "marker": {
             "colorbar": {
              "outlinewidth": 0,
              "ticks": ""
             }
            },
            "type": "scatterpolar"
           }
          ],
          "scatterpolargl": [
           {
            "marker": {
             "colorbar": {
              "outlinewidth": 0,
              "ticks": ""
             }
            },
            "type": "scatterpolargl"
           }
          ],
          "scatterternary": [
           {
            "marker": {
             "colorbar": {
              "outlinewidth": 0,
              "ticks": ""
             }
            },
            "type": "scatterternary"
           }
          ],
          "surface": [
           {
            "colorbar": {
             "outlinewidth": 0,
             "ticks": ""
            },
            "colorscale": [
             [
              0,
              "#0d0887"
             ],
             [
              0.1111111111111111,
              "#46039f"
             ],
             [
              0.2222222222222222,
              "#7201a8"
             ],
             [
              0.3333333333333333,
              "#9c179e"
             ],
             [
              0.4444444444444444,
              "#bd3786"
             ],
             [
              0.5555555555555556,
              "#d8576b"
             ],
             [
              0.6666666666666666,
              "#ed7953"
             ],
             [
              0.7777777777777778,
              "#fb9f3a"
             ],
             [
              0.8888888888888888,
              "#fdca26"
             ],
             [
              1,
              "#f0f921"
             ]
            ],
            "type": "surface"
           }
          ],
          "table": [
           {
            "cells": {
             "fill": {
              "color": "#EBF0F8"
             },
             "line": {
              "color": "white"
             }
            },
            "header": {
             "fill": {
              "color": "#C8D4E3"
             },
             "line": {
              "color": "white"
             }
            },
            "type": "table"
           }
          ]
         },
         "layout": {
          "annotationdefaults": {
           "arrowcolor": "#2a3f5f",
           "arrowhead": 0,
           "arrowwidth": 1
          },
          "autotypenumbers": "strict",
          "coloraxis": {
           "colorbar": {
            "outlinewidth": 0,
            "ticks": ""
           }
          },
          "colorscale": {
           "diverging": [
            [
             0,
             "#8e0152"
            ],
            [
             0.1,
             "#c51b7d"
            ],
            [
             0.2,
             "#de77ae"
            ],
            [
             0.3,
             "#f1b6da"
            ],
            [
             0.4,
             "#fde0ef"
            ],
            [
             0.5,
             "#f7f7f7"
            ],
            [
             0.6,
             "#e6f5d0"
            ],
            [
             0.7,
             "#b8e186"
            ],
            [
             0.8,
             "#7fbc41"
            ],
            [
             0.9,
             "#4d9221"
            ],
            [
             1,
             "#276419"
            ]
           ],
           "sequential": [
            [
             0,
             "#0d0887"
            ],
            [
             0.1111111111111111,
             "#46039f"
            ],
            [
             0.2222222222222222,
             "#7201a8"
            ],
            [
             0.3333333333333333,
             "#9c179e"
            ],
            [
             0.4444444444444444,
             "#bd3786"
            ],
            [
             0.5555555555555556,
             "#d8576b"
            ],
            [
             0.6666666666666666,
             "#ed7953"
            ],
            [
             0.7777777777777778,
             "#fb9f3a"
            ],
            [
             0.8888888888888888,
             "#fdca26"
            ],
            [
             1,
             "#f0f921"
            ]
           ],
           "sequentialminus": [
            [
             0,
             "#0d0887"
            ],
            [
             0.1111111111111111,
             "#46039f"
            ],
            [
             0.2222222222222222,
             "#7201a8"
            ],
            [
             0.3333333333333333,
             "#9c179e"
            ],
            [
             0.4444444444444444,
             "#bd3786"
            ],
            [
             0.5555555555555556,
             "#d8576b"
            ],
            [
             0.6666666666666666,
             "#ed7953"
            ],
            [
             0.7777777777777778,
             "#fb9f3a"
            ],
            [
             0.8888888888888888,
             "#fdca26"
            ],
            [
             1,
             "#f0f921"
            ]
           ]
          },
          "colorway": [
           "#636efa",
           "#EF553B",
           "#00cc96",
           "#ab63fa",
           "#FFA15A",
           "#19d3f3",
           "#FF6692",
           "#B6E880",
           "#FF97FF",
           "#FECB52"
          ],
          "font": {
           "color": "#2a3f5f"
          },
          "geo": {
           "bgcolor": "white",
           "lakecolor": "white",
           "landcolor": "#E5ECF6",
           "showlakes": true,
           "showland": true,
           "subunitcolor": "white"
          },
          "hoverlabel": {
           "align": "left"
          },
          "hovermode": "closest",
          "mapbox": {
           "style": "light"
          },
          "paper_bgcolor": "white",
          "plot_bgcolor": "#E5ECF6",
          "polar": {
           "angularaxis": {
            "gridcolor": "white",
            "linecolor": "white",
            "ticks": ""
           },
           "bgcolor": "#E5ECF6",
           "radialaxis": {
            "gridcolor": "white",
            "linecolor": "white",
            "ticks": ""
           }
          },
          "scene": {
           "xaxis": {
            "backgroundcolor": "#E5ECF6",
            "gridcolor": "white",
            "gridwidth": 2,
            "linecolor": "white",
            "showbackground": true,
            "ticks": "",
            "zerolinecolor": "white"
           },
           "yaxis": {
            "backgroundcolor": "#E5ECF6",
            "gridcolor": "white",
            "gridwidth": 2,
            "linecolor": "white",
            "showbackground": true,
            "ticks": "",
            "zerolinecolor": "white"
           },
           "zaxis": {
            "backgroundcolor": "#E5ECF6",
            "gridcolor": "white",
            "gridwidth": 2,
            "linecolor": "white",
            "showbackground": true,
            "ticks": "",
            "zerolinecolor": "white"
           }
          },
          "shapedefaults": {
           "line": {
            "color": "#2a3f5f"
           }
          },
          "ternary": {
           "aaxis": {
            "gridcolor": "white",
            "linecolor": "white",
            "ticks": ""
           },
           "baxis": {
            "gridcolor": "white",
            "linecolor": "white",
            "ticks": ""
           },
           "bgcolor": "#E5ECF6",
           "caxis": {
            "gridcolor": "white",
            "linecolor": "white",
            "ticks": ""
           }
          },
          "title": {
           "x": 0.05
          },
          "xaxis": {
           "automargin": true,
           "gridcolor": "white",
           "linecolor": "white",
           "ticks": "",
           "title": {
            "standoff": 15
           },
           "zerolinecolor": "white",
           "zerolinewidth": 2
          },
          "yaxis": {
           "automargin": true,
           "gridcolor": "white",
           "linecolor": "white",
           "ticks": "",
           "title": {
            "standoff": 15
           },
           "zerolinecolor": "white",
           "zerolinewidth": 2
          }
         }
        },
        "title": {
         "text": "Distribution of Pollen Total",
         "x": 0.5
        },
        "xaxis": {
         "anchor": "y",
         "domain": [
          0,
          1
         ],
         "gridcolor": "LightGray",
         "showgrid": true,
         "title": {
          "text": "Pollen Total"
         }
        },
        "yaxis": {
         "anchor": "x",
         "domain": [
          0,
          1
         ],
         "gridcolor": "LightGray",
         "showgrid": true,
         "title": {
          "text": "count"
         }
        }
       }
      }
     },
     "metadata": {},
     "output_type": "display_data"
    }
   ],
   "source": [
    "# 花粉总量直方图\n",
    "fig_hist = px.histogram(df, x='pollen_total', nbins=20, title='Distribution of Pollen Total',\n",
    "                        labels={'pollen_total': 'Pollen Total'},\n",
    "                        color_discrete_sequence=['#1E90FF'])  \n",
    "\n",
    "# 自定义悬停信息\n",
    "fig_hist.update_traces(\n",
    "    hovertemplate='<b>Pollen Total:</b> %{x:.2f}<br><b>Count:</b> %{y}<extra></extra>',\n",
    "    marker=dict(line=dict(color='#000000', width=1))\n",
    ")\n",
    "\n",
    "# 更新布局\n",
    "fig_hist.update_layout(\n",
    "    plot_bgcolor='white',\n",
    "    paper_bgcolor='white',\n",
    "    xaxis=dict(showgrid=True, gridcolor='LightGray'),\n",
    "    yaxis=dict(showgrid=True, gridcolor='LightGray'),\n",
    "    font=dict(family=\"Arial, sans-serif\", size=12, color=\"black\"),\n",
    "    title_x=0.5\n",
    ")\n",
    "\n",
    "fig_hist.show()\n",
    "\n"
   ]
  },
  {
   "cell_type": "code",
   "execution_count": 240,
   "metadata": {},
   "outputs": [
    {
     "data": {
      "application/vnd.plotly.v1+json": {
       "config": {
        "plotlyServerURL": "https://plot.ly"
       },
       "data": [
        {
         "line": {
          "color": "gray"
         },
         "marker": {
          "color": [
           30.7751671199028,
           30.849203292458437,
           30.673698798881386,
           29.331342899491816,
           31.864648422655772,
           31.065689084269014,
           30.32853837764402,
           29.805072870498947,
           28.63178503688844,
           28.490055707059344,
           28.957290523202285,
           29.65353285311181,
           29.091254265342503,
           29.82799548671143,
           30.039427657532265,
           29.631776281767767,
           28.831543911146724,
           29.441444166818272,
           30.346248953378677,
           29.385584146374775,
           29.695698815144784,
           28.544877082953168,
           30.934792209596385,
           30.319479645012006,
           31.658846861129227,
           31.658846861129227,
           30.77368937471197,
           30.77368937471197,
           31.068073765759518,
           31.19951551699075,
           30.556581989991436,
           31.19951551699075,
           30.87532376575952,
           29.37065656943675,
           29.636428772723658,
           30.40006469072723,
           30.64623610342186,
           31.440434260373273,
           30.552084246506844,
           30.970125096008225,
           30.508840718363167,
           33.69392094728532,
           31.97015697879767,
           31.658846861129227,
           33.06469927831988,
           29.955963220474047,
           31.592552057076045,
           30.443902402452387,
           30.754406517263416,
           31.989870073212106,
           30.830511161054815,
           31.754846163640277,
           29.856015724540338,
           30.07225552525388,
           28.47608508248716,
           29.25864310055605,
           29.210329628704628,
           29.10581766517796,
           29.29362467434526,
           29.79238999596895,
           29.59396472864081,
           29.50349654409058,
           29.730712212838757,
           30.079762289696884,
           29.788004027061685,
           29.501952198063297,
           28.94070252721994,
           29.80068740722753,
           29.315685688431007,
           29.666399009807,
           31.989870073212106,
           33.65217538144764,
           30.493604040224636,
           30.319479645012006,
           31.5310582266726,
           30.319479645012006,
           30.319479645012006,
           30.319479645012006,
           30.319479645012006,
           30.319479645012006,
           30.74438192052261,
           31.658846861129227,
           31.658846861129227,
           31.658846861129227,
           31.658846861129227,
           33.69392094728532,
           33.11624540224213,
           33.11624540224213,
           31.658846861129227,
           31.127349484210313,
           33.06469927831988,
           30.34578627171163,
           32.41022308784369,
           30.552084246506844,
           32.715629736104965,
           30.183627525480755,
           31.4073642734974,
           28.63356232446604,
           28.702032293431213,
           29.8328436001563,
           29.37609342151432,
           28.997124188942035,
           29.499566936417555,
           29.492813311688305,
           29.527685003700476,
           29.295256903571147,
           29.10532824889249,
           28.97805322128852,
           28.890984259548503,
           29.098483116993684,
           29.367947111818275,
           29.856866239153007,
           29.06176927250073,
           29.234543519432055,
           29.014388316763558,
           29.949348660548853,
           28.135820096138286,
           28.847724591687253,
           29.15689983856275,
           29.82250020129509,
           30.81552661115974,
           30.81552661115974,
           30.171431512597202,
           30.319479645012006,
           30.319479645012006,
           30.689875427016112,
           30.171431512597202,
           31.187897387511757,
           30.319479645012006,
           30.319479645012006,
           30.319479645012006,
           30.319479645012006,
           30.319479645012006,
           30.319479645012006,
           30.319479645012006,
           31.658846861129227,
           30.319479645012006,
           31.658846861129227,
           31.658846861129227,
           31.658846861129227,
           30.77368937471197,
           31.658846861129227,
           32.15233941095024,
           28.211361004063015
          ],
          "colorbar": {
           "title": {
            "text": "Pollen Total"
           }
          },
          "colorscale": [
           [
            0,
            "#0d0887"
           ],
           [
            0.1111111111111111,
            "#46039f"
           ],
           [
            0.2222222222222222,
            "#7201a8"
           ],
           [
            0.3333333333333333,
            "#9c179e"
           ],
           [
            0.4444444444444444,
            "#bd3786"
           ],
           [
            0.5555555555555556,
            "#d8576b"
           ],
           [
            0.6666666666666666,
            "#ed7953"
           ],
           [
            0.7777777777777778,
            "#fb9f3a"
           ],
           [
            0.8888888888888888,
            "#fdca26"
           ],
           [
            1,
            "#f0f921"
           ]
          ],
          "showscale": true
         },
         "mode": "markers+lines",
         "name": "Pollen Total",
         "type": "scatter",
         "x": [
          "2024-05-16T19:00:00+00:00",
          "2024-05-16T19:00:00+00:00",
          "2024-05-16T18:00:00+00:00",
          "2024-05-16T18:00:00+00:00",
          "2024-05-16T17:00:00+00:00",
          "2024-05-16T17:00:00+00:00",
          "2024-05-16T16:00:00+00:00",
          "2024-05-16T16:00:00+00:00",
          "2024-05-16T15:00:00+00:00",
          "2024-05-16T15:00:00+00:00",
          "2024-05-16T14:00:00+00:00",
          "2024-05-16T14:00:00+00:00",
          "2024-05-16T13:00:00+00:00",
          "2024-05-16T13:00:00+00:00",
          "2024-05-16T12:00:00+00:00",
          "2024-05-16T12:00:00+00:00",
          "2024-05-16T11:00:00+00:00",
          "2024-05-16T11:00:00+00:00",
          "2024-05-16T10:00:00+00:00",
          "2024-05-16T10:00:00+00:00",
          "2024-05-16T09:00:00+00:00",
          "2024-05-16T09:00:00+00:00",
          "2024-05-16T08:00:00+00:00",
          "2024-05-16T08:00:00+00:00",
          "2024-05-16T07:00:00+00:00",
          "2024-05-16T07:00:00+00:00",
          "2024-05-16T06:00:00+00:00",
          "2024-05-16T06:00:00+00:00",
          "2024-05-16T05:00:00+00:00",
          "2024-05-16T05:00:00+00:00",
          "2024-05-16T04:00:00+00:00",
          "2024-05-16T04:00:00+00:00",
          "2024-05-16T03:00:00+00:00",
          "2024-05-16T03:00:00+00:00",
          "2024-05-16T02:00:00+00:00",
          "2024-05-16T02:00:00+00:00",
          "2024-05-16T01:00:00+00:00",
          "2024-05-16T01:00:00+00:00",
          "2024-05-16T00:00:00+00:00",
          "2024-05-16T00:00:00+00:00",
          "2024-05-15T23:00:00+00:00",
          "2024-05-15T23:00:00+00:00",
          "2024-05-15T22:00:00+00:00",
          "2024-05-15T22:00:00+00:00",
          "2024-05-15T21:00:00+00:00",
          "2024-05-15T21:00:00+00:00",
          "2024-05-15T20:00:00+00:00",
          "2024-05-15T20:00:00+00:00",
          "2024-05-15T19:00:00+00:00",
          "2024-05-15T19:00:00+00:00",
          "2024-05-15T18:00:00+00:00",
          "2024-05-15T18:00:00+00:00",
          "2024-05-15T17:00:00+00:00",
          "2024-05-15T17:00:00+00:00",
          "2024-05-15T16:00:00+00:00",
          "2024-05-15T16:00:00+00:00",
          "2024-05-15T15:00:00+00:00",
          "2024-05-15T15:00:00+00:00",
          "2024-05-15T14:00:00+00:00",
          "2024-05-15T14:00:00+00:00",
          "2024-05-15T13:00:00+00:00",
          "2024-05-15T13:00:00+00:00",
          "2024-05-15T12:00:00+00:00",
          "2024-05-15T12:00:00+00:00",
          "2024-05-15T11:00:00+00:00",
          "2024-05-15T11:00:00+00:00",
          "2024-05-15T10:00:00+00:00",
          "2024-05-15T10:00:00+00:00",
          "2024-05-15T09:00:00+00:00",
          "2024-05-15T09:00:00+00:00",
          "2024-05-15T08:00:00+00:00",
          "2024-05-15T08:00:00+00:00",
          "2024-05-15T07:00:00+00:00",
          "2024-05-15T07:00:00+00:00",
          "2024-05-15T06:00:00+00:00",
          "2024-05-15T06:00:00+00:00",
          "2024-05-15T05:00:00+00:00",
          "2024-05-15T05:00:00+00:00",
          "2024-05-15T04:00:00+00:00",
          "2024-05-15T04:00:00+00:00",
          "2024-05-15T03:00:00+00:00",
          "2024-05-15T03:00:00+00:00",
          "2024-05-15T02:00:00+00:00",
          "2024-05-15T02:00:00+00:00",
          "2024-05-15T01:00:00+00:00",
          "2024-05-15T01:00:00+00:00",
          "2024-05-15T00:00:00+00:00",
          "2024-05-15T00:00:00+00:00",
          "2024-05-14T23:00:00+00:00",
          "2024-05-14T23:00:00+00:00",
          "2024-05-14T22:00:00+00:00",
          "2024-05-14T22:00:00+00:00",
          "2024-05-14T21:00:00+00:00",
          "2024-05-14T21:00:00+00:00",
          "2024-05-14T20:00:00+00:00",
          "2024-05-14T20:00:00+00:00",
          "2024-05-14T19:00:00+00:00",
          "2024-05-14T19:00:00+00:00",
          "2024-05-14T18:00:00+00:00",
          "2024-05-14T18:00:00+00:00",
          "2024-05-14T17:00:00+00:00",
          "2024-05-14T17:00:00+00:00",
          "2024-05-14T16:00:00+00:00",
          "2024-05-14T16:00:00+00:00",
          "2024-05-14T15:00:00+00:00",
          "2024-05-14T15:00:00+00:00",
          "2024-05-14T14:00:00+00:00",
          "2024-05-14T14:00:00+00:00",
          "2024-05-14T13:00:00+00:00",
          "2024-05-14T13:00:00+00:00",
          "2024-05-14T12:00:00+00:00",
          "2024-05-14T12:00:00+00:00",
          "2024-05-14T11:00:00+00:00",
          "2024-05-14T11:00:00+00:00",
          "2024-05-14T10:00:00+00:00",
          "2024-05-14T10:00:00+00:00",
          "2024-05-14T09:00:00+00:00",
          "2024-05-14T09:00:00+00:00",
          "2024-05-14T08:00:00+00:00",
          "2024-05-14T08:00:00+00:00",
          "2024-05-14T07:00:00+00:00",
          "2024-05-14T07:00:00+00:00",
          "2024-05-14T06:00:00+00:00",
          "2024-05-14T06:00:00+00:00",
          "2024-05-14T05:00:00+00:00",
          "2024-05-14T05:00:00+00:00",
          "2024-05-14T04:00:00+00:00",
          "2024-05-14T04:00:00+00:00",
          "2024-05-14T03:00:00+00:00",
          "2024-05-14T03:00:00+00:00",
          "2024-05-14T02:00:00+00:00",
          "2024-05-14T02:00:00+00:00",
          "2024-05-14T01:00:00+00:00",
          "2024-05-14T01:00:00+00:00",
          "2024-05-14T00:00:00+00:00",
          "2024-05-14T00:00:00+00:00",
          "2024-05-13T23:00:00+00:00",
          "2024-05-13T23:00:00+00:00",
          "2024-05-13T22:00:00+00:00",
          "2024-05-13T22:00:00+00:00",
          "2024-05-13T21:00:00+00:00",
          "2024-05-13T21:00:00+00:00",
          "2024-05-13T20:00:00+00:00",
          "2024-05-13T20:00:00+00:00"
         ],
         "y": [
          30.7751671199028,
          30.849203292458437,
          30.673698798881386,
          29.331342899491816,
          31.864648422655772,
          31.065689084269014,
          30.32853837764402,
          29.805072870498947,
          28.63178503688844,
          28.490055707059344,
          28.957290523202285,
          29.65353285311181,
          29.091254265342503,
          29.82799548671143,
          30.039427657532265,
          29.631776281767767,
          28.831543911146724,
          29.441444166818272,
          30.346248953378677,
          29.385584146374775,
          29.695698815144784,
          28.544877082953168,
          30.934792209596385,
          30.319479645012006,
          31.658846861129227,
          31.658846861129227,
          30.77368937471197,
          30.77368937471197,
          31.068073765759518,
          31.19951551699075,
          30.556581989991436,
          31.19951551699075,
          30.87532376575952,
          29.37065656943675,
          29.636428772723658,
          30.40006469072723,
          30.64623610342186,
          31.440434260373273,
          30.552084246506844,
          30.970125096008225,
          30.508840718363167,
          33.69392094728532,
          31.97015697879767,
          31.658846861129227,
          33.06469927831988,
          29.955963220474047,
          31.592552057076045,
          30.443902402452387,
          30.754406517263416,
          31.989870073212106,
          30.830511161054815,
          31.754846163640277,
          29.856015724540338,
          30.07225552525388,
          28.47608508248716,
          29.25864310055605,
          29.210329628704628,
          29.10581766517796,
          29.29362467434526,
          29.79238999596895,
          29.59396472864081,
          29.50349654409058,
          29.730712212838757,
          30.079762289696884,
          29.788004027061685,
          29.501952198063297,
          28.94070252721994,
          29.80068740722753,
          29.315685688431007,
          29.666399009807,
          31.989870073212106,
          33.65217538144764,
          30.493604040224636,
          30.319479645012006,
          31.5310582266726,
          30.319479645012006,
          30.319479645012006,
          30.319479645012006,
          30.319479645012006,
          30.319479645012006,
          30.74438192052261,
          31.658846861129227,
          31.658846861129227,
          31.658846861129227,
          31.658846861129227,
          33.69392094728532,
          33.11624540224213,
          33.11624540224213,
          31.658846861129227,
          31.127349484210313,
          33.06469927831988,
          30.34578627171163,
          32.41022308784369,
          30.552084246506844,
          32.715629736104965,
          30.183627525480755,
          31.4073642734974,
          28.63356232446604,
          28.702032293431213,
          29.8328436001563,
          29.37609342151432,
          28.997124188942035,
          29.499566936417555,
          29.492813311688305,
          29.527685003700476,
          29.295256903571147,
          29.10532824889249,
          28.97805322128852,
          28.890984259548503,
          29.098483116993684,
          29.367947111818275,
          29.856866239153007,
          29.06176927250073,
          29.234543519432055,
          29.014388316763558,
          29.949348660548853,
          28.135820096138286,
          28.847724591687253,
          29.15689983856275,
          29.82250020129509,
          30.81552661115974,
          30.81552661115974,
          30.171431512597202,
          30.319479645012006,
          30.319479645012006,
          30.689875427016112,
          30.171431512597202,
          31.187897387511757,
          30.319479645012006,
          30.319479645012006,
          30.319479645012006,
          30.319479645012006,
          30.319479645012006,
          30.319479645012006,
          30.319479645012006,
          31.658846861129227,
          30.319479645012006,
          31.658846861129227,
          31.658846861129227,
          31.658846861129227,
          30.77368937471197,
          31.658846861129227,
          32.15233941095024,
          28.211361004063015
         ]
        }
       ],
       "layout": {
        "font": {
         "color": "black",
         "family": "Arial, sans-serif",
         "size": 12
        },
        "hovermode": "x",
        "plot_bgcolor": "rgba(0,0,0,0)",
        "template": {
         "data": {
          "bar": [
           {
            "error_x": {
             "color": "#2a3f5f"
            },
            "error_y": {
             "color": "#2a3f5f"
            },
            "marker": {
             "line": {
              "color": "#E5ECF6",
              "width": 0.5
             },
             "pattern": {
              "fillmode": "overlay",
              "size": 10,
              "solidity": 0.2
             }
            },
            "type": "bar"
           }
          ],
          "barpolar": [
           {
            "marker": {
             "line": {
              "color": "#E5ECF6",
              "width": 0.5
             },
             "pattern": {
              "fillmode": "overlay",
              "size": 10,
              "solidity": 0.2
             }
            },
            "type": "barpolar"
           }
          ],
          "carpet": [
           {
            "aaxis": {
             "endlinecolor": "#2a3f5f",
             "gridcolor": "white",
             "linecolor": "white",
             "minorgridcolor": "white",
             "startlinecolor": "#2a3f5f"
            },
            "baxis": {
             "endlinecolor": "#2a3f5f",
             "gridcolor": "white",
             "linecolor": "white",
             "minorgridcolor": "white",
             "startlinecolor": "#2a3f5f"
            },
            "type": "carpet"
           }
          ],
          "choropleth": [
           {
            "colorbar": {
             "outlinewidth": 0,
             "ticks": ""
            },
            "type": "choropleth"
           }
          ],
          "contour": [
           {
            "colorbar": {
             "outlinewidth": 0,
             "ticks": ""
            },
            "colorscale": [
             [
              0,
              "#0d0887"
             ],
             [
              0.1111111111111111,
              "#46039f"
             ],
             [
              0.2222222222222222,
              "#7201a8"
             ],
             [
              0.3333333333333333,
              "#9c179e"
             ],
             [
              0.4444444444444444,
              "#bd3786"
             ],
             [
              0.5555555555555556,
              "#d8576b"
             ],
             [
              0.6666666666666666,
              "#ed7953"
             ],
             [
              0.7777777777777778,
              "#fb9f3a"
             ],
             [
              0.8888888888888888,
              "#fdca26"
             ],
             [
              1,
              "#f0f921"
             ]
            ],
            "type": "contour"
           }
          ],
          "contourcarpet": [
           {
            "colorbar": {
             "outlinewidth": 0,
             "ticks": ""
            },
            "type": "contourcarpet"
           }
          ],
          "heatmap": [
           {
            "colorbar": {
             "outlinewidth": 0,
             "ticks": ""
            },
            "colorscale": [
             [
              0,
              "#0d0887"
             ],
             [
              0.1111111111111111,
              "#46039f"
             ],
             [
              0.2222222222222222,
              "#7201a8"
             ],
             [
              0.3333333333333333,
              "#9c179e"
             ],
             [
              0.4444444444444444,
              "#bd3786"
             ],
             [
              0.5555555555555556,
              "#d8576b"
             ],
             [
              0.6666666666666666,
              "#ed7953"
             ],
             [
              0.7777777777777778,
              "#fb9f3a"
             ],
             [
              0.8888888888888888,
              "#fdca26"
             ],
             [
              1,
              "#f0f921"
             ]
            ],
            "type": "heatmap"
           }
          ],
          "heatmapgl": [
           {
            "colorbar": {
             "outlinewidth": 0,
             "ticks": ""
            },
            "colorscale": [
             [
              0,
              "#0d0887"
             ],
             [
              0.1111111111111111,
              "#46039f"
             ],
             [
              0.2222222222222222,
              "#7201a8"
             ],
             [
              0.3333333333333333,
              "#9c179e"
             ],
             [
              0.4444444444444444,
              "#bd3786"
             ],
             [
              0.5555555555555556,
              "#d8576b"
             ],
             [
              0.6666666666666666,
              "#ed7953"
             ],
             [
              0.7777777777777778,
              "#fb9f3a"
             ],
             [
              0.8888888888888888,
              "#fdca26"
             ],
             [
              1,
              "#f0f921"
             ]
            ],
            "type": "heatmapgl"
           }
          ],
          "histogram": [
           {
            "marker": {
             "pattern": {
              "fillmode": "overlay",
              "size": 10,
              "solidity": 0.2
             }
            },
            "type": "histogram"
           }
          ],
          "histogram2d": [
           {
            "colorbar": {
             "outlinewidth": 0,
             "ticks": ""
            },
            "colorscale": [
             [
              0,
              "#0d0887"
             ],
             [
              0.1111111111111111,
              "#46039f"
             ],
             [
              0.2222222222222222,
              "#7201a8"
             ],
             [
              0.3333333333333333,
              "#9c179e"
             ],
             [
              0.4444444444444444,
              "#bd3786"
             ],
             [
              0.5555555555555556,
              "#d8576b"
             ],
             [
              0.6666666666666666,
              "#ed7953"
             ],
             [
              0.7777777777777778,
              "#fb9f3a"
             ],
             [
              0.8888888888888888,
              "#fdca26"
             ],
             [
              1,
              "#f0f921"
             ]
            ],
            "type": "histogram2d"
           }
          ],
          "histogram2dcontour": [
           {
            "colorbar": {
             "outlinewidth": 0,
             "ticks": ""
            },
            "colorscale": [
             [
              0,
              "#0d0887"
             ],
             [
              0.1111111111111111,
              "#46039f"
             ],
             [
              0.2222222222222222,
              "#7201a8"
             ],
             [
              0.3333333333333333,
              "#9c179e"
             ],
             [
              0.4444444444444444,
              "#bd3786"
             ],
             [
              0.5555555555555556,
              "#d8576b"
             ],
             [
              0.6666666666666666,
              "#ed7953"
             ],
             [
              0.7777777777777778,
              "#fb9f3a"
             ],
             [
              0.8888888888888888,
              "#fdca26"
             ],
             [
              1,
              "#f0f921"
             ]
            ],
            "type": "histogram2dcontour"
           }
          ],
          "mesh3d": [
           {
            "colorbar": {
             "outlinewidth": 0,
             "ticks": ""
            },
            "type": "mesh3d"
           }
          ],
          "parcoords": [
           {
            "line": {
             "colorbar": {
              "outlinewidth": 0,
              "ticks": ""
             }
            },
            "type": "parcoords"
           }
          ],
          "pie": [
           {
            "automargin": true,
            "type": "pie"
           }
          ],
          "scatter": [
           {
            "fillpattern": {
             "fillmode": "overlay",
             "size": 10,
             "solidity": 0.2
            },
            "type": "scatter"
           }
          ],
          "scatter3d": [
           {
            "line": {
             "colorbar": {
              "outlinewidth": 0,
              "ticks": ""
             }
            },
            "marker": {
             "colorbar": {
              "outlinewidth": 0,
              "ticks": ""
             }
            },
            "type": "scatter3d"
           }
          ],
          "scattercarpet": [
           {
            "marker": {
             "colorbar": {
              "outlinewidth": 0,
              "ticks": ""
             }
            },
            "type": "scattercarpet"
           }
          ],
          "scattergeo": [
           {
            "marker": {
             "colorbar": {
              "outlinewidth": 0,
              "ticks": ""
             }
            },
            "type": "scattergeo"
           }
          ],
          "scattergl": [
           {
            "marker": {
             "colorbar": {
              "outlinewidth": 0,
              "ticks": ""
             }
            },
            "type": "scattergl"
           }
          ],
          "scattermapbox": [
           {
            "marker": {
             "colorbar": {
              "outlinewidth": 0,
              "ticks": ""
             }
            },
            "type": "scattermapbox"
           }
          ],
          "scatterpolar": [
           {
            "marker": {
             "colorbar": {
              "outlinewidth": 0,
              "ticks": ""
             }
            },
            "type": "scatterpolar"
           }
          ],
          "scatterpolargl": [
           {
            "marker": {
             "colorbar": {
              "outlinewidth": 0,
              "ticks": ""
             }
            },
            "type": "scatterpolargl"
           }
          ],
          "scatterternary": [
           {
            "marker": {
             "colorbar": {
              "outlinewidth": 0,
              "ticks": ""
             }
            },
            "type": "scatterternary"
           }
          ],
          "surface": [
           {
            "colorbar": {
             "outlinewidth": 0,
             "ticks": ""
            },
            "colorscale": [
             [
              0,
              "#0d0887"
             ],
             [
              0.1111111111111111,
              "#46039f"
             ],
             [
              0.2222222222222222,
              "#7201a8"
             ],
             [
              0.3333333333333333,
              "#9c179e"
             ],
             [
              0.4444444444444444,
              "#bd3786"
             ],
             [
              0.5555555555555556,
              "#d8576b"
             ],
             [
              0.6666666666666666,
              "#ed7953"
             ],
             [
              0.7777777777777778,
              "#fb9f3a"
             ],
             [
              0.8888888888888888,
              "#fdca26"
             ],
             [
              1,
              "#f0f921"
             ]
            ],
            "type": "surface"
           }
          ],
          "table": [
           {
            "cells": {
             "fill": {
              "color": "#EBF0F8"
             },
             "line": {
              "color": "white"
             }
            },
            "header": {
             "fill": {
              "color": "#C8D4E3"
             },
             "line": {
              "color": "white"
             }
            },
            "type": "table"
           }
          ]
         },
         "layout": {
          "annotationdefaults": {
           "arrowcolor": "#2a3f5f",
           "arrowhead": 0,
           "arrowwidth": 1
          },
          "autotypenumbers": "strict",
          "coloraxis": {
           "colorbar": {
            "outlinewidth": 0,
            "ticks": ""
           }
          },
          "colorscale": {
           "diverging": [
            [
             0,
             "#8e0152"
            ],
            [
             0.1,
             "#c51b7d"
            ],
            [
             0.2,
             "#de77ae"
            ],
            [
             0.3,
             "#f1b6da"
            ],
            [
             0.4,
             "#fde0ef"
            ],
            [
             0.5,
             "#f7f7f7"
            ],
            [
             0.6,
             "#e6f5d0"
            ],
            [
             0.7,
             "#b8e186"
            ],
            [
             0.8,
             "#7fbc41"
            ],
            [
             0.9,
             "#4d9221"
            ],
            [
             1,
             "#276419"
            ]
           ],
           "sequential": [
            [
             0,
             "#0d0887"
            ],
            [
             0.1111111111111111,
             "#46039f"
            ],
            [
             0.2222222222222222,
             "#7201a8"
            ],
            [
             0.3333333333333333,
             "#9c179e"
            ],
            [
             0.4444444444444444,
             "#bd3786"
            ],
            [
             0.5555555555555556,
             "#d8576b"
            ],
            [
             0.6666666666666666,
             "#ed7953"
            ],
            [
             0.7777777777777778,
             "#fb9f3a"
            ],
            [
             0.8888888888888888,
             "#fdca26"
            ],
            [
             1,
             "#f0f921"
            ]
           ],
           "sequentialminus": [
            [
             0,
             "#0d0887"
            ],
            [
             0.1111111111111111,
             "#46039f"
            ],
            [
             0.2222222222222222,
             "#7201a8"
            ],
            [
             0.3333333333333333,
             "#9c179e"
            ],
            [
             0.4444444444444444,
             "#bd3786"
            ],
            [
             0.5555555555555556,
             "#d8576b"
            ],
            [
             0.6666666666666666,
             "#ed7953"
            ],
            [
             0.7777777777777778,
             "#fb9f3a"
            ],
            [
             0.8888888888888888,
             "#fdca26"
            ],
            [
             1,
             "#f0f921"
            ]
           ]
          },
          "colorway": [
           "#636efa",
           "#EF553B",
           "#00cc96",
           "#ab63fa",
           "#FFA15A",
           "#19d3f3",
           "#FF6692",
           "#B6E880",
           "#FF97FF",
           "#FECB52"
          ],
          "font": {
           "color": "#2a3f5f"
          },
          "geo": {
           "bgcolor": "white",
           "lakecolor": "white",
           "landcolor": "#E5ECF6",
           "showlakes": true,
           "showland": true,
           "subunitcolor": "white"
          },
          "hoverlabel": {
           "align": "left"
          },
          "hovermode": "closest",
          "mapbox": {
           "style": "light"
          },
          "paper_bgcolor": "white",
          "plot_bgcolor": "#E5ECF6",
          "polar": {
           "angularaxis": {
            "gridcolor": "white",
            "linecolor": "white",
            "ticks": ""
           },
           "bgcolor": "#E5ECF6",
           "radialaxis": {
            "gridcolor": "white",
            "linecolor": "white",
            "ticks": ""
           }
          },
          "scene": {
           "xaxis": {
            "backgroundcolor": "#E5ECF6",
            "gridcolor": "white",
            "gridwidth": 2,
            "linecolor": "white",
            "showbackground": true,
            "ticks": "",
            "zerolinecolor": "white"
           },
           "yaxis": {
            "backgroundcolor": "#E5ECF6",
            "gridcolor": "white",
            "gridwidth": 2,
            "linecolor": "white",
            "showbackground": true,
            "ticks": "",
            "zerolinecolor": "white"
           },
           "zaxis": {
            "backgroundcolor": "#E5ECF6",
            "gridcolor": "white",
            "gridwidth": 2,
            "linecolor": "white",
            "showbackground": true,
            "ticks": "",
            "zerolinecolor": "white"
           }
          },
          "shapedefaults": {
           "line": {
            "color": "#2a3f5f"
           }
          },
          "ternary": {
           "aaxis": {
            "gridcolor": "white",
            "linecolor": "white",
            "ticks": ""
           },
           "baxis": {
            "gridcolor": "white",
            "linecolor": "white",
            "ticks": ""
           },
           "bgcolor": "#E5ECF6",
           "caxis": {
            "gridcolor": "white",
            "linecolor": "white",
            "ticks": ""
           }
          },
          "title": {
           "x": 0.05
          },
          "xaxis": {
           "automargin": true,
           "gridcolor": "white",
           "linecolor": "white",
           "ticks": "",
           "title": {
            "standoff": 15
           },
           "zerolinecolor": "white",
           "zerolinewidth": 2
          },
          "yaxis": {
           "automargin": true,
           "gridcolor": "white",
           "linecolor": "white",
           "ticks": "",
           "title": {
            "standoff": 15
           },
           "zerolinecolor": "white",
           "zerolinewidth": 2
          }
         }
        },
        "title": {
         "text": "Pollen Total Over Time",
         "x": 0.5,
         "xanchor": "center",
         "y": 0.9,
         "yanchor": "top"
        },
        "xaxis": {
         "showgrid": false,
         "title": {
          "text": "Time"
         }
        },
        "yaxis": {
         "gridcolor": "lightgray",
         "showgrid": true,
         "title": {
          "text": "Pollen Total"
         }
        }
       }
      }
     },
     "metadata": {},
     "output_type": "display_data"
    }
   ],
   "source": [
    "if 'pollen_total' in df.columns:\n",
    "    fig = go.Figure()\n",
    "\n",
    "    fig.add_trace(go.Scatter(\n",
    "        x=df.index,\n",
    "        y=df['pollen_total'],\n",
    "        mode='markers+lines',  # 使用markers+lines模式\n",
    "        name='Pollen Total',\n",
    "        marker=dict(\n",
    "            color=df['pollen_total'],  # 使用花粉总量值来定义颜色\n",
    "            colorscale='Plasma',  # 选择颜色映射\n",
    "            showscale=True,  # 显示颜色条\n",
    "            colorbar=dict(\n",
    "                title=\"Pollen Total\"\n",
    "            )\n",
    "        ),\n",
    "        line=dict(\n",
    "            color='gray'  # 设置线条颜色\n",
    "        )\n",
    "    ))\n",
    "\n",
    "    fig.update_layout(\n",
    "        title={\n",
    "            'text': 'Pollen Total Over Time',\n",
    "            'y': 0.9,\n",
    "            'x': 0.5,\n",
    "            'xanchor': 'center',\n",
    "            'yanchor': 'top'\n",
    "        },\n",
    "        xaxis_title='Time',\n",
    "        yaxis_title='Pollen Total',\n",
    "        hovermode='x',\n",
    "        plot_bgcolor='rgba(0,0,0,0)',\n",
    "        xaxis=dict(\n",
    "            showgrid=False\n",
    "        ),\n",
    "        yaxis=dict(\n",
    "            showgrid=True,\n",
    "            gridcolor='lightgray'\n",
    "        ),\n",
    "        font=dict(\n",
    "            family=\"Arial, sans-serif\",\n",
    "            size=12,\n",
    "            color=\"black\"\n",
    "        )\n",
    "    )\n",
    "\n",
    "    fig.show()"
   ]
  },
  {
   "cell_type": "code",
   "execution_count": 212,
   "metadata": {},
   "outputs": [
    {
     "data": {
      "application/vnd.plotly.v1+json": {
       "config": {
        "plotlyServerURL": "https://plot.ly"
       },
       "data": [
        {
         "line": {
          "color": "gray"
         },
         "marker": {
          "color": [
           16.6,
           18.9,
           20.3,
           21,
           21.1,
           21.4,
           21.5,
           21.4,
           20.9,
           21.2,
           20.1,
           18.5,
           18.6,
           18,
           16.3,
           14.9,
           12.9,
           12,
           9.9,
           8.6,
           8.6,
           8.8,
           9,
           9.3,
           9.4,
           9.7,
           9.6,
           9.9,
           10.6,
           10.7,
           10.7,
           10.3,
           10.8,
           11,
           11.7,
           12.2,
           11.3,
           11.7,
           11.7,
           12.4,
           12.5,
           12.6,
           13.4,
           13.5,
           13.5,
           13.6,
           14.4,
           15.2,
           17.3,
           19.7,
           20.8,
           21.1,
           21.3,
           21.1,
           21.3,
           20.8,
           20.7,
           20.5,
           20.4,
           20.1,
           19.3,
           18.5,
           17.2,
           16.1,
           15.2,
           13.5,
           12.7,
           12.2,
           11.9,
           11.5,
           10.9,
           9.7,
           9.4,
           9.8,
           9.9,
           10,
           10.3,
           10.7,
           11.3,
           11.6,
           11.8,
           11.7,
           11.7,
           12,
           12.3,
           12.4,
           12.8,
           12.3,
           12.2,
           12.8,
           12.9,
           12.7,
           13.1,
           14,
           15.8,
           16.8,
           17.6,
           19.5,
           20.9,
           23.2,
           22.3,
           22.4,
           22.4,
           22.6,
           22.3,
           22.5,
           22.1,
           21,
           19.9,
           18.5,
           17.4,
           16.5,
           15.4,
           13.5,
           12.3,
           10.5,
           10,
           8.9,
           8.9,
           8.5,
           8.7,
           9.2,
           9.3,
           9.3,
           9,
           9.4,
           9.5,
           9.8,
           10.2,
           10.5,
           10.5,
           11,
           11.1,
           11.4,
           11.6,
           11.6,
           12.2,
           12.4,
           12.6,
           13.1,
           13.6,
           14.3,
           15.1,
           16.1
          ],
          "colorbar": {
           "title": {
            "text": "Temperature(°C)"
           }
          },
          "colorscale": [
           [
            0,
            "#440154"
           ],
           [
            0.1111111111111111,
            "#482878"
           ],
           [
            0.2222222222222222,
            "#3e4989"
           ],
           [
            0.3333333333333333,
            "#31688e"
           ],
           [
            0.4444444444444444,
            "#26828e"
           ],
           [
            0.5555555555555556,
            "#1f9e89"
           ],
           [
            0.6666666666666666,
            "#35b779"
           ],
           [
            0.7777777777777778,
            "#6ece58"
           ],
           [
            0.8888888888888888,
            "#b5de2b"
           ],
           [
            1,
            "#fde725"
           ]
          ],
          "showscale": true
         },
         "mode": "markers+lines",
         "name": "Air Temperature",
         "type": "scatter",
         "x": [
          "2024-05-16T17:00:00+00:00",
          "2024-05-16T16:00:00+00:00",
          "2024-05-16T16:00:00+00:00",
          "2024-05-16T15:00:00+00:00",
          "2024-05-16T15:00:00+00:00",
          "2024-05-16T14:00:00+00:00",
          "2024-05-16T14:00:00+00:00",
          "2024-05-16T13:00:00+00:00",
          "2024-05-16T13:00:00+00:00",
          "2024-05-16T12:00:00+00:00",
          "2024-05-16T12:00:00+00:00",
          "2024-05-16T11:00:00+00:00",
          "2024-05-16T11:00:00+00:00",
          "2024-05-16T10:00:00+00:00",
          "2024-05-16T10:00:00+00:00",
          "2024-05-16T09:00:00+00:00",
          "2024-05-16T09:00:00+00:00",
          "2024-05-16T08:00:00+00:00",
          "2024-05-16T08:00:00+00:00",
          "2024-05-16T07:00:00+00:00",
          "2024-05-16T07:00:00+00:00",
          "2024-05-16T06:00:00+00:00",
          "2024-05-16T06:00:00+00:00",
          "2024-05-16T05:00:00+00:00",
          "2024-05-16T05:00:00+00:00",
          "2024-05-16T04:00:00+00:00",
          "2024-05-16T04:00:00+00:00",
          "2024-05-16T03:00:00+00:00",
          "2024-05-16T03:00:00+00:00",
          "2024-05-16T02:00:00+00:00",
          "2024-05-16T02:00:00+00:00",
          "2024-05-16T01:00:00+00:00",
          "2024-05-16T01:00:00+00:00",
          "2024-05-16T00:00:00+00:00",
          "2024-05-16T00:00:00+00:00",
          "2024-05-15T23:00:00+00:00",
          "2024-05-15T23:00:00+00:00",
          "2024-05-15T22:00:00+00:00",
          "2024-05-15T22:00:00+00:00",
          "2024-05-15T21:00:00+00:00",
          "2024-05-15T21:00:00+00:00",
          "2024-05-15T20:00:00+00:00",
          "2024-05-15T20:00:00+00:00",
          "2024-05-15T19:00:00+00:00",
          "2024-05-15T19:00:00+00:00",
          "2024-05-15T18:00:00+00:00",
          "2024-05-15T18:00:00+00:00",
          "2024-05-15T17:00:00+00:00",
          "2024-05-15T17:00:00+00:00",
          "2024-05-15T16:00:00+00:00",
          "2024-05-15T16:00:00+00:00",
          "2024-05-15T15:00:00+00:00",
          "2024-05-15T15:00:00+00:00",
          "2024-05-15T14:00:00+00:00",
          "2024-05-15T14:00:00+00:00",
          "2024-05-15T13:00:00+00:00",
          "2024-05-15T13:00:00+00:00",
          "2024-05-15T12:00:00+00:00",
          "2024-05-15T12:00:00+00:00",
          "2024-05-15T11:00:00+00:00",
          "2024-05-15T11:00:00+00:00",
          "2024-05-15T10:00:00+00:00",
          "2024-05-15T10:00:00+00:00",
          "2024-05-15T09:00:00+00:00",
          "2024-05-15T09:00:00+00:00",
          "2024-05-15T08:00:00+00:00",
          "2024-05-15T08:00:00+00:00",
          "2024-05-15T07:00:00+00:00",
          "2024-05-15T07:00:00+00:00",
          "2024-05-15T06:00:00+00:00",
          "2024-05-15T06:00:00+00:00",
          "2024-05-15T05:00:00+00:00",
          "2024-05-15T05:00:00+00:00",
          "2024-05-15T04:00:00+00:00",
          "2024-05-15T04:00:00+00:00",
          "2024-05-15T03:00:00+00:00",
          "2024-05-15T03:00:00+00:00",
          "2024-05-15T02:00:00+00:00",
          "2024-05-15T02:00:00+00:00",
          "2024-05-15T01:00:00+00:00",
          "2024-05-15T01:00:00+00:00",
          "2024-05-15T00:00:00+00:00",
          "2024-05-15T00:00:00+00:00",
          "2024-05-14T23:00:00+00:00",
          "2024-05-14T23:00:00+00:00",
          "2024-05-14T22:00:00+00:00",
          "2024-05-14T22:00:00+00:00",
          "2024-05-14T21:00:00+00:00",
          "2024-05-14T21:00:00+00:00",
          "2024-05-14T20:00:00+00:00",
          "2024-05-14T20:00:00+00:00",
          "2024-05-14T19:00:00+00:00",
          "2024-05-14T19:00:00+00:00",
          "2024-05-14T18:00:00+00:00",
          "2024-05-14T18:00:00+00:00",
          "2024-05-14T17:00:00+00:00",
          "2024-05-14T17:00:00+00:00",
          "2024-05-14T16:00:00+00:00",
          "2024-05-14T16:00:00+00:00",
          "2024-05-14T15:00:00+00:00",
          "2024-05-14T15:00:00+00:00",
          "2024-05-14T14:00:00+00:00",
          "2024-05-14T14:00:00+00:00",
          "2024-05-14T13:00:00+00:00",
          "2024-05-14T13:00:00+00:00",
          "2024-05-14T12:00:00+00:00",
          "2024-05-14T12:00:00+00:00",
          "2024-05-14T11:00:00+00:00",
          "2024-05-14T11:00:00+00:00",
          "2024-05-14T10:00:00+00:00",
          "2024-05-14T10:00:00+00:00",
          "2024-05-14T09:00:00+00:00",
          "2024-05-14T09:00:00+00:00",
          "2024-05-14T08:00:00+00:00",
          "2024-05-14T08:00:00+00:00",
          "2024-05-14T07:00:00+00:00",
          "2024-05-14T07:00:00+00:00",
          "2024-05-14T06:00:00+00:00",
          "2024-05-14T06:00:00+00:00",
          "2024-05-14T05:00:00+00:00",
          "2024-05-14T05:00:00+00:00",
          "2024-05-14T04:00:00+00:00",
          "2024-05-14T04:00:00+00:00",
          "2024-05-14T03:00:00+00:00",
          "2024-05-14T03:00:00+00:00",
          "2024-05-14T02:00:00+00:00",
          "2024-05-14T02:00:00+00:00",
          "2024-05-14T01:00:00+00:00",
          "2024-05-14T01:00:00+00:00",
          "2024-05-14T00:00:00+00:00",
          "2024-05-14T00:00:00+00:00",
          "2024-05-13T23:00:00+00:00",
          "2024-05-13T23:00:00+00:00",
          "2024-05-13T22:00:00+00:00",
          "2024-05-13T22:00:00+00:00",
          "2024-05-13T21:00:00+00:00",
          "2024-05-13T21:00:00+00:00",
          "2024-05-13T20:00:00+00:00",
          "2024-05-13T20:00:00+00:00",
          "2024-05-13T19:00:00+00:00",
          "2024-05-13T19:00:00+00:00",
          "2024-05-13T18:00:00+00:00",
          "2024-05-13T18:00:00+00:00",
          "2024-05-13T17:00:00+00:00"
         ],
         "y": [
          16.6,
          18.9,
          20.3,
          21,
          21.1,
          21.4,
          21.5,
          21.4,
          20.9,
          21.2,
          20.1,
          18.5,
          18.6,
          18,
          16.3,
          14.9,
          12.9,
          12,
          9.9,
          8.6,
          8.6,
          8.8,
          9,
          9.3,
          9.4,
          9.7,
          9.6,
          9.9,
          10.6,
          10.7,
          10.7,
          10.3,
          10.8,
          11,
          11.7,
          12.2,
          11.3,
          11.7,
          11.7,
          12.4,
          12.5,
          12.6,
          13.4,
          13.5,
          13.5,
          13.6,
          14.4,
          15.2,
          17.3,
          19.7,
          20.8,
          21.1,
          21.3,
          21.1,
          21.3,
          20.8,
          20.7,
          20.5,
          20.4,
          20.1,
          19.3,
          18.5,
          17.2,
          16.1,
          15.2,
          13.5,
          12.7,
          12.2,
          11.9,
          11.5,
          10.9,
          9.7,
          9.4,
          9.8,
          9.9,
          10,
          10.3,
          10.7,
          11.3,
          11.6,
          11.8,
          11.7,
          11.7,
          12,
          12.3,
          12.4,
          12.8,
          12.3,
          12.2,
          12.8,
          12.9,
          12.7,
          13.1,
          14,
          15.8,
          16.8,
          17.6,
          19.5,
          20.9,
          23.2,
          22.3,
          22.4,
          22.4,
          22.6,
          22.3,
          22.5,
          22.1,
          21,
          19.9,
          18.5,
          17.4,
          16.5,
          15.4,
          13.5,
          12.3,
          10.5,
          10,
          8.9,
          8.9,
          8.5,
          8.7,
          9.2,
          9.3,
          9.3,
          9,
          9.4,
          9.5,
          9.8,
          10.2,
          10.5,
          10.5,
          11,
          11.1,
          11.4,
          11.6,
          11.6,
          12.2,
          12.4,
          12.6,
          13.1,
          13.6,
          14.3,
          15.1,
          16.1
         ]
        }
       ],
       "layout": {
        "font": {
         "color": "black",
         "family": "Arial, sans-serif",
         "size": 12
        },
        "hovermode": "x",
        "plot_bgcolor": "rgba(0,0,0,0)",
        "template": {
         "data": {
          "bar": [
           {
            "error_x": {
             "color": "#2a3f5f"
            },
            "error_y": {
             "color": "#2a3f5f"
            },
            "marker": {
             "line": {
              "color": "#E5ECF6",
              "width": 0.5
             },
             "pattern": {
              "fillmode": "overlay",
              "size": 10,
              "solidity": 0.2
             }
            },
            "type": "bar"
           }
          ],
          "barpolar": [
           {
            "marker": {
             "line": {
              "color": "#E5ECF6",
              "width": 0.5
             },
             "pattern": {
              "fillmode": "overlay",
              "size": 10,
              "solidity": 0.2
             }
            },
            "type": "barpolar"
           }
          ],
          "carpet": [
           {
            "aaxis": {
             "endlinecolor": "#2a3f5f",
             "gridcolor": "white",
             "linecolor": "white",
             "minorgridcolor": "white",
             "startlinecolor": "#2a3f5f"
            },
            "baxis": {
             "endlinecolor": "#2a3f5f",
             "gridcolor": "white",
             "linecolor": "white",
             "minorgridcolor": "white",
             "startlinecolor": "#2a3f5f"
            },
            "type": "carpet"
           }
          ],
          "choropleth": [
           {
            "colorbar": {
             "outlinewidth": 0,
             "ticks": ""
            },
            "type": "choropleth"
           }
          ],
          "contour": [
           {
            "colorbar": {
             "outlinewidth": 0,
             "ticks": ""
            },
            "colorscale": [
             [
              0,
              "#0d0887"
             ],
             [
              0.1111111111111111,
              "#46039f"
             ],
             [
              0.2222222222222222,
              "#7201a8"
             ],
             [
              0.3333333333333333,
              "#9c179e"
             ],
             [
              0.4444444444444444,
              "#bd3786"
             ],
             [
              0.5555555555555556,
              "#d8576b"
             ],
             [
              0.6666666666666666,
              "#ed7953"
             ],
             [
              0.7777777777777778,
              "#fb9f3a"
             ],
             [
              0.8888888888888888,
              "#fdca26"
             ],
             [
              1,
              "#f0f921"
             ]
            ],
            "type": "contour"
           }
          ],
          "contourcarpet": [
           {
            "colorbar": {
             "outlinewidth": 0,
             "ticks": ""
            },
            "type": "contourcarpet"
           }
          ],
          "heatmap": [
           {
            "colorbar": {
             "outlinewidth": 0,
             "ticks": ""
            },
            "colorscale": [
             [
              0,
              "#0d0887"
             ],
             [
              0.1111111111111111,
              "#46039f"
             ],
             [
              0.2222222222222222,
              "#7201a8"
             ],
             [
              0.3333333333333333,
              "#9c179e"
             ],
             [
              0.4444444444444444,
              "#bd3786"
             ],
             [
              0.5555555555555556,
              "#d8576b"
             ],
             [
              0.6666666666666666,
              "#ed7953"
             ],
             [
              0.7777777777777778,
              "#fb9f3a"
             ],
             [
              0.8888888888888888,
              "#fdca26"
             ],
             [
              1,
              "#f0f921"
             ]
            ],
            "type": "heatmap"
           }
          ],
          "heatmapgl": [
           {
            "colorbar": {
             "outlinewidth": 0,
             "ticks": ""
            },
            "colorscale": [
             [
              0,
              "#0d0887"
             ],
             [
              0.1111111111111111,
              "#46039f"
             ],
             [
              0.2222222222222222,
              "#7201a8"
             ],
             [
              0.3333333333333333,
              "#9c179e"
             ],
             [
              0.4444444444444444,
              "#bd3786"
             ],
             [
              0.5555555555555556,
              "#d8576b"
             ],
             [
              0.6666666666666666,
              "#ed7953"
             ],
             [
              0.7777777777777778,
              "#fb9f3a"
             ],
             [
              0.8888888888888888,
              "#fdca26"
             ],
             [
              1,
              "#f0f921"
             ]
            ],
            "type": "heatmapgl"
           }
          ],
          "histogram": [
           {
            "marker": {
             "pattern": {
              "fillmode": "overlay",
              "size": 10,
              "solidity": 0.2
             }
            },
            "type": "histogram"
           }
          ],
          "histogram2d": [
           {
            "colorbar": {
             "outlinewidth": 0,
             "ticks": ""
            },
            "colorscale": [
             [
              0,
              "#0d0887"
             ],
             [
              0.1111111111111111,
              "#46039f"
             ],
             [
              0.2222222222222222,
              "#7201a8"
             ],
             [
              0.3333333333333333,
              "#9c179e"
             ],
             [
              0.4444444444444444,
              "#bd3786"
             ],
             [
              0.5555555555555556,
              "#d8576b"
             ],
             [
              0.6666666666666666,
              "#ed7953"
             ],
             [
              0.7777777777777778,
              "#fb9f3a"
             ],
             [
              0.8888888888888888,
              "#fdca26"
             ],
             [
              1,
              "#f0f921"
             ]
            ],
            "type": "histogram2d"
           }
          ],
          "histogram2dcontour": [
           {
            "colorbar": {
             "outlinewidth": 0,
             "ticks": ""
            },
            "colorscale": [
             [
              0,
              "#0d0887"
             ],
             [
              0.1111111111111111,
              "#46039f"
             ],
             [
              0.2222222222222222,
              "#7201a8"
             ],
             [
              0.3333333333333333,
              "#9c179e"
             ],
             [
              0.4444444444444444,
              "#bd3786"
             ],
             [
              0.5555555555555556,
              "#d8576b"
             ],
             [
              0.6666666666666666,
              "#ed7953"
             ],
             [
              0.7777777777777778,
              "#fb9f3a"
             ],
             [
              0.8888888888888888,
              "#fdca26"
             ],
             [
              1,
              "#f0f921"
             ]
            ],
            "type": "histogram2dcontour"
           }
          ],
          "mesh3d": [
           {
            "colorbar": {
             "outlinewidth": 0,
             "ticks": ""
            },
            "type": "mesh3d"
           }
          ],
          "parcoords": [
           {
            "line": {
             "colorbar": {
              "outlinewidth": 0,
              "ticks": ""
             }
            },
            "type": "parcoords"
           }
          ],
          "pie": [
           {
            "automargin": true,
            "type": "pie"
           }
          ],
          "scatter": [
           {
            "fillpattern": {
             "fillmode": "overlay",
             "size": 10,
             "solidity": 0.2
            },
            "type": "scatter"
           }
          ],
          "scatter3d": [
           {
            "line": {
             "colorbar": {
              "outlinewidth": 0,
              "ticks": ""
             }
            },
            "marker": {
             "colorbar": {
              "outlinewidth": 0,
              "ticks": ""
             }
            },
            "type": "scatter3d"
           }
          ],
          "scattercarpet": [
           {
            "marker": {
             "colorbar": {
              "outlinewidth": 0,
              "ticks": ""
             }
            },
            "type": "scattercarpet"
           }
          ],
          "scattergeo": [
           {
            "marker": {
             "colorbar": {
              "outlinewidth": 0,
              "ticks": ""
             }
            },
            "type": "scattergeo"
           }
          ],
          "scattergl": [
           {
            "marker": {
             "colorbar": {
              "outlinewidth": 0,
              "ticks": ""
             }
            },
            "type": "scattergl"
           }
          ],
          "scattermapbox": [
           {
            "marker": {
             "colorbar": {
              "outlinewidth": 0,
              "ticks": ""
             }
            },
            "type": "scattermapbox"
           }
          ],
          "scatterpolar": [
           {
            "marker": {
             "colorbar": {
              "outlinewidth": 0,
              "ticks": ""
             }
            },
            "type": "scatterpolar"
           }
          ],
          "scatterpolargl": [
           {
            "marker": {
             "colorbar": {
              "outlinewidth": 0,
              "ticks": ""
             }
            },
            "type": "scatterpolargl"
           }
          ],
          "scatterternary": [
           {
            "marker": {
             "colorbar": {
              "outlinewidth": 0,
              "ticks": ""
             }
            },
            "type": "scatterternary"
           }
          ],
          "surface": [
           {
            "colorbar": {
             "outlinewidth": 0,
             "ticks": ""
            },
            "colorscale": [
             [
              0,
              "#0d0887"
             ],
             [
              0.1111111111111111,
              "#46039f"
             ],
             [
              0.2222222222222222,
              "#7201a8"
             ],
             [
              0.3333333333333333,
              "#9c179e"
             ],
             [
              0.4444444444444444,
              "#bd3786"
             ],
             [
              0.5555555555555556,
              "#d8576b"
             ],
             [
              0.6666666666666666,
              "#ed7953"
             ],
             [
              0.7777777777777778,
              "#fb9f3a"
             ],
             [
              0.8888888888888888,
              "#fdca26"
             ],
             [
              1,
              "#f0f921"
             ]
            ],
            "type": "surface"
           }
          ],
          "table": [
           {
            "cells": {
             "fill": {
              "color": "#EBF0F8"
             },
             "line": {
              "color": "white"
             }
            },
            "header": {
             "fill": {
              "color": "#C8D4E3"
             },
             "line": {
              "color": "white"
             }
            },
            "type": "table"
           }
          ]
         },
         "layout": {
          "annotationdefaults": {
           "arrowcolor": "#2a3f5f",
           "arrowhead": 0,
           "arrowwidth": 1
          },
          "autotypenumbers": "strict",
          "coloraxis": {
           "colorbar": {
            "outlinewidth": 0,
            "ticks": ""
           }
          },
          "colorscale": {
           "diverging": [
            [
             0,
             "#8e0152"
            ],
            [
             0.1,
             "#c51b7d"
            ],
            [
             0.2,
             "#de77ae"
            ],
            [
             0.3,
             "#f1b6da"
            ],
            [
             0.4,
             "#fde0ef"
            ],
            [
             0.5,
             "#f7f7f7"
            ],
            [
             0.6,
             "#e6f5d0"
            ],
            [
             0.7,
             "#b8e186"
            ],
            [
             0.8,
             "#7fbc41"
            ],
            [
             0.9,
             "#4d9221"
            ],
            [
             1,
             "#276419"
            ]
           ],
           "sequential": [
            [
             0,
             "#0d0887"
            ],
            [
             0.1111111111111111,
             "#46039f"
            ],
            [
             0.2222222222222222,
             "#7201a8"
            ],
            [
             0.3333333333333333,
             "#9c179e"
            ],
            [
             0.4444444444444444,
             "#bd3786"
            ],
            [
             0.5555555555555556,
             "#d8576b"
            ],
            [
             0.6666666666666666,
             "#ed7953"
            ],
            [
             0.7777777777777778,
             "#fb9f3a"
            ],
            [
             0.8888888888888888,
             "#fdca26"
            ],
            [
             1,
             "#f0f921"
            ]
           ],
           "sequentialminus": [
            [
             0,
             "#0d0887"
            ],
            [
             0.1111111111111111,
             "#46039f"
            ],
            [
             0.2222222222222222,
             "#7201a8"
            ],
            [
             0.3333333333333333,
             "#9c179e"
            ],
            [
             0.4444444444444444,
             "#bd3786"
            ],
            [
             0.5555555555555556,
             "#d8576b"
            ],
            [
             0.6666666666666666,
             "#ed7953"
            ],
            [
             0.7777777777777778,
             "#fb9f3a"
            ],
            [
             0.8888888888888888,
             "#fdca26"
            ],
            [
             1,
             "#f0f921"
            ]
           ]
          },
          "colorway": [
           "#636efa",
           "#EF553B",
           "#00cc96",
           "#ab63fa",
           "#FFA15A",
           "#19d3f3",
           "#FF6692",
           "#B6E880",
           "#FF97FF",
           "#FECB52"
          ],
          "font": {
           "color": "#2a3f5f"
          },
          "geo": {
           "bgcolor": "white",
           "lakecolor": "white",
           "landcolor": "#E5ECF6",
           "showlakes": true,
           "showland": true,
           "subunitcolor": "white"
          },
          "hoverlabel": {
           "align": "left"
          },
          "hovermode": "closest",
          "mapbox": {
           "style": "light"
          },
          "paper_bgcolor": "white",
          "plot_bgcolor": "#E5ECF6",
          "polar": {
           "angularaxis": {
            "gridcolor": "white",
            "linecolor": "white",
            "ticks": ""
           },
           "bgcolor": "#E5ECF6",
           "radialaxis": {
            "gridcolor": "white",
            "linecolor": "white",
            "ticks": ""
           }
          },
          "scene": {
           "xaxis": {
            "backgroundcolor": "#E5ECF6",
            "gridcolor": "white",
            "gridwidth": 2,
            "linecolor": "white",
            "showbackground": true,
            "ticks": "",
            "zerolinecolor": "white"
           },
           "yaxis": {
            "backgroundcolor": "#E5ECF6",
            "gridcolor": "white",
            "gridwidth": 2,
            "linecolor": "white",
            "showbackground": true,
            "ticks": "",
            "zerolinecolor": "white"
           },
           "zaxis": {
            "backgroundcolor": "#E5ECF6",
            "gridcolor": "white",
            "gridwidth": 2,
            "linecolor": "white",
            "showbackground": true,
            "ticks": "",
            "zerolinecolor": "white"
           }
          },
          "shapedefaults": {
           "line": {
            "color": "#2a3f5f"
           }
          },
          "ternary": {
           "aaxis": {
            "gridcolor": "white",
            "linecolor": "white",
            "ticks": ""
           },
           "baxis": {
            "gridcolor": "white",
            "linecolor": "white",
            "ticks": ""
           },
           "bgcolor": "#E5ECF6",
           "caxis": {
            "gridcolor": "white",
            "linecolor": "white",
            "ticks": ""
           }
          },
          "title": {
           "x": 0.05
          },
          "xaxis": {
           "automargin": true,
           "gridcolor": "white",
           "linecolor": "white",
           "ticks": "",
           "title": {
            "standoff": 15
           },
           "zerolinecolor": "white",
           "zerolinewidth": 2
          },
          "yaxis": {
           "automargin": true,
           "gridcolor": "white",
           "linecolor": "white",
           "ticks": "",
           "title": {
            "standoff": 15
           },
           "zerolinecolor": "white",
           "zerolinewidth": 2
          }
         }
        },
        "title": {
         "text": "Air Temperature Over Time",
         "x": 0.5,
         "xanchor": "center",
         "y": 0.9,
         "yanchor": "top"
        },
        "xaxis": {
         "showgrid": false,
         "title": {
          "text": "Time"
         }
        },
        "yaxis": {
         "gridcolor": "lightgray",
         "showgrid": true,
         "title": {
          "text": "Air Temperature(°C)"
         }
        }
       }
      }
     },
     "metadata": {},
     "output_type": "display_data"
    }
   ],
   "source": [
    "if 'air_temp' in df.columns:\n",
    "    fig = go.Figure()\n",
    "\n",
    "    fig.add_trace(go.Scatter(\n",
    "        x=df.index,\n",
    "        y=df['air_temp'],\n",
    "        mode='markers+lines',  # 使用markers+lines模式\n",
    "        name='Air Temperature',\n",
    "        marker=dict(\n",
    "            color=df['air_temp'],  # 使用温度值来定义颜色\n",
    "            colorscale='Viridis',  # 选择颜色映射\n",
    "            showscale=True,  # 显示颜色条\n",
    "            colorbar=dict(\n",
    "                title=\"Temperature(°C)\"\n",
    "            )\n",
    "        ),\n",
    "        line=dict(\n",
    "            color='gray'  # 设置线条颜色\n",
    "        )\n",
    "    ))\n",
    "\n",
    "    fig.update_layout(\n",
    "        title={\n",
    "            'text': 'Air Temperature Over Time',\n",
    "            'y': 0.9,\n",
    "            'x': 0.5,\n",
    "            'xanchor': 'center',\n",
    "            'yanchor': 'top'\n",
    "        },\n",
    "        xaxis_title='Time',\n",
    "        yaxis_title='Air Temperature(°C)',\n",
    "        hovermode='x',\n",
    "        plot_bgcolor='rgba(0,0,0,0)',\n",
    "        xaxis=dict(\n",
    "            showgrid=False\n",
    "        ),\n",
    "        yaxis=dict(\n",
    "            showgrid=True,\n",
    "            gridcolor='lightgray'\n",
    "        ),\n",
    "        font=dict(\n",
    "            family=\"Arial, sans-serif\",\n",
    "            size=12,\n",
    "            color=\"black\"\n",
    "        )\n",
    "    )\n",
    "\n",
    "    fig.show()"
   ]
  },
  {
   "cell_type": "code",
   "execution_count": 211,
   "metadata": {},
   "outputs": [
    {
     "data": {
      "application/vnd.plotly.v1+json": {
       "config": {
        "plotlyServerURL": "https://plot.ly"
       },
       "data": [
        {
         "line": {
          "color": "gray"
         },
         "marker": {
          "color": [
           80,
           68,
           63,
           64,
           63,
           59,
           57,
           59,
           66,
           68,
           70,
           73,
           73,
           74,
           84,
           88,
           91,
           94,
           100,
           99,
           99,
           98,
           98,
           97,
           96,
           95,
           96,
           95,
           91,
           91,
           93,
           97,
           98,
           97,
           94,
           97,
           99,
           99,
           99,
           99,
           98,
           97,
           97,
           94,
           93,
           94,
           92,
           87,
           79,
           68,
           62,
           57,
           56,
           58,
           58,
           58,
           58,
           62,
           60,
           61,
           64,
           66,
           69,
           77,
           83,
           93,
           100,
           100,
           100,
           100,
           100,
           100,
           100,
           100,
           100,
           100,
           99,
           99,
           99,
           99,
           99,
           99,
           99,
           99,
           98,
           99,
           99,
           99,
           97,
           97,
           97,
           95,
           94,
           88,
           81,
           75,
           70,
           63,
           59,
           40,
           40,
           41,
           42,
           42,
           42,
           50,
           56,
           57,
           62,
           61,
           74,
           72,
           76,
           84,
           88,
           95,
           95,
           100,
           100,
           100,
           100,
           100,
           100,
           100,
           100,
           100,
           100,
           100,
           100,
           100,
           99,
           100,
           99,
           99,
           99,
           98,
           99,
           98,
           97,
           97,
           96,
           93,
           89,
           86
          ],
          "colorbar": {
           "title": {
            "text": "Humidity (%)"
           }
          },
          "colorscale": [
           [
            0,
            "#440154"
           ],
           [
            0.1111111111111111,
            "#482878"
           ],
           [
            0.2222222222222222,
            "#3e4989"
           ],
           [
            0.3333333333333333,
            "#31688e"
           ],
           [
            0.4444444444444444,
            "#26828e"
           ],
           [
            0.5555555555555556,
            "#1f9e89"
           ],
           [
            0.6666666666666666,
            "#35b779"
           ],
           [
            0.7777777777777778,
            "#6ece58"
           ],
           [
            0.8888888888888888,
            "#b5de2b"
           ],
           [
            1,
            "#fde725"
           ]
          ],
          "showscale": true
         },
         "mode": "markers+lines",
         "name": "Relative Humidity",
         "type": "scatter",
         "x": [
          "2024-05-16T17:00:00+00:00",
          "2024-05-16T16:00:00+00:00",
          "2024-05-16T16:00:00+00:00",
          "2024-05-16T15:00:00+00:00",
          "2024-05-16T15:00:00+00:00",
          "2024-05-16T14:00:00+00:00",
          "2024-05-16T14:00:00+00:00",
          "2024-05-16T13:00:00+00:00",
          "2024-05-16T13:00:00+00:00",
          "2024-05-16T12:00:00+00:00",
          "2024-05-16T12:00:00+00:00",
          "2024-05-16T11:00:00+00:00",
          "2024-05-16T11:00:00+00:00",
          "2024-05-16T10:00:00+00:00",
          "2024-05-16T10:00:00+00:00",
          "2024-05-16T09:00:00+00:00",
          "2024-05-16T09:00:00+00:00",
          "2024-05-16T08:00:00+00:00",
          "2024-05-16T08:00:00+00:00",
          "2024-05-16T07:00:00+00:00",
          "2024-05-16T07:00:00+00:00",
          "2024-05-16T06:00:00+00:00",
          "2024-05-16T06:00:00+00:00",
          "2024-05-16T05:00:00+00:00",
          "2024-05-16T05:00:00+00:00",
          "2024-05-16T04:00:00+00:00",
          "2024-05-16T04:00:00+00:00",
          "2024-05-16T03:00:00+00:00",
          "2024-05-16T03:00:00+00:00",
          "2024-05-16T02:00:00+00:00",
          "2024-05-16T02:00:00+00:00",
          "2024-05-16T01:00:00+00:00",
          "2024-05-16T01:00:00+00:00",
          "2024-05-16T00:00:00+00:00",
          "2024-05-16T00:00:00+00:00",
          "2024-05-15T23:00:00+00:00",
          "2024-05-15T23:00:00+00:00",
          "2024-05-15T22:00:00+00:00",
          "2024-05-15T22:00:00+00:00",
          "2024-05-15T21:00:00+00:00",
          "2024-05-15T21:00:00+00:00",
          "2024-05-15T20:00:00+00:00",
          "2024-05-15T20:00:00+00:00",
          "2024-05-15T19:00:00+00:00",
          "2024-05-15T19:00:00+00:00",
          "2024-05-15T18:00:00+00:00",
          "2024-05-15T18:00:00+00:00",
          "2024-05-15T17:00:00+00:00",
          "2024-05-15T17:00:00+00:00",
          "2024-05-15T16:00:00+00:00",
          "2024-05-15T16:00:00+00:00",
          "2024-05-15T15:00:00+00:00",
          "2024-05-15T15:00:00+00:00",
          "2024-05-15T14:00:00+00:00",
          "2024-05-15T14:00:00+00:00",
          "2024-05-15T13:00:00+00:00",
          "2024-05-15T13:00:00+00:00",
          "2024-05-15T12:00:00+00:00",
          "2024-05-15T12:00:00+00:00",
          "2024-05-15T11:00:00+00:00",
          "2024-05-15T11:00:00+00:00",
          "2024-05-15T10:00:00+00:00",
          "2024-05-15T10:00:00+00:00",
          "2024-05-15T09:00:00+00:00",
          "2024-05-15T09:00:00+00:00",
          "2024-05-15T08:00:00+00:00",
          "2024-05-15T08:00:00+00:00",
          "2024-05-15T07:00:00+00:00",
          "2024-05-15T07:00:00+00:00",
          "2024-05-15T06:00:00+00:00",
          "2024-05-15T06:00:00+00:00",
          "2024-05-15T05:00:00+00:00",
          "2024-05-15T05:00:00+00:00",
          "2024-05-15T04:00:00+00:00",
          "2024-05-15T04:00:00+00:00",
          "2024-05-15T03:00:00+00:00",
          "2024-05-15T03:00:00+00:00",
          "2024-05-15T02:00:00+00:00",
          "2024-05-15T02:00:00+00:00",
          "2024-05-15T01:00:00+00:00",
          "2024-05-15T01:00:00+00:00",
          "2024-05-15T00:00:00+00:00",
          "2024-05-15T00:00:00+00:00",
          "2024-05-14T23:00:00+00:00",
          "2024-05-14T23:00:00+00:00",
          "2024-05-14T22:00:00+00:00",
          "2024-05-14T22:00:00+00:00",
          "2024-05-14T21:00:00+00:00",
          "2024-05-14T21:00:00+00:00",
          "2024-05-14T20:00:00+00:00",
          "2024-05-14T20:00:00+00:00",
          "2024-05-14T19:00:00+00:00",
          "2024-05-14T19:00:00+00:00",
          "2024-05-14T18:00:00+00:00",
          "2024-05-14T18:00:00+00:00",
          "2024-05-14T17:00:00+00:00",
          "2024-05-14T17:00:00+00:00",
          "2024-05-14T16:00:00+00:00",
          "2024-05-14T16:00:00+00:00",
          "2024-05-14T15:00:00+00:00",
          "2024-05-14T15:00:00+00:00",
          "2024-05-14T14:00:00+00:00",
          "2024-05-14T14:00:00+00:00",
          "2024-05-14T13:00:00+00:00",
          "2024-05-14T13:00:00+00:00",
          "2024-05-14T12:00:00+00:00",
          "2024-05-14T12:00:00+00:00",
          "2024-05-14T11:00:00+00:00",
          "2024-05-14T11:00:00+00:00",
          "2024-05-14T10:00:00+00:00",
          "2024-05-14T10:00:00+00:00",
          "2024-05-14T09:00:00+00:00",
          "2024-05-14T09:00:00+00:00",
          "2024-05-14T08:00:00+00:00",
          "2024-05-14T08:00:00+00:00",
          "2024-05-14T07:00:00+00:00",
          "2024-05-14T07:00:00+00:00",
          "2024-05-14T06:00:00+00:00",
          "2024-05-14T06:00:00+00:00",
          "2024-05-14T05:00:00+00:00",
          "2024-05-14T05:00:00+00:00",
          "2024-05-14T04:00:00+00:00",
          "2024-05-14T04:00:00+00:00",
          "2024-05-14T03:00:00+00:00",
          "2024-05-14T03:00:00+00:00",
          "2024-05-14T02:00:00+00:00",
          "2024-05-14T02:00:00+00:00",
          "2024-05-14T01:00:00+00:00",
          "2024-05-14T01:00:00+00:00",
          "2024-05-14T00:00:00+00:00",
          "2024-05-14T00:00:00+00:00",
          "2024-05-13T23:00:00+00:00",
          "2024-05-13T23:00:00+00:00",
          "2024-05-13T22:00:00+00:00",
          "2024-05-13T22:00:00+00:00",
          "2024-05-13T21:00:00+00:00",
          "2024-05-13T21:00:00+00:00",
          "2024-05-13T20:00:00+00:00",
          "2024-05-13T20:00:00+00:00",
          "2024-05-13T19:00:00+00:00",
          "2024-05-13T19:00:00+00:00",
          "2024-05-13T18:00:00+00:00",
          "2024-05-13T18:00:00+00:00",
          "2024-05-13T17:00:00+00:00"
         ],
         "y": [
          80,
          68,
          63,
          64,
          63,
          59,
          57,
          59,
          66,
          68,
          70,
          73,
          73,
          74,
          84,
          88,
          91,
          94,
          100,
          99,
          99,
          98,
          98,
          97,
          96,
          95,
          96,
          95,
          91,
          91,
          93,
          97,
          98,
          97,
          94,
          97,
          99,
          99,
          99,
          99,
          98,
          97,
          97,
          94,
          93,
          94,
          92,
          87,
          79,
          68,
          62,
          57,
          56,
          58,
          58,
          58,
          58,
          62,
          60,
          61,
          64,
          66,
          69,
          77,
          83,
          93,
          100,
          100,
          100,
          100,
          100,
          100,
          100,
          100,
          100,
          100,
          99,
          99,
          99,
          99,
          99,
          99,
          99,
          99,
          98,
          99,
          99,
          99,
          97,
          97,
          97,
          95,
          94,
          88,
          81,
          75,
          70,
          63,
          59,
          40,
          40,
          41,
          42,
          42,
          42,
          50,
          56,
          57,
          62,
          61,
          74,
          72,
          76,
          84,
          88,
          95,
          95,
          100,
          100,
          100,
          100,
          100,
          100,
          100,
          100,
          100,
          100,
          100,
          100,
          100,
          99,
          100,
          99,
          99,
          99,
          98,
          99,
          98,
          97,
          97,
          96,
          93,
          89,
          86
         ]
        }
       ],
       "layout": {
        "font": {
         "color": "black",
         "family": "Arial, sans-serif",
         "size": 12
        },
        "hovermode": "x",
        "plot_bgcolor": "rgba(0,0,0,0)",
        "template": {
         "data": {
          "bar": [
           {
            "error_x": {
             "color": "#2a3f5f"
            },
            "error_y": {
             "color": "#2a3f5f"
            },
            "marker": {
             "line": {
              "color": "#E5ECF6",
              "width": 0.5
             },
             "pattern": {
              "fillmode": "overlay",
              "size": 10,
              "solidity": 0.2
             }
            },
            "type": "bar"
           }
          ],
          "barpolar": [
           {
            "marker": {
             "line": {
              "color": "#E5ECF6",
              "width": 0.5
             },
             "pattern": {
              "fillmode": "overlay",
              "size": 10,
              "solidity": 0.2
             }
            },
            "type": "barpolar"
           }
          ],
          "carpet": [
           {
            "aaxis": {
             "endlinecolor": "#2a3f5f",
             "gridcolor": "white",
             "linecolor": "white",
             "minorgridcolor": "white",
             "startlinecolor": "#2a3f5f"
            },
            "baxis": {
             "endlinecolor": "#2a3f5f",
             "gridcolor": "white",
             "linecolor": "white",
             "minorgridcolor": "white",
             "startlinecolor": "#2a3f5f"
            },
            "type": "carpet"
           }
          ],
          "choropleth": [
           {
            "colorbar": {
             "outlinewidth": 0,
             "ticks": ""
            },
            "type": "choropleth"
           }
          ],
          "contour": [
           {
            "colorbar": {
             "outlinewidth": 0,
             "ticks": ""
            },
            "colorscale": [
             [
              0,
              "#0d0887"
             ],
             [
              0.1111111111111111,
              "#46039f"
             ],
             [
              0.2222222222222222,
              "#7201a8"
             ],
             [
              0.3333333333333333,
              "#9c179e"
             ],
             [
              0.4444444444444444,
              "#bd3786"
             ],
             [
              0.5555555555555556,
              "#d8576b"
             ],
             [
              0.6666666666666666,
              "#ed7953"
             ],
             [
              0.7777777777777778,
              "#fb9f3a"
             ],
             [
              0.8888888888888888,
              "#fdca26"
             ],
             [
              1,
              "#f0f921"
             ]
            ],
            "type": "contour"
           }
          ],
          "contourcarpet": [
           {
            "colorbar": {
             "outlinewidth": 0,
             "ticks": ""
            },
            "type": "contourcarpet"
           }
          ],
          "heatmap": [
           {
            "colorbar": {
             "outlinewidth": 0,
             "ticks": ""
            },
            "colorscale": [
             [
              0,
              "#0d0887"
             ],
             [
              0.1111111111111111,
              "#46039f"
             ],
             [
              0.2222222222222222,
              "#7201a8"
             ],
             [
              0.3333333333333333,
              "#9c179e"
             ],
             [
              0.4444444444444444,
              "#bd3786"
             ],
             [
              0.5555555555555556,
              "#d8576b"
             ],
             [
              0.6666666666666666,
              "#ed7953"
             ],
             [
              0.7777777777777778,
              "#fb9f3a"
             ],
             [
              0.8888888888888888,
              "#fdca26"
             ],
             [
              1,
              "#f0f921"
             ]
            ],
            "type": "heatmap"
           }
          ],
          "heatmapgl": [
           {
            "colorbar": {
             "outlinewidth": 0,
             "ticks": ""
            },
            "colorscale": [
             [
              0,
              "#0d0887"
             ],
             [
              0.1111111111111111,
              "#46039f"
             ],
             [
              0.2222222222222222,
              "#7201a8"
             ],
             [
              0.3333333333333333,
              "#9c179e"
             ],
             [
              0.4444444444444444,
              "#bd3786"
             ],
             [
              0.5555555555555556,
              "#d8576b"
             ],
             [
              0.6666666666666666,
              "#ed7953"
             ],
             [
              0.7777777777777778,
              "#fb9f3a"
             ],
             [
              0.8888888888888888,
              "#fdca26"
             ],
             [
              1,
              "#f0f921"
             ]
            ],
            "type": "heatmapgl"
           }
          ],
          "histogram": [
           {
            "marker": {
             "pattern": {
              "fillmode": "overlay",
              "size": 10,
              "solidity": 0.2
             }
            },
            "type": "histogram"
           }
          ],
          "histogram2d": [
           {
            "colorbar": {
             "outlinewidth": 0,
             "ticks": ""
            },
            "colorscale": [
             [
              0,
              "#0d0887"
             ],
             [
              0.1111111111111111,
              "#46039f"
             ],
             [
              0.2222222222222222,
              "#7201a8"
             ],
             [
              0.3333333333333333,
              "#9c179e"
             ],
             [
              0.4444444444444444,
              "#bd3786"
             ],
             [
              0.5555555555555556,
              "#d8576b"
             ],
             [
              0.6666666666666666,
              "#ed7953"
             ],
             [
              0.7777777777777778,
              "#fb9f3a"
             ],
             [
              0.8888888888888888,
              "#fdca26"
             ],
             [
              1,
              "#f0f921"
             ]
            ],
            "type": "histogram2d"
           }
          ],
          "histogram2dcontour": [
           {
            "colorbar": {
             "outlinewidth": 0,
             "ticks": ""
            },
            "colorscale": [
             [
              0,
              "#0d0887"
             ],
             [
              0.1111111111111111,
              "#46039f"
             ],
             [
              0.2222222222222222,
              "#7201a8"
             ],
             [
              0.3333333333333333,
              "#9c179e"
             ],
             [
              0.4444444444444444,
              "#bd3786"
             ],
             [
              0.5555555555555556,
              "#d8576b"
             ],
             [
              0.6666666666666666,
              "#ed7953"
             ],
             [
              0.7777777777777778,
              "#fb9f3a"
             ],
             [
              0.8888888888888888,
              "#fdca26"
             ],
             [
              1,
              "#f0f921"
             ]
            ],
            "type": "histogram2dcontour"
           }
          ],
          "mesh3d": [
           {
            "colorbar": {
             "outlinewidth": 0,
             "ticks": ""
            },
            "type": "mesh3d"
           }
          ],
          "parcoords": [
           {
            "line": {
             "colorbar": {
              "outlinewidth": 0,
              "ticks": ""
             }
            },
            "type": "parcoords"
           }
          ],
          "pie": [
           {
            "automargin": true,
            "type": "pie"
           }
          ],
          "scatter": [
           {
            "fillpattern": {
             "fillmode": "overlay",
             "size": 10,
             "solidity": 0.2
            },
            "type": "scatter"
           }
          ],
          "scatter3d": [
           {
            "line": {
             "colorbar": {
              "outlinewidth": 0,
              "ticks": ""
             }
            },
            "marker": {
             "colorbar": {
              "outlinewidth": 0,
              "ticks": ""
             }
            },
            "type": "scatter3d"
           }
          ],
          "scattercarpet": [
           {
            "marker": {
             "colorbar": {
              "outlinewidth": 0,
              "ticks": ""
             }
            },
            "type": "scattercarpet"
           }
          ],
          "scattergeo": [
           {
            "marker": {
             "colorbar": {
              "outlinewidth": 0,
              "ticks": ""
             }
            },
            "type": "scattergeo"
           }
          ],
          "scattergl": [
           {
            "marker": {
             "colorbar": {
              "outlinewidth": 0,
              "ticks": ""
             }
            },
            "type": "scattergl"
           }
          ],
          "scattermapbox": [
           {
            "marker": {
             "colorbar": {
              "outlinewidth": 0,
              "ticks": ""
             }
            },
            "type": "scattermapbox"
           }
          ],
          "scatterpolar": [
           {
            "marker": {
             "colorbar": {
              "outlinewidth": 0,
              "ticks": ""
             }
            },
            "type": "scatterpolar"
           }
          ],
          "scatterpolargl": [
           {
            "marker": {
             "colorbar": {
              "outlinewidth": 0,
              "ticks": ""
             }
            },
            "type": "scatterpolargl"
           }
          ],
          "scatterternary": [
           {
            "marker": {
             "colorbar": {
              "outlinewidth": 0,
              "ticks": ""
             }
            },
            "type": "scatterternary"
           }
          ],
          "surface": [
           {
            "colorbar": {
             "outlinewidth": 0,
             "ticks": ""
            },
            "colorscale": [
             [
              0,
              "#0d0887"
             ],
             [
              0.1111111111111111,
              "#46039f"
             ],
             [
              0.2222222222222222,
              "#7201a8"
             ],
             [
              0.3333333333333333,
              "#9c179e"
             ],
             [
              0.4444444444444444,
              "#bd3786"
             ],
             [
              0.5555555555555556,
              "#d8576b"
             ],
             [
              0.6666666666666666,
              "#ed7953"
             ],
             [
              0.7777777777777778,
              "#fb9f3a"
             ],
             [
              0.8888888888888888,
              "#fdca26"
             ],
             [
              1,
              "#f0f921"
             ]
            ],
            "type": "surface"
           }
          ],
          "table": [
           {
            "cells": {
             "fill": {
              "color": "#EBF0F8"
             },
             "line": {
              "color": "white"
             }
            },
            "header": {
             "fill": {
              "color": "#C8D4E3"
             },
             "line": {
              "color": "white"
             }
            },
            "type": "table"
           }
          ]
         },
         "layout": {
          "annotationdefaults": {
           "arrowcolor": "#2a3f5f",
           "arrowhead": 0,
           "arrowwidth": 1
          },
          "autotypenumbers": "strict",
          "coloraxis": {
           "colorbar": {
            "outlinewidth": 0,
            "ticks": ""
           }
          },
          "colorscale": {
           "diverging": [
            [
             0,
             "#8e0152"
            ],
            [
             0.1,
             "#c51b7d"
            ],
            [
             0.2,
             "#de77ae"
            ],
            [
             0.3,
             "#f1b6da"
            ],
            [
             0.4,
             "#fde0ef"
            ],
            [
             0.5,
             "#f7f7f7"
            ],
            [
             0.6,
             "#e6f5d0"
            ],
            [
             0.7,
             "#b8e186"
            ],
            [
             0.8,
             "#7fbc41"
            ],
            [
             0.9,
             "#4d9221"
            ],
            [
             1,
             "#276419"
            ]
           ],
           "sequential": [
            [
             0,
             "#0d0887"
            ],
            [
             0.1111111111111111,
             "#46039f"
            ],
            [
             0.2222222222222222,
             "#7201a8"
            ],
            [
             0.3333333333333333,
             "#9c179e"
            ],
            [
             0.4444444444444444,
             "#bd3786"
            ],
            [
             0.5555555555555556,
             "#d8576b"
            ],
            [
             0.6666666666666666,
             "#ed7953"
            ],
            [
             0.7777777777777778,
             "#fb9f3a"
            ],
            [
             0.8888888888888888,
             "#fdca26"
            ],
            [
             1,
             "#f0f921"
            ]
           ],
           "sequentialminus": [
            [
             0,
             "#0d0887"
            ],
            [
             0.1111111111111111,
             "#46039f"
            ],
            [
             0.2222222222222222,
             "#7201a8"
            ],
            [
             0.3333333333333333,
             "#9c179e"
            ],
            [
             0.4444444444444444,
             "#bd3786"
            ],
            [
             0.5555555555555556,
             "#d8576b"
            ],
            [
             0.6666666666666666,
             "#ed7953"
            ],
            [
             0.7777777777777778,
             "#fb9f3a"
            ],
            [
             0.8888888888888888,
             "#fdca26"
            ],
            [
             1,
             "#f0f921"
            ]
           ]
          },
          "colorway": [
           "#636efa",
           "#EF553B",
           "#00cc96",
           "#ab63fa",
           "#FFA15A",
           "#19d3f3",
           "#FF6692",
           "#B6E880",
           "#FF97FF",
           "#FECB52"
          ],
          "font": {
           "color": "#2a3f5f"
          },
          "geo": {
           "bgcolor": "white",
           "lakecolor": "white",
           "landcolor": "#E5ECF6",
           "showlakes": true,
           "showland": true,
           "subunitcolor": "white"
          },
          "hoverlabel": {
           "align": "left"
          },
          "hovermode": "closest",
          "mapbox": {
           "style": "light"
          },
          "paper_bgcolor": "white",
          "plot_bgcolor": "#E5ECF6",
          "polar": {
           "angularaxis": {
            "gridcolor": "white",
            "linecolor": "white",
            "ticks": ""
           },
           "bgcolor": "#E5ECF6",
           "radialaxis": {
            "gridcolor": "white",
            "linecolor": "white",
            "ticks": ""
           }
          },
          "scene": {
           "xaxis": {
            "backgroundcolor": "#E5ECF6",
            "gridcolor": "white",
            "gridwidth": 2,
            "linecolor": "white",
            "showbackground": true,
            "ticks": "",
            "zerolinecolor": "white"
           },
           "yaxis": {
            "backgroundcolor": "#E5ECF6",
            "gridcolor": "white",
            "gridwidth": 2,
            "linecolor": "white",
            "showbackground": true,
            "ticks": "",
            "zerolinecolor": "white"
           },
           "zaxis": {
            "backgroundcolor": "#E5ECF6",
            "gridcolor": "white",
            "gridwidth": 2,
            "linecolor": "white",
            "showbackground": true,
            "ticks": "",
            "zerolinecolor": "white"
           }
          },
          "shapedefaults": {
           "line": {
            "color": "#2a3f5f"
           }
          },
          "ternary": {
           "aaxis": {
            "gridcolor": "white",
            "linecolor": "white",
            "ticks": ""
           },
           "baxis": {
            "gridcolor": "white",
            "linecolor": "white",
            "ticks": ""
           },
           "bgcolor": "#E5ECF6",
           "caxis": {
            "gridcolor": "white",
            "linecolor": "white",
            "ticks": ""
           }
          },
          "title": {
           "x": 0.05
          },
          "xaxis": {
           "automargin": true,
           "gridcolor": "white",
           "linecolor": "white",
           "ticks": "",
           "title": {
            "standoff": 15
           },
           "zerolinecolor": "white",
           "zerolinewidth": 2
          },
          "yaxis": {
           "automargin": true,
           "gridcolor": "white",
           "linecolor": "white",
           "ticks": "",
           "title": {
            "standoff": 15
           },
           "zerolinecolor": "white",
           "zerolinewidth": 2
          }
         }
        },
        "title": {
         "text": "Relative Humidity Over Time",
         "x": 0.5,
         "xanchor": "center",
         "y": 0.9,
         "yanchor": "top"
        },
        "xaxis": {
         "showgrid": false,
         "title": {
          "text": "Time"
         }
        },
        "yaxis": {
         "gridcolor": "lightgray",
         "showgrid": true,
         "title": {
          "text": "Relative Humidity (%)"
         }
        }
       }
      }
     },
     "metadata": {},
     "output_type": "display_data"
    }
   ],
   "source": [
    "if 'rel_hum' in df.columns:\n",
    "    fig = go.Figure()\n",
    "\n",
    "    fig.add_trace(go.Scatter(\n",
    "        x=df.index,\n",
    "        y=df['rel_hum'],\n",
    "        mode='markers+lines',  # 使用markers+lines模式\n",
    "        name='Relative Humidity',\n",
    "        marker=dict(\n",
    "            color=df['rel_hum'],  # 使用湿度值来定义颜色\n",
    "            colorscale='Viridis',  # 选择颜色映射\n",
    "            showscale=True,  # 显示颜色条\n",
    "            colorbar=dict(\n",
    "                title=\"Humidity (%)\"  # 设置颜色条标题\n",
    "            )\n",
    "        ),\n",
    "        line=dict(\n",
    "            color='gray'  # 设置线条颜色\n",
    "        )\n",
    "    ))\n",
    "\n",
    "    fig.update_layout(\n",
    "        title={\n",
    "            'text': 'Relative Humidity Over Time',\n",
    "            'y': 0.9,\n",
    "            'x': 0.5,\n",
    "            'xanchor': 'center',\n",
    "            'yanchor': 'top'\n",
    "        },\n",
    "        xaxis_title='Time',\n",
    "        yaxis_title='Relative Humidity (%)',  # 设置Y轴标题\n",
    "        hovermode='x',\n",
    "        plot_bgcolor='rgba(0,0,0,0)',\n",
    "        xaxis=dict(\n",
    "            showgrid=False\n",
    "        ),\n",
    "        yaxis=dict(\n",
    "            showgrid=True,\n",
    "            gridcolor='lightgray'\n",
    "        ),\n",
    "        font=dict(\n",
    "            family=\"Arial, sans-serif\",\n",
    "            size=12,\n",
    "            color=\"black\"\n",
    "        )\n",
    "    )\n",
    "\n",
    "    fig.show()\n",
    "else:\n",
    "    print(\"The DataFrame does not contain the expected 'rel_hum' column.\")\n"
   ]
  },
  {
   "cell_type": "code",
   "execution_count": 275,
   "metadata": {},
   "outputs": [
    {
     "data": {
      "application/vnd.plotly.v1+json": {
       "config": {
        "plotlyServerURL": "https://plot.ly"
       },
       "data": [
        {
         "alignmentgroup": "True",
         "bingroup": "x",
         "hovertemplate": "<b>Gust Wind Speed:</b> %{x:.2f} km/h<br><b>Count:</b> %{y}<extra></extra>",
         "legendgroup": "",
         "marker": {
          "color": "#636EFA",
          "line": {
           "color": "#000000",
           "width": 1
          },
          "pattern": {
           "shape": ""
          }
         },
         "name": "",
         "nbinsx": 20,
         "offsetgroup": "",
         "orientation": "v",
         "showlegend": false,
         "type": "histogram",
         "x": [
          0,
          0,
          0,
          0,
          0,
          0,
          11,
          15,
          9,
          7,
          13,
          17,
          11,
          11,
          11,
          9,
          11,
          7,
          9,
          9,
          7,
          0,
          0,
          0,
          0,
          0,
          0,
          0,
          6,
          7,
          9,
          7,
          6,
          13,
          11,
          11,
          9,
          9,
          0,
          9,
          15,
          7,
          9,
          0,
          0,
          0,
          7,
          7,
          7,
          7,
          0,
          0,
          7,
          0,
          7,
          9,
          13,
          13,
          11,
          17,
          20,
          17,
          19,
          15,
          15,
          9,
          11,
          9,
          9,
          9,
          7,
          7,
          0,
          0,
          6,
          0,
          0,
          0,
          0,
          0,
          6,
          0,
          0,
          0,
          0,
          7,
          7,
          7,
          0,
          0,
          0,
          0,
          0,
          0,
          7,
          0,
          7,
          0,
          6,
          7,
          13,
          11,
          17,
          13,
          7,
          15,
          15,
          13,
          20,
          20,
          9,
          11,
          9,
          11,
          19,
          11,
          13,
          17,
          13,
          11,
          9,
          9,
          9,
          0,
          0,
          6,
          9,
          6,
          0,
          0,
          0,
          0,
          0,
          0,
          0,
          0,
          0,
          0,
          0,
          0,
          0,
          0,
          0,
          0
         ],
         "xaxis": "x",
         "yaxis": "y"
        },
        {
         "alignmentgroup": "True",
         "bingroup": "x",
         "hovertemplate": "<b>Average Wind Speed:</b> %{x:.2f} km/h<br><b>Count:</b> %{y}<extra></extra>",
         "legendgroup": "",
         "marker": {
          "color": "#EF553B",
          "line": {
           "color": "#000000",
           "width": 1
          },
          "pattern": {
           "shape": ""
          }
         },
         "name": "",
         "nbinsx": 20,
         "offsetgroup": "",
         "orientation": "v",
         "showlegend": false,
         "type": "histogram",
         "x": [
          0,
          0,
          0,
          0,
          0,
          0,
          7,
          9,
          6,
          4,
          7,
          9,
          7,
          7,
          6,
          6,
          7,
          4,
          6,
          6,
          6,
          0,
          0,
          0,
          0,
          0,
          0,
          0,
          2,
          7,
          7,
          7,
          2,
          9,
          9,
          7,
          2,
          4,
          0,
          4,
          11,
          4,
          2,
          0,
          0,
          0,
          2,
          6,
          6,
          6,
          0,
          0,
          6,
          0,
          6,
          6,
          9,
          6,
          6,
          9,
          11,
          9,
          9,
          9,
          9,
          6,
          7,
          6,
          6,
          4,
          6,
          4,
          0,
          0,
          4,
          0,
          0,
          0,
          0,
          0,
          2,
          0,
          0,
          0,
          0,
          4,
          6,
          6,
          0,
          0,
          0,
          0,
          0,
          0,
          6,
          0,
          6,
          0,
          2,
          6,
          7,
          7,
          9,
          9,
          4,
          9,
          9,
          9,
          11,
          13,
          6,
          6,
          6,
          7,
          9,
          7,
          9,
          9,
          9,
          9,
          6,
          6,
          7,
          0,
          0,
          0,
          7,
          6,
          0,
          0,
          0,
          0,
          0,
          0,
          0,
          0,
          0,
          0,
          0,
          0,
          0,
          0,
          0,
          0
         ],
         "xaxis": "x2",
         "yaxis": "y2"
        }
       ],
       "layout": {
        "annotations": [
         {
          "font": {
           "size": 16
          },
          "showarrow": false,
          "text": "Distribution of Gust Wind Speed",
          "x": 0.225,
          "xanchor": "center",
          "xref": "paper",
          "y": 1,
          "yanchor": "bottom",
          "yref": "paper"
         },
         {
          "font": {
           "size": 16
          },
          "showarrow": false,
          "text": "Distribution of Average Wind Speed",
          "x": 0.775,
          "xanchor": "center",
          "xref": "paper",
          "y": 1,
          "yanchor": "bottom",
          "yref": "paper"
         }
        ],
        "font": {
         "color": "black",
         "family": "Arial, sans-serif",
         "size": 12
        },
        "paper_bgcolor": "white",
        "plot_bgcolor": "white",
        "template": {
         "data": {
          "bar": [
           {
            "error_x": {
             "color": "#2a3f5f"
            },
            "error_y": {
             "color": "#2a3f5f"
            },
            "marker": {
             "line": {
              "color": "#E5ECF6",
              "width": 0.5
             },
             "pattern": {
              "fillmode": "overlay",
              "size": 10,
              "solidity": 0.2
             }
            },
            "type": "bar"
           }
          ],
          "barpolar": [
           {
            "marker": {
             "line": {
              "color": "#E5ECF6",
              "width": 0.5
             },
             "pattern": {
              "fillmode": "overlay",
              "size": 10,
              "solidity": 0.2
             }
            },
            "type": "barpolar"
           }
          ],
          "carpet": [
           {
            "aaxis": {
             "endlinecolor": "#2a3f5f",
             "gridcolor": "white",
             "linecolor": "white",
             "minorgridcolor": "white",
             "startlinecolor": "#2a3f5f"
            },
            "baxis": {
             "endlinecolor": "#2a3f5f",
             "gridcolor": "white",
             "linecolor": "white",
             "minorgridcolor": "white",
             "startlinecolor": "#2a3f5f"
            },
            "type": "carpet"
           }
          ],
          "choropleth": [
           {
            "colorbar": {
             "outlinewidth": 0,
             "ticks": ""
            },
            "type": "choropleth"
           }
          ],
          "contour": [
           {
            "colorbar": {
             "outlinewidth": 0,
             "ticks": ""
            },
            "colorscale": [
             [
              0,
              "#0d0887"
             ],
             [
              0.1111111111111111,
              "#46039f"
             ],
             [
              0.2222222222222222,
              "#7201a8"
             ],
             [
              0.3333333333333333,
              "#9c179e"
             ],
             [
              0.4444444444444444,
              "#bd3786"
             ],
             [
              0.5555555555555556,
              "#d8576b"
             ],
             [
              0.6666666666666666,
              "#ed7953"
             ],
             [
              0.7777777777777778,
              "#fb9f3a"
             ],
             [
              0.8888888888888888,
              "#fdca26"
             ],
             [
              1,
              "#f0f921"
             ]
            ],
            "type": "contour"
           }
          ],
          "contourcarpet": [
           {
            "colorbar": {
             "outlinewidth": 0,
             "ticks": ""
            },
            "type": "contourcarpet"
           }
          ],
          "heatmap": [
           {
            "colorbar": {
             "outlinewidth": 0,
             "ticks": ""
            },
            "colorscale": [
             [
              0,
              "#0d0887"
             ],
             [
              0.1111111111111111,
              "#46039f"
             ],
             [
              0.2222222222222222,
              "#7201a8"
             ],
             [
              0.3333333333333333,
              "#9c179e"
             ],
             [
              0.4444444444444444,
              "#bd3786"
             ],
             [
              0.5555555555555556,
              "#d8576b"
             ],
             [
              0.6666666666666666,
              "#ed7953"
             ],
             [
              0.7777777777777778,
              "#fb9f3a"
             ],
             [
              0.8888888888888888,
              "#fdca26"
             ],
             [
              1,
              "#f0f921"
             ]
            ],
            "type": "heatmap"
           }
          ],
          "heatmapgl": [
           {
            "colorbar": {
             "outlinewidth": 0,
             "ticks": ""
            },
            "colorscale": [
             [
              0,
              "#0d0887"
             ],
             [
              0.1111111111111111,
              "#46039f"
             ],
             [
              0.2222222222222222,
              "#7201a8"
             ],
             [
              0.3333333333333333,
              "#9c179e"
             ],
             [
              0.4444444444444444,
              "#bd3786"
             ],
             [
              0.5555555555555556,
              "#d8576b"
             ],
             [
              0.6666666666666666,
              "#ed7953"
             ],
             [
              0.7777777777777778,
              "#fb9f3a"
             ],
             [
              0.8888888888888888,
              "#fdca26"
             ],
             [
              1,
              "#f0f921"
             ]
            ],
            "type": "heatmapgl"
           }
          ],
          "histogram": [
           {
            "marker": {
             "pattern": {
              "fillmode": "overlay",
              "size": 10,
              "solidity": 0.2
             }
            },
            "type": "histogram"
           }
          ],
          "histogram2d": [
           {
            "colorbar": {
             "outlinewidth": 0,
             "ticks": ""
            },
            "colorscale": [
             [
              0,
              "#0d0887"
             ],
             [
              0.1111111111111111,
              "#46039f"
             ],
             [
              0.2222222222222222,
              "#7201a8"
             ],
             [
              0.3333333333333333,
              "#9c179e"
             ],
             [
              0.4444444444444444,
              "#bd3786"
             ],
             [
              0.5555555555555556,
              "#d8576b"
             ],
             [
              0.6666666666666666,
              "#ed7953"
             ],
             [
              0.7777777777777778,
              "#fb9f3a"
             ],
             [
              0.8888888888888888,
              "#fdca26"
             ],
             [
              1,
              "#f0f921"
             ]
            ],
            "type": "histogram2d"
           }
          ],
          "histogram2dcontour": [
           {
            "colorbar": {
             "outlinewidth": 0,
             "ticks": ""
            },
            "colorscale": [
             [
              0,
              "#0d0887"
             ],
             [
              0.1111111111111111,
              "#46039f"
             ],
             [
              0.2222222222222222,
              "#7201a8"
             ],
             [
              0.3333333333333333,
              "#9c179e"
             ],
             [
              0.4444444444444444,
              "#bd3786"
             ],
             [
              0.5555555555555556,
              "#d8576b"
             ],
             [
              0.6666666666666666,
              "#ed7953"
             ],
             [
              0.7777777777777778,
              "#fb9f3a"
             ],
             [
              0.8888888888888888,
              "#fdca26"
             ],
             [
              1,
              "#f0f921"
             ]
            ],
            "type": "histogram2dcontour"
           }
          ],
          "mesh3d": [
           {
            "colorbar": {
             "outlinewidth": 0,
             "ticks": ""
            },
            "type": "mesh3d"
           }
          ],
          "parcoords": [
           {
            "line": {
             "colorbar": {
              "outlinewidth": 0,
              "ticks": ""
             }
            },
            "type": "parcoords"
           }
          ],
          "pie": [
           {
            "automargin": true,
            "type": "pie"
           }
          ],
          "scatter": [
           {
            "fillpattern": {
             "fillmode": "overlay",
             "size": 10,
             "solidity": 0.2
            },
            "type": "scatter"
           }
          ],
          "scatter3d": [
           {
            "line": {
             "colorbar": {
              "outlinewidth": 0,
              "ticks": ""
             }
            },
            "marker": {
             "colorbar": {
              "outlinewidth": 0,
              "ticks": ""
             }
            },
            "type": "scatter3d"
           }
          ],
          "scattercarpet": [
           {
            "marker": {
             "colorbar": {
              "outlinewidth": 0,
              "ticks": ""
             }
            },
            "type": "scattercarpet"
           }
          ],
          "scattergeo": [
           {
            "marker": {
             "colorbar": {
              "outlinewidth": 0,
              "ticks": ""
             }
            },
            "type": "scattergeo"
           }
          ],
          "scattergl": [
           {
            "marker": {
             "colorbar": {
              "outlinewidth": 0,
              "ticks": ""
             }
            },
            "type": "scattergl"
           }
          ],
          "scattermapbox": [
           {
            "marker": {
             "colorbar": {
              "outlinewidth": 0,
              "ticks": ""
             }
            },
            "type": "scattermapbox"
           }
          ],
          "scatterpolar": [
           {
            "marker": {
             "colorbar": {
              "outlinewidth": 0,
              "ticks": ""
             }
            },
            "type": "scatterpolar"
           }
          ],
          "scatterpolargl": [
           {
            "marker": {
             "colorbar": {
              "outlinewidth": 0,
              "ticks": ""
             }
            },
            "type": "scatterpolargl"
           }
          ],
          "scatterternary": [
           {
            "marker": {
             "colorbar": {
              "outlinewidth": 0,
              "ticks": ""
             }
            },
            "type": "scatterternary"
           }
          ],
          "surface": [
           {
            "colorbar": {
             "outlinewidth": 0,
             "ticks": ""
            },
            "colorscale": [
             [
              0,
              "#0d0887"
             ],
             [
              0.1111111111111111,
              "#46039f"
             ],
             [
              0.2222222222222222,
              "#7201a8"
             ],
             [
              0.3333333333333333,
              "#9c179e"
             ],
             [
              0.4444444444444444,
              "#bd3786"
             ],
             [
              0.5555555555555556,
              "#d8576b"
             ],
             [
              0.6666666666666666,
              "#ed7953"
             ],
             [
              0.7777777777777778,
              "#fb9f3a"
             ],
             [
              0.8888888888888888,
              "#fdca26"
             ],
             [
              1,
              "#f0f921"
             ]
            ],
            "type": "surface"
           }
          ],
          "table": [
           {
            "cells": {
             "fill": {
              "color": "#EBF0F8"
             },
             "line": {
              "color": "white"
             }
            },
            "header": {
             "fill": {
              "color": "#C8D4E3"
             },
             "line": {
              "color": "white"
             }
            },
            "type": "table"
           }
          ]
         },
         "layout": {
          "annotationdefaults": {
           "arrowcolor": "#2a3f5f",
           "arrowhead": 0,
           "arrowwidth": 1
          },
          "autotypenumbers": "strict",
          "coloraxis": {
           "colorbar": {
            "outlinewidth": 0,
            "ticks": ""
           }
          },
          "colorscale": {
           "diverging": [
            [
             0,
             "#8e0152"
            ],
            [
             0.1,
             "#c51b7d"
            ],
            [
             0.2,
             "#de77ae"
            ],
            [
             0.3,
             "#f1b6da"
            ],
            [
             0.4,
             "#fde0ef"
            ],
            [
             0.5,
             "#f7f7f7"
            ],
            [
             0.6,
             "#e6f5d0"
            ],
            [
             0.7,
             "#b8e186"
            ],
            [
             0.8,
             "#7fbc41"
            ],
            [
             0.9,
             "#4d9221"
            ],
            [
             1,
             "#276419"
            ]
           ],
           "sequential": [
            [
             0,
             "#0d0887"
            ],
            [
             0.1111111111111111,
             "#46039f"
            ],
            [
             0.2222222222222222,
             "#7201a8"
            ],
            [
             0.3333333333333333,
             "#9c179e"
            ],
            [
             0.4444444444444444,
             "#bd3786"
            ],
            [
             0.5555555555555556,
             "#d8576b"
            ],
            [
             0.6666666666666666,
             "#ed7953"
            ],
            [
             0.7777777777777778,
             "#fb9f3a"
            ],
            [
             0.8888888888888888,
             "#fdca26"
            ],
            [
             1,
             "#f0f921"
            ]
           ],
           "sequentialminus": [
            [
             0,
             "#0d0887"
            ],
            [
             0.1111111111111111,
             "#46039f"
            ],
            [
             0.2222222222222222,
             "#7201a8"
            ],
            [
             0.3333333333333333,
             "#9c179e"
            ],
            [
             0.4444444444444444,
             "#bd3786"
            ],
            [
             0.5555555555555556,
             "#d8576b"
            ],
            [
             0.6666666666666666,
             "#ed7953"
            ],
            [
             0.7777777777777778,
             "#fb9f3a"
            ],
            [
             0.8888888888888888,
             "#fdca26"
            ],
            [
             1,
             "#f0f921"
            ]
           ]
          },
          "colorway": [
           "#636efa",
           "#EF553B",
           "#00cc96",
           "#ab63fa",
           "#FFA15A",
           "#19d3f3",
           "#FF6692",
           "#B6E880",
           "#FF97FF",
           "#FECB52"
          ],
          "font": {
           "color": "#2a3f5f"
          },
          "geo": {
           "bgcolor": "white",
           "lakecolor": "white",
           "landcolor": "#E5ECF6",
           "showlakes": true,
           "showland": true,
           "subunitcolor": "white"
          },
          "hoverlabel": {
           "align": "left"
          },
          "hovermode": "closest",
          "mapbox": {
           "style": "light"
          },
          "paper_bgcolor": "white",
          "plot_bgcolor": "#E5ECF6",
          "polar": {
           "angularaxis": {
            "gridcolor": "white",
            "linecolor": "white",
            "ticks": ""
           },
           "bgcolor": "#E5ECF6",
           "radialaxis": {
            "gridcolor": "white",
            "linecolor": "white",
            "ticks": ""
           }
          },
          "scene": {
           "xaxis": {
            "backgroundcolor": "#E5ECF6",
            "gridcolor": "white",
            "gridwidth": 2,
            "linecolor": "white",
            "showbackground": true,
            "ticks": "",
            "zerolinecolor": "white"
           },
           "yaxis": {
            "backgroundcolor": "#E5ECF6",
            "gridcolor": "white",
            "gridwidth": 2,
            "linecolor": "white",
            "showbackground": true,
            "ticks": "",
            "zerolinecolor": "white"
           },
           "zaxis": {
            "backgroundcolor": "#E5ECF6",
            "gridcolor": "white",
            "gridwidth": 2,
            "linecolor": "white",
            "showbackground": true,
            "ticks": "",
            "zerolinecolor": "white"
           }
          },
          "shapedefaults": {
           "line": {
            "color": "#2a3f5f"
           }
          },
          "ternary": {
           "aaxis": {
            "gridcolor": "white",
            "linecolor": "white",
            "ticks": ""
           },
           "baxis": {
            "gridcolor": "white",
            "linecolor": "white",
            "ticks": ""
           },
           "bgcolor": "#E5ECF6",
           "caxis": {
            "gridcolor": "white",
            "linecolor": "white",
            "ticks": ""
           }
          },
          "title": {
           "x": 0.05
          },
          "xaxis": {
           "automargin": true,
           "gridcolor": "white",
           "linecolor": "white",
           "ticks": "",
           "title": {
            "standoff": 15
           },
           "zerolinecolor": "white",
           "zerolinewidth": 2
          },
          "yaxis": {
           "automargin": true,
           "gridcolor": "white",
           "linecolor": "white",
           "ticks": "",
           "title": {
            "standoff": 15
           },
           "zerolinecolor": "white",
           "zerolinewidth": 2
          }
         }
        },
        "title": {
         "text": "Distribution of Wind Speeds"
        },
        "xaxis": {
         "anchor": "y",
         "domain": [
          0,
          0.45
         ],
         "gridcolor": "LightGray",
         "showgrid": true
        },
        "xaxis2": {
         "anchor": "y2",
         "domain": [
          0.55,
          1
         ],
         "gridcolor": "LightGray",
         "showgrid": true
        },
        "yaxis": {
         "anchor": "x",
         "domain": [
          0,
          1
         ],
         "gridcolor": "LightGray",
         "showgrid": true
        },
        "yaxis2": {
         "anchor": "x2",
         "domain": [
          0,
          1
         ],
         "gridcolor": "LightGray",
         "showgrid": true
        }
       }
      }
     },
     "metadata": {},
     "output_type": "display_data"
    }
   ],
   "source": [
    "# 创建子图布局\n",
    "fig = make_subplots(rows=1, cols=2, subplot_titles=(\"Distribution of Gust Wind Speed\", \"Distribution of Average Wind Speed\"))\n",
    "\n",
    "# 绘制阵风风速直方图\n",
    "gust_wind_speed_hist = px.histogram(df, x='gust_kmh', nbins=20, labels={'gust_kmh': 'Gust Wind Speed (km/h)'})\n",
    "gust_wind_speed_hist.update_traces(\n",
    "    hovertemplate='<b>Gust Wind Speed:</b> %{x:.2f} km/h<br><b>Count:</b> %{y}<extra></extra>',\n",
    "    marker=dict(color='#636EFA', line=dict(color='#000000', width=1))\n",
    ")\n",
    "\n",
    "# 绘制平均风速直方图\n",
    "average_wind_speed_hist = px.histogram(df, x='wind_spd_kmh', nbins=20, labels={'wind_spd_kmh': 'Average Wind Speed (km/h)'})\n",
    "average_wind_speed_hist.update_traces(\n",
    "    hovertemplate='<b>Average Wind Speed:</b> %{x:.2f} km/h<br><b>Count:</b> %{y}<extra></extra>',\n",
    "    marker=dict(color='#EF553B', line=dict(color='#000000', width=1))\n",
    ")\n",
    "\n",
    "# 添加直方图到子图布局中\n",
    "for trace in gust_wind_speed_hist.data:\n",
    "    fig.add_trace(trace, row=1, col=1)\n",
    "\n",
    "for trace in average_wind_speed_hist.data:\n",
    "    fig.add_trace(trace, row=1, col=2)\n",
    "\n",
    "# 更新布局\n",
    "fig.update_layout(\n",
    "    title_text='Distribution of Wind Speeds',\n",
    "    plot_bgcolor='white',\n",
    "    paper_bgcolor='white',\n",
    "    font=dict(family=\"Arial, sans-serif\", size=12, color=\"black\"),\n",
    "    xaxis=dict(showgrid=True, gridcolor='LightGray'),\n",
    "    yaxis=dict(showgrid=True, gridcolor='LightGray'),\n",
    "    xaxis2=dict(showgrid=True, gridcolor='LightGray'),\n",
    "    yaxis2=dict(showgrid=True, gridcolor='LightGray')\n",
    ")\n",
    "\n",
    "fig.show()\n",
    "\n"
   ]
  },
  {
   "cell_type": "code",
   "execution_count": 269,
   "metadata": {},
   "outputs": [
    {
     "data": {
      "application/vnd.plotly.v1+json": {
       "config": {
        "plotlyServerURL": "https://plot.ly"
       },
       "data": [
        {
         "customdata": [
          "2024-05-16 19:00:00",
          "2024-05-16 19:00:00",
          "2024-05-16 18:00:00",
          "2024-05-16 18:00:00",
          "2024-05-16 17:00:00",
          "2024-05-16 17:00:00",
          "2024-05-16 16:00:00",
          "2024-05-16 16:00:00",
          "2024-05-16 15:00:00",
          "2024-05-16 15:00:00",
          "2024-05-16 14:00:00",
          "2024-05-16 14:00:00",
          "2024-05-16 13:00:00",
          "2024-05-16 13:00:00",
          "2024-05-16 12:00:00",
          "2024-05-16 12:00:00",
          "2024-05-16 11:00:00",
          "2024-05-16 11:00:00",
          "2024-05-16 10:00:00",
          "2024-05-16 10:00:00",
          "2024-05-16 09:00:00",
          "2024-05-16 09:00:00",
          "2024-05-16 08:00:00",
          "2024-05-16 08:00:00",
          "2024-05-16 07:00:00",
          "2024-05-16 07:00:00",
          "2024-05-16 06:00:00",
          "2024-05-16 06:00:00",
          "2024-05-16 05:00:00",
          "2024-05-16 05:00:00",
          "2024-05-16 04:00:00",
          "2024-05-16 04:00:00",
          "2024-05-16 03:00:00",
          "2024-05-16 03:00:00",
          "2024-05-16 02:00:00",
          "2024-05-16 02:00:00",
          "2024-05-16 01:00:00",
          "2024-05-16 01:00:00",
          "2024-05-16 00:00:00",
          "2024-05-16 00:00:00",
          "2024-05-15 23:00:00",
          "2024-05-15 23:00:00",
          "2024-05-15 22:00:00",
          "2024-05-15 22:00:00",
          "2024-05-15 21:00:00",
          "2024-05-15 21:00:00",
          "2024-05-15 20:00:00",
          "2024-05-15 20:00:00",
          "2024-05-15 19:00:00",
          "2024-05-15 19:00:00",
          "2024-05-15 18:00:00",
          "2024-05-15 18:00:00",
          "2024-05-15 17:00:00",
          "2024-05-15 17:00:00",
          "2024-05-15 16:00:00",
          "2024-05-15 16:00:00",
          "2024-05-15 15:00:00",
          "2024-05-15 15:00:00",
          "2024-05-15 14:00:00",
          "2024-05-15 14:00:00",
          "2024-05-15 13:00:00",
          "2024-05-15 13:00:00",
          "2024-05-15 12:00:00",
          "2024-05-15 12:00:00",
          "2024-05-15 11:00:00",
          "2024-05-15 11:00:00",
          "2024-05-15 10:00:00",
          "2024-05-15 10:00:00",
          "2024-05-15 09:00:00",
          "2024-05-15 09:00:00",
          "2024-05-15 08:00:00",
          "2024-05-15 08:00:00",
          "2024-05-15 07:00:00",
          "2024-05-15 07:00:00",
          "2024-05-15 06:00:00",
          "2024-05-15 06:00:00",
          "2024-05-15 05:00:00",
          "2024-05-15 05:00:00",
          "2024-05-15 04:00:00",
          "2024-05-15 04:00:00",
          "2024-05-15 03:00:00",
          "2024-05-15 03:00:00",
          "2024-05-15 02:00:00",
          "2024-05-15 02:00:00",
          "2024-05-15 01:00:00",
          "2024-05-15 01:00:00",
          "2024-05-15 00:00:00",
          "2024-05-15 00:00:00",
          "2024-05-14 23:00:00",
          "2024-05-14 23:00:00",
          "2024-05-14 22:00:00",
          "2024-05-14 22:00:00",
          "2024-05-14 21:00:00",
          "2024-05-14 21:00:00",
          "2024-05-14 20:00:00",
          "2024-05-14 20:00:00",
          "2024-05-14 19:00:00",
          "2024-05-14 19:00:00",
          "2024-05-14 18:00:00",
          "2024-05-14 18:00:00",
          "2024-05-14 17:00:00",
          "2024-05-14 17:00:00",
          "2024-05-14 16:00:00",
          "2024-05-14 16:00:00",
          "2024-05-14 15:00:00",
          "2024-05-14 15:00:00",
          "2024-05-14 14:00:00",
          "2024-05-14 14:00:00",
          "2024-05-14 13:00:00",
          "2024-05-14 13:00:00",
          "2024-05-14 12:00:00",
          "2024-05-14 12:00:00",
          "2024-05-14 11:00:00",
          "2024-05-14 11:00:00",
          "2024-05-14 10:00:00",
          "2024-05-14 10:00:00",
          "2024-05-14 09:00:00",
          "2024-05-14 09:00:00",
          "2024-05-14 08:00:00",
          "2024-05-14 08:00:00",
          "2024-05-14 07:00:00",
          "2024-05-14 07:00:00",
          "2024-05-14 06:00:00",
          "2024-05-14 06:00:00",
          "2024-05-14 05:00:00",
          "2024-05-14 05:00:00",
          "2024-05-14 04:00:00",
          "2024-05-14 04:00:00",
          "2024-05-14 03:00:00",
          "2024-05-14 03:00:00",
          "2024-05-14 02:00:00",
          "2024-05-14 02:00:00",
          "2024-05-14 01:00:00",
          "2024-05-14 01:00:00",
          "2024-05-14 00:00:00",
          "2024-05-14 00:00:00",
          "2024-05-13 23:00:00",
          "2024-05-13 23:00:00",
          "2024-05-13 22:00:00",
          "2024-05-13 22:00:00",
          "2024-05-13 21:00:00",
          "2024-05-13 21:00:00",
          "2024-05-13 20:00:00",
          "2024-05-13 20:00:00"
         ],
         "hovertemplate": "<b>Time:</b> %{customdata}<br><b>Air Temperature:</b> %{x:.1f}<br><b>Pollen Total:</b> %{y:.2f}<extra></extra>",
         "legendgroup": "",
         "marker": {
          "color": [
           30.7751671199028,
           30.849203292458437,
           30.673698798881386,
           29.331342899491816,
           31.864648422655772,
           31.065689084269014,
           30.32853837764402,
           29.805072870498947,
           28.63178503688844,
           28.490055707059344,
           28.957290523202285,
           29.65353285311181,
           29.091254265342503,
           29.82799548671143,
           30.039427657532265,
           29.631776281767767,
           28.831543911146724,
           29.441444166818272,
           30.346248953378677,
           29.385584146374775,
           29.695698815144784,
           28.544877082953168,
           30.934792209596385,
           30.319479645012006,
           31.658846861129227,
           31.658846861129227,
           30.77368937471197,
           30.77368937471197,
           31.068073765759518,
           31.19951551699075,
           30.556581989991436,
           31.19951551699075,
           30.87532376575952,
           29.37065656943675,
           29.636428772723658,
           30.40006469072723,
           30.64623610342186,
           31.440434260373273,
           30.552084246506844,
           30.970125096008225,
           30.508840718363167,
           33.69392094728532,
           31.97015697879767,
           31.658846861129227,
           33.06469927831988,
           29.955963220474047,
           31.592552057076045,
           30.443902402452387,
           30.754406517263416,
           31.989870073212106,
           30.830511161054815,
           31.754846163640277,
           29.856015724540338,
           30.07225552525388,
           28.47608508248716,
           29.25864310055605,
           29.210329628704628,
           29.10581766517796,
           29.29362467434526,
           29.79238999596895,
           29.59396472864081,
           29.50349654409058,
           29.730712212838757,
           30.079762289696884,
           29.788004027061685,
           29.501952198063297,
           28.94070252721994,
           29.80068740722753,
           29.315685688431007,
           29.666399009807,
           31.989870073212106,
           33.65217538144764,
           30.493604040224636,
           30.319479645012006,
           31.5310582266726,
           30.319479645012006,
           30.319479645012006,
           30.319479645012006,
           30.319479645012006,
           30.319479645012006,
           30.74438192052261,
           31.658846861129227,
           31.658846861129227,
           31.658846861129227,
           31.658846861129227,
           33.69392094728532,
           33.11624540224213,
           33.11624540224213,
           31.658846861129227,
           31.127349484210313,
           33.06469927831988,
           30.34578627171163,
           32.41022308784369,
           30.552084246506844,
           32.715629736104965,
           30.183627525480755,
           31.4073642734974,
           28.63356232446604,
           28.702032293431213,
           29.8328436001563,
           29.37609342151432,
           28.997124188942035,
           29.499566936417555,
           29.492813311688305,
           29.527685003700476,
           29.295256903571147,
           29.10532824889249,
           28.97805322128852,
           28.890984259548503,
           29.098483116993684,
           29.367947111818275,
           29.856866239153007,
           29.06176927250073,
           29.234543519432055,
           29.014388316763558,
           29.949348660548853,
           28.135820096138286,
           28.847724591687253,
           29.15689983856275,
           29.82250020129509,
           30.81552661115974,
           30.81552661115974,
           30.171431512597202,
           30.319479645012006,
           30.319479645012006,
           30.689875427016112,
           30.171431512597202,
           31.187897387511757,
           30.319479645012006,
           30.319479645012006,
           30.319479645012006,
           30.319479645012006,
           30.319479645012006,
           30.319479645012006,
           30.319479645012006,
           31.658846861129227,
           30.319479645012006,
           31.658846861129227,
           31.658846861129227,
           31.658846861129227,
           30.77368937471197,
           31.658846861129227,
           32.15233941095024,
           28.211361004063015
          ],
          "coloraxis": "coloraxis",
          "symbol": "circle"
         },
         "mode": "markers",
         "name": "",
         "orientation": "v",
         "showlegend": false,
         "type": "scatter",
         "x": [
          13.5,
          13.3,
          13.5,
          14,
          15.1,
          16.6,
          18.9,
          20.3,
          21,
          21.1,
          21.4,
          21.5,
          21.4,
          20.9,
          21.2,
          20.1,
          18.5,
          18.6,
          18,
          16.3,
          14.9,
          12.9,
          12,
          9.9,
          8.6,
          8.6,
          8.8,
          9,
          9.3,
          9.4,
          9.7,
          9.6,
          9.9,
          10.6,
          10.7,
          10.7,
          10.3,
          10.8,
          11,
          11.7,
          12.2,
          11.3,
          11.7,
          11.7,
          12.4,
          12.5,
          12.6,
          13.4,
          13.5,
          13.5,
          13.6,
          14.4,
          15.2,
          17.3,
          19.7,
          20.8,
          21.1,
          21.3,
          21.1,
          21.3,
          20.8,
          20.7,
          20.5,
          20.4,
          20.1,
          19.3,
          18.5,
          17.2,
          16.1,
          15.2,
          13.5,
          12.7,
          12.2,
          11.9,
          11.5,
          10.9,
          9.7,
          9.4,
          9.8,
          9.9,
          10,
          10.3,
          10.7,
          11.3,
          11.6,
          11.8,
          11.7,
          11.7,
          12,
          12.3,
          12.4,
          12.8,
          12.3,
          12.2,
          12.8,
          12.9,
          12.7,
          13.1,
          14,
          15.8,
          16.8,
          17.6,
          19.5,
          20.9,
          23.2,
          22.3,
          22.4,
          22.4,
          22.6,
          22.3,
          22.5,
          22.1,
          21,
          19.9,
          18.5,
          17.4,
          16.5,
          15.4,
          13.5,
          12.3,
          10.5,
          10,
          8.9,
          8.9,
          8.5,
          8.7,
          9.2,
          9.3,
          9.3,
          9,
          9.4,
          9.5,
          9.8,
          10.2,
          10.5,
          10.5,
          11,
          11.1,
          11.4,
          11.6,
          11.6,
          12.2,
          12.4,
          12.6
         ],
         "xaxis": "x",
         "y": [
          30.7751671199028,
          30.849203292458437,
          30.673698798881386,
          29.331342899491816,
          31.864648422655772,
          31.065689084269014,
          30.32853837764402,
          29.805072870498947,
          28.63178503688844,
          28.490055707059344,
          28.957290523202285,
          29.65353285311181,
          29.091254265342503,
          29.82799548671143,
          30.039427657532265,
          29.631776281767767,
          28.831543911146724,
          29.441444166818272,
          30.346248953378677,
          29.385584146374775,
          29.695698815144784,
          28.544877082953168,
          30.934792209596385,
          30.319479645012006,
          31.658846861129227,
          31.658846861129227,
          30.77368937471197,
          30.77368937471197,
          31.068073765759518,
          31.19951551699075,
          30.556581989991436,
          31.19951551699075,
          30.87532376575952,
          29.37065656943675,
          29.636428772723658,
          30.40006469072723,
          30.64623610342186,
          31.440434260373273,
          30.552084246506844,
          30.970125096008225,
          30.508840718363167,
          33.69392094728532,
          31.97015697879767,
          31.658846861129227,
          33.06469927831988,
          29.955963220474047,
          31.592552057076045,
          30.443902402452387,
          30.754406517263416,
          31.989870073212106,
          30.830511161054815,
          31.754846163640277,
          29.856015724540338,
          30.07225552525388,
          28.47608508248716,
          29.25864310055605,
          29.210329628704628,
          29.10581766517796,
          29.29362467434526,
          29.79238999596895,
          29.59396472864081,
          29.50349654409058,
          29.730712212838757,
          30.079762289696884,
          29.788004027061685,
          29.501952198063297,
          28.94070252721994,
          29.80068740722753,
          29.315685688431007,
          29.666399009807,
          31.989870073212106,
          33.65217538144764,
          30.493604040224636,
          30.319479645012006,
          31.5310582266726,
          30.319479645012006,
          30.319479645012006,
          30.319479645012006,
          30.319479645012006,
          30.319479645012006,
          30.74438192052261,
          31.658846861129227,
          31.658846861129227,
          31.658846861129227,
          31.658846861129227,
          33.69392094728532,
          33.11624540224213,
          33.11624540224213,
          31.658846861129227,
          31.127349484210313,
          33.06469927831988,
          30.34578627171163,
          32.41022308784369,
          30.552084246506844,
          32.715629736104965,
          30.183627525480755,
          31.4073642734974,
          28.63356232446604,
          28.702032293431213,
          29.8328436001563,
          29.37609342151432,
          28.997124188942035,
          29.499566936417555,
          29.492813311688305,
          29.527685003700476,
          29.295256903571147,
          29.10532824889249,
          28.97805322128852,
          28.890984259548503,
          29.098483116993684,
          29.367947111818275,
          29.856866239153007,
          29.06176927250073,
          29.234543519432055,
          29.014388316763558,
          29.949348660548853,
          28.135820096138286,
          28.847724591687253,
          29.15689983856275,
          29.82250020129509,
          30.81552661115974,
          30.81552661115974,
          30.171431512597202,
          30.319479645012006,
          30.319479645012006,
          30.689875427016112,
          30.171431512597202,
          31.187897387511757,
          30.319479645012006,
          30.319479645012006,
          30.319479645012006,
          30.319479645012006,
          30.319479645012006,
          30.319479645012006,
          30.319479645012006,
          31.658846861129227,
          30.319479645012006,
          31.658846861129227,
          31.658846861129227,
          31.658846861129227,
          30.77368937471197,
          31.658846861129227,
          32.15233941095024,
          28.211361004063015
         ],
         "yaxis": "y"
        }
       ],
       "layout": {
        "coloraxis": {
         "colorbar": {
          "title": {
           "text": "Pollen Total"
          }
         },
         "colorscale": [
          [
           0,
           "rgb(243, 231, 155)"
          ],
          [
           0.16666666666666666,
           "rgb(250, 196, 132)"
          ],
          [
           0.3333333333333333,
           "rgb(248, 160, 126)"
          ],
          [
           0.5,
           "rgb(235, 127, 134)"
          ],
          [
           0.6666666666666666,
           "rgb(206, 102, 147)"
          ],
          [
           0.8333333333333334,
           "rgb(160, 89, 160)"
          ],
          [
           1,
           "rgb(92, 83, 165)"
          ]
         ]
        },
        "font": {
         "color": "black",
         "family": "Arial, sans-serif",
         "size": 12
        },
        "legend": {
         "tracegroupgap": 0
        },
        "paper_bgcolor": "white",
        "plot_bgcolor": "white",
        "template": {
         "data": {
          "bar": [
           {
            "error_x": {
             "color": "#2a3f5f"
            },
            "error_y": {
             "color": "#2a3f5f"
            },
            "marker": {
             "line": {
              "color": "#E5ECF6",
              "width": 0.5
             },
             "pattern": {
              "fillmode": "overlay",
              "size": 10,
              "solidity": 0.2
             }
            },
            "type": "bar"
           }
          ],
          "barpolar": [
           {
            "marker": {
             "line": {
              "color": "#E5ECF6",
              "width": 0.5
             },
             "pattern": {
              "fillmode": "overlay",
              "size": 10,
              "solidity": 0.2
             }
            },
            "type": "barpolar"
           }
          ],
          "carpet": [
           {
            "aaxis": {
             "endlinecolor": "#2a3f5f",
             "gridcolor": "white",
             "linecolor": "white",
             "minorgridcolor": "white",
             "startlinecolor": "#2a3f5f"
            },
            "baxis": {
             "endlinecolor": "#2a3f5f",
             "gridcolor": "white",
             "linecolor": "white",
             "minorgridcolor": "white",
             "startlinecolor": "#2a3f5f"
            },
            "type": "carpet"
           }
          ],
          "choropleth": [
           {
            "colorbar": {
             "outlinewidth": 0,
             "ticks": ""
            },
            "type": "choropleth"
           }
          ],
          "contour": [
           {
            "colorbar": {
             "outlinewidth": 0,
             "ticks": ""
            },
            "colorscale": [
             [
              0,
              "#0d0887"
             ],
             [
              0.1111111111111111,
              "#46039f"
             ],
             [
              0.2222222222222222,
              "#7201a8"
             ],
             [
              0.3333333333333333,
              "#9c179e"
             ],
             [
              0.4444444444444444,
              "#bd3786"
             ],
             [
              0.5555555555555556,
              "#d8576b"
             ],
             [
              0.6666666666666666,
              "#ed7953"
             ],
             [
              0.7777777777777778,
              "#fb9f3a"
             ],
             [
              0.8888888888888888,
              "#fdca26"
             ],
             [
              1,
              "#f0f921"
             ]
            ],
            "type": "contour"
           }
          ],
          "contourcarpet": [
           {
            "colorbar": {
             "outlinewidth": 0,
             "ticks": ""
            },
            "type": "contourcarpet"
           }
          ],
          "heatmap": [
           {
            "colorbar": {
             "outlinewidth": 0,
             "ticks": ""
            },
            "colorscale": [
             [
              0,
              "#0d0887"
             ],
             [
              0.1111111111111111,
              "#46039f"
             ],
             [
              0.2222222222222222,
              "#7201a8"
             ],
             [
              0.3333333333333333,
              "#9c179e"
             ],
             [
              0.4444444444444444,
              "#bd3786"
             ],
             [
              0.5555555555555556,
              "#d8576b"
             ],
             [
              0.6666666666666666,
              "#ed7953"
             ],
             [
              0.7777777777777778,
              "#fb9f3a"
             ],
             [
              0.8888888888888888,
              "#fdca26"
             ],
             [
              1,
              "#f0f921"
             ]
            ],
            "type": "heatmap"
           }
          ],
          "heatmapgl": [
           {
            "colorbar": {
             "outlinewidth": 0,
             "ticks": ""
            },
            "colorscale": [
             [
              0,
              "#0d0887"
             ],
             [
              0.1111111111111111,
              "#46039f"
             ],
             [
              0.2222222222222222,
              "#7201a8"
             ],
             [
              0.3333333333333333,
              "#9c179e"
             ],
             [
              0.4444444444444444,
              "#bd3786"
             ],
             [
              0.5555555555555556,
              "#d8576b"
             ],
             [
              0.6666666666666666,
              "#ed7953"
             ],
             [
              0.7777777777777778,
              "#fb9f3a"
             ],
             [
              0.8888888888888888,
              "#fdca26"
             ],
             [
              1,
              "#f0f921"
             ]
            ],
            "type": "heatmapgl"
           }
          ],
          "histogram": [
           {
            "marker": {
             "pattern": {
              "fillmode": "overlay",
              "size": 10,
              "solidity": 0.2
             }
            },
            "type": "histogram"
           }
          ],
          "histogram2d": [
           {
            "colorbar": {
             "outlinewidth": 0,
             "ticks": ""
            },
            "colorscale": [
             [
              0,
              "#0d0887"
             ],
             [
              0.1111111111111111,
              "#46039f"
             ],
             [
              0.2222222222222222,
              "#7201a8"
             ],
             [
              0.3333333333333333,
              "#9c179e"
             ],
             [
              0.4444444444444444,
              "#bd3786"
             ],
             [
              0.5555555555555556,
              "#d8576b"
             ],
             [
              0.6666666666666666,
              "#ed7953"
             ],
             [
              0.7777777777777778,
              "#fb9f3a"
             ],
             [
              0.8888888888888888,
              "#fdca26"
             ],
             [
              1,
              "#f0f921"
             ]
            ],
            "type": "histogram2d"
           }
          ],
          "histogram2dcontour": [
           {
            "colorbar": {
             "outlinewidth": 0,
             "ticks": ""
            },
            "colorscale": [
             [
              0,
              "#0d0887"
             ],
             [
              0.1111111111111111,
              "#46039f"
             ],
             [
              0.2222222222222222,
              "#7201a8"
             ],
             [
              0.3333333333333333,
              "#9c179e"
             ],
             [
              0.4444444444444444,
              "#bd3786"
             ],
             [
              0.5555555555555556,
              "#d8576b"
             ],
             [
              0.6666666666666666,
              "#ed7953"
             ],
             [
              0.7777777777777778,
              "#fb9f3a"
             ],
             [
              0.8888888888888888,
              "#fdca26"
             ],
             [
              1,
              "#f0f921"
             ]
            ],
            "type": "histogram2dcontour"
           }
          ],
          "mesh3d": [
           {
            "colorbar": {
             "outlinewidth": 0,
             "ticks": ""
            },
            "type": "mesh3d"
           }
          ],
          "parcoords": [
           {
            "line": {
             "colorbar": {
              "outlinewidth": 0,
              "ticks": ""
             }
            },
            "type": "parcoords"
           }
          ],
          "pie": [
           {
            "automargin": true,
            "type": "pie"
           }
          ],
          "scatter": [
           {
            "fillpattern": {
             "fillmode": "overlay",
             "size": 10,
             "solidity": 0.2
            },
            "type": "scatter"
           }
          ],
          "scatter3d": [
           {
            "line": {
             "colorbar": {
              "outlinewidth": 0,
              "ticks": ""
             }
            },
            "marker": {
             "colorbar": {
              "outlinewidth": 0,
              "ticks": ""
             }
            },
            "type": "scatter3d"
           }
          ],
          "scattercarpet": [
           {
            "marker": {
             "colorbar": {
              "outlinewidth": 0,
              "ticks": ""
             }
            },
            "type": "scattercarpet"
           }
          ],
          "scattergeo": [
           {
            "marker": {
             "colorbar": {
              "outlinewidth": 0,
              "ticks": ""
             }
            },
            "type": "scattergeo"
           }
          ],
          "scattergl": [
           {
            "marker": {
             "colorbar": {
              "outlinewidth": 0,
              "ticks": ""
             }
            },
            "type": "scattergl"
           }
          ],
          "scattermapbox": [
           {
            "marker": {
             "colorbar": {
              "outlinewidth": 0,
              "ticks": ""
             }
            },
            "type": "scattermapbox"
           }
          ],
          "scatterpolar": [
           {
            "marker": {
             "colorbar": {
              "outlinewidth": 0,
              "ticks": ""
             }
            },
            "type": "scatterpolar"
           }
          ],
          "scatterpolargl": [
           {
            "marker": {
             "colorbar": {
              "outlinewidth": 0,
              "ticks": ""
             }
            },
            "type": "scatterpolargl"
           }
          ],
          "scatterternary": [
           {
            "marker": {
             "colorbar": {
              "outlinewidth": 0,
              "ticks": ""
             }
            },
            "type": "scatterternary"
           }
          ],
          "surface": [
           {
            "colorbar": {
             "outlinewidth": 0,
             "ticks": ""
            },
            "colorscale": [
             [
              0,
              "#0d0887"
             ],
             [
              0.1111111111111111,
              "#46039f"
             ],
             [
              0.2222222222222222,
              "#7201a8"
             ],
             [
              0.3333333333333333,
              "#9c179e"
             ],
             [
              0.4444444444444444,
              "#bd3786"
             ],
             [
              0.5555555555555556,
              "#d8576b"
             ],
             [
              0.6666666666666666,
              "#ed7953"
             ],
             [
              0.7777777777777778,
              "#fb9f3a"
             ],
             [
              0.8888888888888888,
              "#fdca26"
             ],
             [
              1,
              "#f0f921"
             ]
            ],
            "type": "surface"
           }
          ],
          "table": [
           {
            "cells": {
             "fill": {
              "color": "#EBF0F8"
             },
             "line": {
              "color": "white"
             }
            },
            "header": {
             "fill": {
              "color": "#C8D4E3"
             },
             "line": {
              "color": "white"
             }
            },
            "type": "table"
           }
          ]
         },
         "layout": {
          "annotationdefaults": {
           "arrowcolor": "#2a3f5f",
           "arrowhead": 0,
           "arrowwidth": 1
          },
          "autotypenumbers": "strict",
          "coloraxis": {
           "colorbar": {
            "outlinewidth": 0,
            "ticks": ""
           }
          },
          "colorscale": {
           "diverging": [
            [
             0,
             "#8e0152"
            ],
            [
             0.1,
             "#c51b7d"
            ],
            [
             0.2,
             "#de77ae"
            ],
            [
             0.3,
             "#f1b6da"
            ],
            [
             0.4,
             "#fde0ef"
            ],
            [
             0.5,
             "#f7f7f7"
            ],
            [
             0.6,
             "#e6f5d0"
            ],
            [
             0.7,
             "#b8e186"
            ],
            [
             0.8,
             "#7fbc41"
            ],
            [
             0.9,
             "#4d9221"
            ],
            [
             1,
             "#276419"
            ]
           ],
           "sequential": [
            [
             0,
             "#0d0887"
            ],
            [
             0.1111111111111111,
             "#46039f"
            ],
            [
             0.2222222222222222,
             "#7201a8"
            ],
            [
             0.3333333333333333,
             "#9c179e"
            ],
            [
             0.4444444444444444,
             "#bd3786"
            ],
            [
             0.5555555555555556,
             "#d8576b"
            ],
            [
             0.6666666666666666,
             "#ed7953"
            ],
            [
             0.7777777777777778,
             "#fb9f3a"
            ],
            [
             0.8888888888888888,
             "#fdca26"
            ],
            [
             1,
             "#f0f921"
            ]
           ],
           "sequentialminus": [
            [
             0,
             "#0d0887"
            ],
            [
             0.1111111111111111,
             "#46039f"
            ],
            [
             0.2222222222222222,
             "#7201a8"
            ],
            [
             0.3333333333333333,
             "#9c179e"
            ],
            [
             0.4444444444444444,
             "#bd3786"
            ],
            [
             0.5555555555555556,
             "#d8576b"
            ],
            [
             0.6666666666666666,
             "#ed7953"
            ],
            [
             0.7777777777777778,
             "#fb9f3a"
            ],
            [
             0.8888888888888888,
             "#fdca26"
            ],
            [
             1,
             "#f0f921"
            ]
           ]
          },
          "colorway": [
           "#636efa",
           "#EF553B",
           "#00cc96",
           "#ab63fa",
           "#FFA15A",
           "#19d3f3",
           "#FF6692",
           "#B6E880",
           "#FF97FF",
           "#FECB52"
          ],
          "font": {
           "color": "#2a3f5f"
          },
          "geo": {
           "bgcolor": "white",
           "lakecolor": "white",
           "landcolor": "#E5ECF6",
           "showlakes": true,
           "showland": true,
           "subunitcolor": "white"
          },
          "hoverlabel": {
           "align": "left"
          },
          "hovermode": "closest",
          "mapbox": {
           "style": "light"
          },
          "paper_bgcolor": "white",
          "plot_bgcolor": "#E5ECF6",
          "polar": {
           "angularaxis": {
            "gridcolor": "white",
            "linecolor": "white",
            "ticks": ""
           },
           "bgcolor": "#E5ECF6",
           "radialaxis": {
            "gridcolor": "white",
            "linecolor": "white",
            "ticks": ""
           }
          },
          "scene": {
           "xaxis": {
            "backgroundcolor": "#E5ECF6",
            "gridcolor": "white",
            "gridwidth": 2,
            "linecolor": "white",
            "showbackground": true,
            "ticks": "",
            "zerolinecolor": "white"
           },
           "yaxis": {
            "backgroundcolor": "#E5ECF6",
            "gridcolor": "white",
            "gridwidth": 2,
            "linecolor": "white",
            "showbackground": true,
            "ticks": "",
            "zerolinecolor": "white"
           },
           "zaxis": {
            "backgroundcolor": "#E5ECF6",
            "gridcolor": "white",
            "gridwidth": 2,
            "linecolor": "white",
            "showbackground": true,
            "ticks": "",
            "zerolinecolor": "white"
           }
          },
          "shapedefaults": {
           "line": {
            "color": "#2a3f5f"
           }
          },
          "ternary": {
           "aaxis": {
            "gridcolor": "white",
            "linecolor": "white",
            "ticks": ""
           },
           "baxis": {
            "gridcolor": "white",
            "linecolor": "white",
            "ticks": ""
           },
           "bgcolor": "#E5ECF6",
           "caxis": {
            "gridcolor": "white",
            "linecolor": "white",
            "ticks": ""
           }
          },
          "title": {
           "x": 0.05
          },
          "xaxis": {
           "automargin": true,
           "gridcolor": "white",
           "linecolor": "white",
           "ticks": "",
           "title": {
            "standoff": 15
           },
           "zerolinecolor": "white",
           "zerolinewidth": 2
          },
          "yaxis": {
           "automargin": true,
           "gridcolor": "white",
           "linecolor": "white",
           "ticks": "",
           "title": {
            "standoff": 15
           },
           "zerolinecolor": "white",
           "zerolinewidth": 2
          }
         }
        },
        "title": {
         "text": "Pollen Total vs Air Temperature",
         "x": 0.5,
         "xanchor": "center",
         "yanchor": "top"
        },
        "xaxis": {
         "anchor": "y",
         "domain": [
          0,
          1
         ],
         "gridcolor": "LightGray",
         "showgrid": true,
         "title": {
          "text": "Air Temperature (°C)"
         }
        },
        "yaxis": {
         "anchor": "x",
         "domain": [
          0,
          1
         ],
         "gridcolor": "LightGray",
         "showgrid": true,
         "title": {
          "text": "Pollen Total"
         }
        }
       }
      }
     },
     "metadata": {},
     "output_type": "display_data"
    }
   ],
   "source": [
    "fig = px.scatter(df, x='air_temp', y='pollen_total', color='pollen_total',\n",
    "                 title='Pollen Total vs Air Temperature',\n",
    "                 labels={'air_temp': 'Air Temperature (°C)', 'pollen_total': 'Pollen Total'},\n",
    "                 color_continuous_scale='Sunset')\n",
    "\n",
    "# 自定义悬停信息\n",
    "fig.update_traces(\n",
    "    hovertemplate='<b>Time:</b> %{customdata}<br>' +\n",
    "                  '<b>Air Temperature:</b> %{x:.1f}<br>' +\n",
    "                  '<b>Pollen Total:</b> %{y:.2f}<extra></extra>',\n",
    "    customdata=df.index.strftime('%Y-%m-%d %H:%M:%S')\n",
    ")\n",
    "\n",
    "# 更新布局\n",
    "fig.update_layout(\n",
    "    plot_bgcolor='white',\n",
    "    paper_bgcolor='white',\n",
    "    xaxis=dict(showgrid=True, gridcolor='LightGray'),\n",
    "    yaxis=dict(showgrid=True, gridcolor='LightGray'),\n",
    "    font=dict(family=\"Arial, sans-serif\", size=12, color=\"black\"),\n",
    "    title=dict(text='Pollen Total vs Air Temperature', x=0.5, xanchor='center', yanchor='top'),\n",
    "    coloraxis_colorbar=dict(title='Pollen Total')\n",
    ")\n",
    "\n",
    "fig.show()\n",
    "\n"
   ]
  },
  {
   "cell_type": "code",
   "execution_count": 270,
   "metadata": {},
   "outputs": [
    {
     "data": {
      "application/vnd.plotly.v1+json": {
       "config": {
        "plotlyServerURL": "https://plot.ly"
       },
       "data": [
        {
         "customdata": [
          "2024-05-16 19:00:00",
          "2024-05-16 19:00:00",
          "2024-05-16 18:00:00",
          "2024-05-16 18:00:00",
          "2024-05-16 17:00:00",
          "2024-05-16 17:00:00",
          "2024-05-16 16:00:00",
          "2024-05-16 16:00:00",
          "2024-05-16 15:00:00",
          "2024-05-16 15:00:00",
          "2024-05-16 14:00:00",
          "2024-05-16 14:00:00",
          "2024-05-16 13:00:00",
          "2024-05-16 13:00:00",
          "2024-05-16 12:00:00",
          "2024-05-16 12:00:00",
          "2024-05-16 11:00:00",
          "2024-05-16 11:00:00",
          "2024-05-16 10:00:00",
          "2024-05-16 10:00:00",
          "2024-05-16 09:00:00",
          "2024-05-16 09:00:00",
          "2024-05-16 08:00:00",
          "2024-05-16 08:00:00",
          "2024-05-16 07:00:00",
          "2024-05-16 07:00:00",
          "2024-05-16 06:00:00",
          "2024-05-16 06:00:00",
          "2024-05-16 05:00:00",
          "2024-05-16 05:00:00",
          "2024-05-16 04:00:00",
          "2024-05-16 04:00:00",
          "2024-05-16 03:00:00",
          "2024-05-16 03:00:00",
          "2024-05-16 02:00:00",
          "2024-05-16 02:00:00",
          "2024-05-16 01:00:00",
          "2024-05-16 01:00:00",
          "2024-05-16 00:00:00",
          "2024-05-16 00:00:00",
          "2024-05-15 23:00:00",
          "2024-05-15 23:00:00",
          "2024-05-15 22:00:00",
          "2024-05-15 22:00:00",
          "2024-05-15 21:00:00",
          "2024-05-15 21:00:00",
          "2024-05-15 20:00:00",
          "2024-05-15 20:00:00",
          "2024-05-15 19:00:00",
          "2024-05-15 19:00:00",
          "2024-05-15 18:00:00",
          "2024-05-15 18:00:00",
          "2024-05-15 17:00:00",
          "2024-05-15 17:00:00",
          "2024-05-15 16:00:00",
          "2024-05-15 16:00:00",
          "2024-05-15 15:00:00",
          "2024-05-15 15:00:00",
          "2024-05-15 14:00:00",
          "2024-05-15 14:00:00",
          "2024-05-15 13:00:00",
          "2024-05-15 13:00:00",
          "2024-05-15 12:00:00",
          "2024-05-15 12:00:00",
          "2024-05-15 11:00:00",
          "2024-05-15 11:00:00",
          "2024-05-15 10:00:00",
          "2024-05-15 10:00:00",
          "2024-05-15 09:00:00",
          "2024-05-15 09:00:00",
          "2024-05-15 08:00:00",
          "2024-05-15 08:00:00",
          "2024-05-15 07:00:00",
          "2024-05-15 07:00:00",
          "2024-05-15 06:00:00",
          "2024-05-15 06:00:00",
          "2024-05-15 05:00:00",
          "2024-05-15 05:00:00",
          "2024-05-15 04:00:00",
          "2024-05-15 04:00:00",
          "2024-05-15 03:00:00",
          "2024-05-15 03:00:00",
          "2024-05-15 02:00:00",
          "2024-05-15 02:00:00",
          "2024-05-15 01:00:00",
          "2024-05-15 01:00:00",
          "2024-05-15 00:00:00",
          "2024-05-15 00:00:00",
          "2024-05-14 23:00:00",
          "2024-05-14 23:00:00",
          "2024-05-14 22:00:00",
          "2024-05-14 22:00:00",
          "2024-05-14 21:00:00",
          "2024-05-14 21:00:00",
          "2024-05-14 20:00:00",
          "2024-05-14 20:00:00",
          "2024-05-14 19:00:00",
          "2024-05-14 19:00:00",
          "2024-05-14 18:00:00",
          "2024-05-14 18:00:00",
          "2024-05-14 17:00:00",
          "2024-05-14 17:00:00",
          "2024-05-14 16:00:00",
          "2024-05-14 16:00:00",
          "2024-05-14 15:00:00",
          "2024-05-14 15:00:00",
          "2024-05-14 14:00:00",
          "2024-05-14 14:00:00",
          "2024-05-14 13:00:00",
          "2024-05-14 13:00:00",
          "2024-05-14 12:00:00",
          "2024-05-14 12:00:00",
          "2024-05-14 11:00:00",
          "2024-05-14 11:00:00",
          "2024-05-14 10:00:00",
          "2024-05-14 10:00:00",
          "2024-05-14 09:00:00",
          "2024-05-14 09:00:00",
          "2024-05-14 08:00:00",
          "2024-05-14 08:00:00",
          "2024-05-14 07:00:00",
          "2024-05-14 07:00:00",
          "2024-05-14 06:00:00",
          "2024-05-14 06:00:00",
          "2024-05-14 05:00:00",
          "2024-05-14 05:00:00",
          "2024-05-14 04:00:00",
          "2024-05-14 04:00:00",
          "2024-05-14 03:00:00",
          "2024-05-14 03:00:00",
          "2024-05-14 02:00:00",
          "2024-05-14 02:00:00",
          "2024-05-14 01:00:00",
          "2024-05-14 01:00:00",
          "2024-05-14 00:00:00",
          "2024-05-14 00:00:00",
          "2024-05-13 23:00:00",
          "2024-05-13 23:00:00",
          "2024-05-13 22:00:00",
          "2024-05-13 22:00:00",
          "2024-05-13 21:00:00",
          "2024-05-13 21:00:00",
          "2024-05-13 20:00:00",
          "2024-05-13 20:00:00"
         ],
         "hovertemplate": "<b>Time:</b> %{customdata}<br><b>Relative Humidity:</b> %{x:.1f}%<br><b>Pollen Total:</b> %{y:.2f}<extra></extra>",
         "legendgroup": "",
         "marker": {
          "color": [
           97,
           96,
           93,
           92,
           87,
           80,
           68,
           63,
           64,
           63,
           59,
           57,
           59,
           66,
           68,
           70,
           73,
           73,
           74,
           84,
           88,
           91,
           94,
           100,
           99,
           99,
           98,
           98,
           97,
           96,
           95,
           96,
           95,
           91,
           91,
           93,
           97,
           98,
           97,
           94,
           97,
           99,
           99,
           99,
           99,
           98,
           97,
           97,
           94,
           93,
           94,
           92,
           87,
           79,
           68,
           62,
           57,
           56,
           58,
           58,
           58,
           58,
           62,
           60,
           61,
           64,
           66,
           69,
           77,
           83,
           93,
           100,
           100,
           100,
           100,
           100,
           100,
           100,
           100,
           100,
           100,
           99,
           99,
           99,
           99,
           99,
           99,
           99,
           99,
           98,
           99,
           99,
           99,
           97,
           97,
           97,
           95,
           94,
           88,
           81,
           75,
           70,
           63,
           59,
           40,
           40,
           41,
           42,
           42,
           42,
           50,
           56,
           57,
           62,
           61,
           74,
           72,
           76,
           84,
           88,
           95,
           95,
           100,
           100,
           100,
           100,
           100,
           100,
           100,
           100,
           100,
           100,
           100,
           100,
           100,
           99,
           100,
           99,
           99,
           99,
           98,
           99,
           98,
           97
          ],
          "coloraxis": "coloraxis",
          "symbol": "circle"
         },
         "mode": "markers",
         "name": "",
         "orientation": "v",
         "showlegend": false,
         "type": "scatter",
         "x": [
          97,
          96,
          93,
          92,
          87,
          80,
          68,
          63,
          64,
          63,
          59,
          57,
          59,
          66,
          68,
          70,
          73,
          73,
          74,
          84,
          88,
          91,
          94,
          100,
          99,
          99,
          98,
          98,
          97,
          96,
          95,
          96,
          95,
          91,
          91,
          93,
          97,
          98,
          97,
          94,
          97,
          99,
          99,
          99,
          99,
          98,
          97,
          97,
          94,
          93,
          94,
          92,
          87,
          79,
          68,
          62,
          57,
          56,
          58,
          58,
          58,
          58,
          62,
          60,
          61,
          64,
          66,
          69,
          77,
          83,
          93,
          100,
          100,
          100,
          100,
          100,
          100,
          100,
          100,
          100,
          100,
          99,
          99,
          99,
          99,
          99,
          99,
          99,
          99,
          98,
          99,
          99,
          99,
          97,
          97,
          97,
          95,
          94,
          88,
          81,
          75,
          70,
          63,
          59,
          40,
          40,
          41,
          42,
          42,
          42,
          50,
          56,
          57,
          62,
          61,
          74,
          72,
          76,
          84,
          88,
          95,
          95,
          100,
          100,
          100,
          100,
          100,
          100,
          100,
          100,
          100,
          100,
          100,
          100,
          100,
          99,
          100,
          99,
          99,
          99,
          98,
          99,
          98,
          97
         ],
         "xaxis": "x",
         "y": [
          30.7751671199028,
          30.849203292458437,
          30.673698798881386,
          29.331342899491816,
          31.864648422655772,
          31.065689084269014,
          30.32853837764402,
          29.805072870498947,
          28.63178503688844,
          28.490055707059344,
          28.957290523202285,
          29.65353285311181,
          29.091254265342503,
          29.82799548671143,
          30.039427657532265,
          29.631776281767767,
          28.831543911146724,
          29.441444166818272,
          30.346248953378677,
          29.385584146374775,
          29.695698815144784,
          28.544877082953168,
          30.934792209596385,
          30.319479645012006,
          31.658846861129227,
          31.658846861129227,
          30.77368937471197,
          30.77368937471197,
          31.068073765759518,
          31.19951551699075,
          30.556581989991436,
          31.19951551699075,
          30.87532376575952,
          29.37065656943675,
          29.636428772723658,
          30.40006469072723,
          30.64623610342186,
          31.440434260373273,
          30.552084246506844,
          30.970125096008225,
          30.508840718363167,
          33.69392094728532,
          31.97015697879767,
          31.658846861129227,
          33.06469927831988,
          29.955963220474047,
          31.592552057076045,
          30.443902402452387,
          30.754406517263416,
          31.989870073212106,
          30.830511161054815,
          31.754846163640277,
          29.856015724540338,
          30.07225552525388,
          28.47608508248716,
          29.25864310055605,
          29.210329628704628,
          29.10581766517796,
          29.29362467434526,
          29.79238999596895,
          29.59396472864081,
          29.50349654409058,
          29.730712212838757,
          30.079762289696884,
          29.788004027061685,
          29.501952198063297,
          28.94070252721994,
          29.80068740722753,
          29.315685688431007,
          29.666399009807,
          31.989870073212106,
          33.65217538144764,
          30.493604040224636,
          30.319479645012006,
          31.5310582266726,
          30.319479645012006,
          30.319479645012006,
          30.319479645012006,
          30.319479645012006,
          30.319479645012006,
          30.74438192052261,
          31.658846861129227,
          31.658846861129227,
          31.658846861129227,
          31.658846861129227,
          33.69392094728532,
          33.11624540224213,
          33.11624540224213,
          31.658846861129227,
          31.127349484210313,
          33.06469927831988,
          30.34578627171163,
          32.41022308784369,
          30.552084246506844,
          32.715629736104965,
          30.183627525480755,
          31.4073642734974,
          28.63356232446604,
          28.702032293431213,
          29.8328436001563,
          29.37609342151432,
          28.997124188942035,
          29.499566936417555,
          29.492813311688305,
          29.527685003700476,
          29.295256903571147,
          29.10532824889249,
          28.97805322128852,
          28.890984259548503,
          29.098483116993684,
          29.367947111818275,
          29.856866239153007,
          29.06176927250073,
          29.234543519432055,
          29.014388316763558,
          29.949348660548853,
          28.135820096138286,
          28.847724591687253,
          29.15689983856275,
          29.82250020129509,
          30.81552661115974,
          30.81552661115974,
          30.171431512597202,
          30.319479645012006,
          30.319479645012006,
          30.689875427016112,
          30.171431512597202,
          31.187897387511757,
          30.319479645012006,
          30.319479645012006,
          30.319479645012006,
          30.319479645012006,
          30.319479645012006,
          30.319479645012006,
          30.319479645012006,
          31.658846861129227,
          30.319479645012006,
          31.658846861129227,
          31.658846861129227,
          31.658846861129227,
          30.77368937471197,
          31.658846861129227,
          32.15233941095024,
          28.211361004063015
         ],
         "yaxis": "y"
        }
       ],
       "layout": {
        "coloraxis": {
         "colorbar": {
          "title": {
           "text": "Relative Humidity"
          }
         },
         "colorscale": [
          [
           0,
           "rgb(243, 231, 155)"
          ],
          [
           0.16666666666666666,
           "rgb(250, 196, 132)"
          ],
          [
           0.3333333333333333,
           "rgb(248, 160, 126)"
          ],
          [
           0.5,
           "rgb(235, 127, 134)"
          ],
          [
           0.6666666666666666,
           "rgb(206, 102, 147)"
          ],
          [
           0.8333333333333334,
           "rgb(160, 89, 160)"
          ],
          [
           1,
           "rgb(92, 83, 165)"
          ]
         ]
        },
        "font": {
         "color": "black",
         "family": "Arial, sans-serif",
         "size": 12
        },
        "legend": {
         "tracegroupgap": 0
        },
        "paper_bgcolor": "white",
        "plot_bgcolor": "white",
        "template": {
         "data": {
          "bar": [
           {
            "error_x": {
             "color": "#2a3f5f"
            },
            "error_y": {
             "color": "#2a3f5f"
            },
            "marker": {
             "line": {
              "color": "#E5ECF6",
              "width": 0.5
             },
             "pattern": {
              "fillmode": "overlay",
              "size": 10,
              "solidity": 0.2
             }
            },
            "type": "bar"
           }
          ],
          "barpolar": [
           {
            "marker": {
             "line": {
              "color": "#E5ECF6",
              "width": 0.5
             },
             "pattern": {
              "fillmode": "overlay",
              "size": 10,
              "solidity": 0.2
             }
            },
            "type": "barpolar"
           }
          ],
          "carpet": [
           {
            "aaxis": {
             "endlinecolor": "#2a3f5f",
             "gridcolor": "white",
             "linecolor": "white",
             "minorgridcolor": "white",
             "startlinecolor": "#2a3f5f"
            },
            "baxis": {
             "endlinecolor": "#2a3f5f",
             "gridcolor": "white",
             "linecolor": "white",
             "minorgridcolor": "white",
             "startlinecolor": "#2a3f5f"
            },
            "type": "carpet"
           }
          ],
          "choropleth": [
           {
            "colorbar": {
             "outlinewidth": 0,
             "ticks": ""
            },
            "type": "choropleth"
           }
          ],
          "contour": [
           {
            "colorbar": {
             "outlinewidth": 0,
             "ticks": ""
            },
            "colorscale": [
             [
              0,
              "#0d0887"
             ],
             [
              0.1111111111111111,
              "#46039f"
             ],
             [
              0.2222222222222222,
              "#7201a8"
             ],
             [
              0.3333333333333333,
              "#9c179e"
             ],
             [
              0.4444444444444444,
              "#bd3786"
             ],
             [
              0.5555555555555556,
              "#d8576b"
             ],
             [
              0.6666666666666666,
              "#ed7953"
             ],
             [
              0.7777777777777778,
              "#fb9f3a"
             ],
             [
              0.8888888888888888,
              "#fdca26"
             ],
             [
              1,
              "#f0f921"
             ]
            ],
            "type": "contour"
           }
          ],
          "contourcarpet": [
           {
            "colorbar": {
             "outlinewidth": 0,
             "ticks": ""
            },
            "type": "contourcarpet"
           }
          ],
          "heatmap": [
           {
            "colorbar": {
             "outlinewidth": 0,
             "ticks": ""
            },
            "colorscale": [
             [
              0,
              "#0d0887"
             ],
             [
              0.1111111111111111,
              "#46039f"
             ],
             [
              0.2222222222222222,
              "#7201a8"
             ],
             [
              0.3333333333333333,
              "#9c179e"
             ],
             [
              0.4444444444444444,
              "#bd3786"
             ],
             [
              0.5555555555555556,
              "#d8576b"
             ],
             [
              0.6666666666666666,
              "#ed7953"
             ],
             [
              0.7777777777777778,
              "#fb9f3a"
             ],
             [
              0.8888888888888888,
              "#fdca26"
             ],
             [
              1,
              "#f0f921"
             ]
            ],
            "type": "heatmap"
           }
          ],
          "heatmapgl": [
           {
            "colorbar": {
             "outlinewidth": 0,
             "ticks": ""
            },
            "colorscale": [
             [
              0,
              "#0d0887"
             ],
             [
              0.1111111111111111,
              "#46039f"
             ],
             [
              0.2222222222222222,
              "#7201a8"
             ],
             [
              0.3333333333333333,
              "#9c179e"
             ],
             [
              0.4444444444444444,
              "#bd3786"
             ],
             [
              0.5555555555555556,
              "#d8576b"
             ],
             [
              0.6666666666666666,
              "#ed7953"
             ],
             [
              0.7777777777777778,
              "#fb9f3a"
             ],
             [
              0.8888888888888888,
              "#fdca26"
             ],
             [
              1,
              "#f0f921"
             ]
            ],
            "type": "heatmapgl"
           }
          ],
          "histogram": [
           {
            "marker": {
             "pattern": {
              "fillmode": "overlay",
              "size": 10,
              "solidity": 0.2
             }
            },
            "type": "histogram"
           }
          ],
          "histogram2d": [
           {
            "colorbar": {
             "outlinewidth": 0,
             "ticks": ""
            },
            "colorscale": [
             [
              0,
              "#0d0887"
             ],
             [
              0.1111111111111111,
              "#46039f"
             ],
             [
              0.2222222222222222,
              "#7201a8"
             ],
             [
              0.3333333333333333,
              "#9c179e"
             ],
             [
              0.4444444444444444,
              "#bd3786"
             ],
             [
              0.5555555555555556,
              "#d8576b"
             ],
             [
              0.6666666666666666,
              "#ed7953"
             ],
             [
              0.7777777777777778,
              "#fb9f3a"
             ],
             [
              0.8888888888888888,
              "#fdca26"
             ],
             [
              1,
              "#f0f921"
             ]
            ],
            "type": "histogram2d"
           }
          ],
          "histogram2dcontour": [
           {
            "colorbar": {
             "outlinewidth": 0,
             "ticks": ""
            },
            "colorscale": [
             [
              0,
              "#0d0887"
             ],
             [
              0.1111111111111111,
              "#46039f"
             ],
             [
              0.2222222222222222,
              "#7201a8"
             ],
             [
              0.3333333333333333,
              "#9c179e"
             ],
             [
              0.4444444444444444,
              "#bd3786"
             ],
             [
              0.5555555555555556,
              "#d8576b"
             ],
             [
              0.6666666666666666,
              "#ed7953"
             ],
             [
              0.7777777777777778,
              "#fb9f3a"
             ],
             [
              0.8888888888888888,
              "#fdca26"
             ],
             [
              1,
              "#f0f921"
             ]
            ],
            "type": "histogram2dcontour"
           }
          ],
          "mesh3d": [
           {
            "colorbar": {
             "outlinewidth": 0,
             "ticks": ""
            },
            "type": "mesh3d"
           }
          ],
          "parcoords": [
           {
            "line": {
             "colorbar": {
              "outlinewidth": 0,
              "ticks": ""
             }
            },
            "type": "parcoords"
           }
          ],
          "pie": [
           {
            "automargin": true,
            "type": "pie"
           }
          ],
          "scatter": [
           {
            "fillpattern": {
             "fillmode": "overlay",
             "size": 10,
             "solidity": 0.2
            },
            "type": "scatter"
           }
          ],
          "scatter3d": [
           {
            "line": {
             "colorbar": {
              "outlinewidth": 0,
              "ticks": ""
             }
            },
            "marker": {
             "colorbar": {
              "outlinewidth": 0,
              "ticks": ""
             }
            },
            "type": "scatter3d"
           }
          ],
          "scattercarpet": [
           {
            "marker": {
             "colorbar": {
              "outlinewidth": 0,
              "ticks": ""
             }
            },
            "type": "scattercarpet"
           }
          ],
          "scattergeo": [
           {
            "marker": {
             "colorbar": {
              "outlinewidth": 0,
              "ticks": ""
             }
            },
            "type": "scattergeo"
           }
          ],
          "scattergl": [
           {
            "marker": {
             "colorbar": {
              "outlinewidth": 0,
              "ticks": ""
             }
            },
            "type": "scattergl"
           }
          ],
          "scattermapbox": [
           {
            "marker": {
             "colorbar": {
              "outlinewidth": 0,
              "ticks": ""
             }
            },
            "type": "scattermapbox"
           }
          ],
          "scatterpolar": [
           {
            "marker": {
             "colorbar": {
              "outlinewidth": 0,
              "ticks": ""
             }
            },
            "type": "scatterpolar"
           }
          ],
          "scatterpolargl": [
           {
            "marker": {
             "colorbar": {
              "outlinewidth": 0,
              "ticks": ""
             }
            },
            "type": "scatterpolargl"
           }
          ],
          "scatterternary": [
           {
            "marker": {
             "colorbar": {
              "outlinewidth": 0,
              "ticks": ""
             }
            },
            "type": "scatterternary"
           }
          ],
          "surface": [
           {
            "colorbar": {
             "outlinewidth": 0,
             "ticks": ""
            },
            "colorscale": [
             [
              0,
              "#0d0887"
             ],
             [
              0.1111111111111111,
              "#46039f"
             ],
             [
              0.2222222222222222,
              "#7201a8"
             ],
             [
              0.3333333333333333,
              "#9c179e"
             ],
             [
              0.4444444444444444,
              "#bd3786"
             ],
             [
              0.5555555555555556,
              "#d8576b"
             ],
             [
              0.6666666666666666,
              "#ed7953"
             ],
             [
              0.7777777777777778,
              "#fb9f3a"
             ],
             [
              0.8888888888888888,
              "#fdca26"
             ],
             [
              1,
              "#f0f921"
             ]
            ],
            "type": "surface"
           }
          ],
          "table": [
           {
            "cells": {
             "fill": {
              "color": "#EBF0F8"
             },
             "line": {
              "color": "white"
             }
            },
            "header": {
             "fill": {
              "color": "#C8D4E3"
             },
             "line": {
              "color": "white"
             }
            },
            "type": "table"
           }
          ]
         },
         "layout": {
          "annotationdefaults": {
           "arrowcolor": "#2a3f5f",
           "arrowhead": 0,
           "arrowwidth": 1
          },
          "autotypenumbers": "strict",
          "coloraxis": {
           "colorbar": {
            "outlinewidth": 0,
            "ticks": ""
           }
          },
          "colorscale": {
           "diverging": [
            [
             0,
             "#8e0152"
            ],
            [
             0.1,
             "#c51b7d"
            ],
            [
             0.2,
             "#de77ae"
            ],
            [
             0.3,
             "#f1b6da"
            ],
            [
             0.4,
             "#fde0ef"
            ],
            [
             0.5,
             "#f7f7f7"
            ],
            [
             0.6,
             "#e6f5d0"
            ],
            [
             0.7,
             "#b8e186"
            ],
            [
             0.8,
             "#7fbc41"
            ],
            [
             0.9,
             "#4d9221"
            ],
            [
             1,
             "#276419"
            ]
           ],
           "sequential": [
            [
             0,
             "#0d0887"
            ],
            [
             0.1111111111111111,
             "#46039f"
            ],
            [
             0.2222222222222222,
             "#7201a8"
            ],
            [
             0.3333333333333333,
             "#9c179e"
            ],
            [
             0.4444444444444444,
             "#bd3786"
            ],
            [
             0.5555555555555556,
             "#d8576b"
            ],
            [
             0.6666666666666666,
             "#ed7953"
            ],
            [
             0.7777777777777778,
             "#fb9f3a"
            ],
            [
             0.8888888888888888,
             "#fdca26"
            ],
            [
             1,
             "#f0f921"
            ]
           ],
           "sequentialminus": [
            [
             0,
             "#0d0887"
            ],
            [
             0.1111111111111111,
             "#46039f"
            ],
            [
             0.2222222222222222,
             "#7201a8"
            ],
            [
             0.3333333333333333,
             "#9c179e"
            ],
            [
             0.4444444444444444,
             "#bd3786"
            ],
            [
             0.5555555555555556,
             "#d8576b"
            ],
            [
             0.6666666666666666,
             "#ed7953"
            ],
            [
             0.7777777777777778,
             "#fb9f3a"
            ],
            [
             0.8888888888888888,
             "#fdca26"
            ],
            [
             1,
             "#f0f921"
            ]
           ]
          },
          "colorway": [
           "#636efa",
           "#EF553B",
           "#00cc96",
           "#ab63fa",
           "#FFA15A",
           "#19d3f3",
           "#FF6692",
           "#B6E880",
           "#FF97FF",
           "#FECB52"
          ],
          "font": {
           "color": "#2a3f5f"
          },
          "geo": {
           "bgcolor": "white",
           "lakecolor": "white",
           "landcolor": "#E5ECF6",
           "showlakes": true,
           "showland": true,
           "subunitcolor": "white"
          },
          "hoverlabel": {
           "align": "left"
          },
          "hovermode": "closest",
          "mapbox": {
           "style": "light"
          },
          "paper_bgcolor": "white",
          "plot_bgcolor": "#E5ECF6",
          "polar": {
           "angularaxis": {
            "gridcolor": "white",
            "linecolor": "white",
            "ticks": ""
           },
           "bgcolor": "#E5ECF6",
           "radialaxis": {
            "gridcolor": "white",
            "linecolor": "white",
            "ticks": ""
           }
          },
          "scene": {
           "xaxis": {
            "backgroundcolor": "#E5ECF6",
            "gridcolor": "white",
            "gridwidth": 2,
            "linecolor": "white",
            "showbackground": true,
            "ticks": "",
            "zerolinecolor": "white"
           },
           "yaxis": {
            "backgroundcolor": "#E5ECF6",
            "gridcolor": "white",
            "gridwidth": 2,
            "linecolor": "white",
            "showbackground": true,
            "ticks": "",
            "zerolinecolor": "white"
           },
           "zaxis": {
            "backgroundcolor": "#E5ECF6",
            "gridcolor": "white",
            "gridwidth": 2,
            "linecolor": "white",
            "showbackground": true,
            "ticks": "",
            "zerolinecolor": "white"
           }
          },
          "shapedefaults": {
           "line": {
            "color": "#2a3f5f"
           }
          },
          "ternary": {
           "aaxis": {
            "gridcolor": "white",
            "linecolor": "white",
            "ticks": ""
           },
           "baxis": {
            "gridcolor": "white",
            "linecolor": "white",
            "ticks": ""
           },
           "bgcolor": "#E5ECF6",
           "caxis": {
            "gridcolor": "white",
            "linecolor": "white",
            "ticks": ""
           }
          },
          "title": {
           "x": 0.05
          },
          "xaxis": {
           "automargin": true,
           "gridcolor": "white",
           "linecolor": "white",
           "ticks": "",
           "title": {
            "standoff": 15
           },
           "zerolinecolor": "white",
           "zerolinewidth": 2
          },
          "yaxis": {
           "automargin": true,
           "gridcolor": "white",
           "linecolor": "white",
           "ticks": "",
           "title": {
            "standoff": 15
           },
           "zerolinecolor": "white",
           "zerolinewidth": 2
          }
         }
        },
        "title": {
         "text": "Pollen Total vs Relative Humidity",
         "x": 0.5,
         "xanchor": "center",
         "yanchor": "top"
        },
        "xaxis": {
         "anchor": "y",
         "domain": [
          0,
          1
         ],
         "gridcolor": "LightGray",
         "showgrid": true,
         "title": {
          "text": "Relative Humidity (%)"
         }
        },
        "yaxis": {
         "anchor": "x",
         "domain": [
          0,
          1
         ],
         "gridcolor": "LightGray",
         "showgrid": true,
         "title": {
          "text": "Pollen Total"
         }
        }
       }
      }
     },
     "metadata": {},
     "output_type": "display_data"
    }
   ],
   "source": [
    "fig = px.scatter(df, x='rel_hum', y='pollen_total', color='rel_hum',\n",
    "                 title='Pollen Total vs Relative Humidity',\n",
    "                 labels={'rel_hum': 'Relative Humidity (%)', 'pollen_total': 'Pollen Total'},\n",
    "                 color_continuous_scale='Sunset')\n",
    "\n",
    "# 自定义悬停信息\n",
    "fig.update_traces(\n",
    "    hovertemplate='<b>Time:</b> %{customdata}<br>' +\n",
    "                  '<b>Relative Humidity:</b> %{x:.1f}%<br>' +\n",
    "                  '<b>Pollen Total:</b> %{y:.2f}<extra></extra>',\n",
    "    customdata=df.index.strftime('%Y-%m-%d %H:%M:%S')\n",
    ")\n",
    "\n",
    "# 更新布局\n",
    "fig.update_layout(\n",
    "    plot_bgcolor='white',\n",
    "    paper_bgcolor='white',\n",
    "    xaxis=dict(showgrid=True, gridcolor='LightGray'),\n",
    "    yaxis=dict(showgrid=True, gridcolor='LightGray'),\n",
    "    font=dict(family=\"Arial, sans-serif\", size=12, color=\"black\"),\n",
    "    title=dict(text='Pollen Total vs Relative Humidity', x=0.5, xanchor='center', yanchor='top'),\n",
    "    coloraxis_colorbar=dict(title='Relative Humidity')\n",
    ")\n",
    "\n",
    "fig.show()\n"
   ]
  },
  {
   "cell_type": "code",
   "execution_count": 278,
   "metadata": {},
   "outputs": [
    {
     "data": {
      "application/vnd.plotly.v1+json": {
       "config": {
        "plotlyServerURL": "https://plot.ly"
       },
       "data": [
        {
         "alignmentgroup": "True",
         "hovertemplate": "<b>Gust Wind Speed Bin:</b> %{x}<br><b>Total Pollen:</b> %{y}<extra></extra>",
         "legendgroup": "",
         "marker": {
          "color": [
           1756.7616464632556,
           414.24996317276407,
           261.7837742757138,
           178.58226505808432,
           147.29671092127614,
           146.32853263478532,
           214.79864278667333,
           655.8849623472091,
           601.5259288829199
          ],
          "coloraxis": "coloraxis",
          "pattern": {
           "shape": ""
          }
         },
         "name": "",
         "offsetgroup": "",
         "orientation": "v",
         "showlegend": false,
         "textposition": "auto",
         "type": "bar",
         "x": [
          "(-0.02, 2.0]",
          "(10.0, 12.0]",
          "(12.0, 14.0]",
          "(14.0, 16.0]",
          "(16.0, 18.0]",
          "(18.0, 20.0]",
          "(4.0, 6.0]",
          "(6.0, 8.0]",
          "(8.0, 10.0]"
         ],
         "xaxis": "x",
         "y": [
          1756.7616464632556,
          414.24996317276407,
          261.7837742757138,
          178.58226505808432,
          147.29671092127614,
          146.32853263478532,
          214.79864278667333,
          655.8849623472091,
          601.5259288829199
         ],
         "yaxis": "y"
        }
       ],
       "layout": {
        "barmode": "relative",
        "coloraxis": {
         "colorbar": {
          "title": {
           "text": "Total Pollen"
          }
         },
         "colorscale": [
          [
           0,
           "#440154"
          ],
          [
           0.1111111111111111,
           "#482878"
          ],
          [
           0.2222222222222222,
           "#3e4989"
          ],
          [
           0.3333333333333333,
           "#31688e"
          ],
          [
           0.4444444444444444,
           "#26828e"
          ],
          [
           0.5555555555555556,
           "#1f9e89"
          ],
          [
           0.6666666666666666,
           "#35b779"
          ],
          [
           0.7777777777777778,
           "#6ece58"
          ],
          [
           0.8888888888888888,
           "#b5de2b"
          ],
          [
           1,
           "#fde725"
          ]
         ]
        },
        "font": {
         "color": "black",
         "family": "Arial, sans-serif",
         "size": 12
        },
        "legend": {
         "tracegroupgap": 0
        },
        "paper_bgcolor": "white",
        "plot_bgcolor": "white",
        "template": {
         "data": {
          "bar": [
           {
            "error_x": {
             "color": "#2a3f5f"
            },
            "error_y": {
             "color": "#2a3f5f"
            },
            "marker": {
             "line": {
              "color": "#E5ECF6",
              "width": 0.5
             },
             "pattern": {
              "fillmode": "overlay",
              "size": 10,
              "solidity": 0.2
             }
            },
            "type": "bar"
           }
          ],
          "barpolar": [
           {
            "marker": {
             "line": {
              "color": "#E5ECF6",
              "width": 0.5
             },
             "pattern": {
              "fillmode": "overlay",
              "size": 10,
              "solidity": 0.2
             }
            },
            "type": "barpolar"
           }
          ],
          "carpet": [
           {
            "aaxis": {
             "endlinecolor": "#2a3f5f",
             "gridcolor": "white",
             "linecolor": "white",
             "minorgridcolor": "white",
             "startlinecolor": "#2a3f5f"
            },
            "baxis": {
             "endlinecolor": "#2a3f5f",
             "gridcolor": "white",
             "linecolor": "white",
             "minorgridcolor": "white",
             "startlinecolor": "#2a3f5f"
            },
            "type": "carpet"
           }
          ],
          "choropleth": [
           {
            "colorbar": {
             "outlinewidth": 0,
             "ticks": ""
            },
            "type": "choropleth"
           }
          ],
          "contour": [
           {
            "colorbar": {
             "outlinewidth": 0,
             "ticks": ""
            },
            "colorscale": [
             [
              0,
              "#0d0887"
             ],
             [
              0.1111111111111111,
              "#46039f"
             ],
             [
              0.2222222222222222,
              "#7201a8"
             ],
             [
              0.3333333333333333,
              "#9c179e"
             ],
             [
              0.4444444444444444,
              "#bd3786"
             ],
             [
              0.5555555555555556,
              "#d8576b"
             ],
             [
              0.6666666666666666,
              "#ed7953"
             ],
             [
              0.7777777777777778,
              "#fb9f3a"
             ],
             [
              0.8888888888888888,
              "#fdca26"
             ],
             [
              1,
              "#f0f921"
             ]
            ],
            "type": "contour"
           }
          ],
          "contourcarpet": [
           {
            "colorbar": {
             "outlinewidth": 0,
             "ticks": ""
            },
            "type": "contourcarpet"
           }
          ],
          "heatmap": [
           {
            "colorbar": {
             "outlinewidth": 0,
             "ticks": ""
            },
            "colorscale": [
             [
              0,
              "#0d0887"
             ],
             [
              0.1111111111111111,
              "#46039f"
             ],
             [
              0.2222222222222222,
              "#7201a8"
             ],
             [
              0.3333333333333333,
              "#9c179e"
             ],
             [
              0.4444444444444444,
              "#bd3786"
             ],
             [
              0.5555555555555556,
              "#d8576b"
             ],
             [
              0.6666666666666666,
              "#ed7953"
             ],
             [
              0.7777777777777778,
              "#fb9f3a"
             ],
             [
              0.8888888888888888,
              "#fdca26"
             ],
             [
              1,
              "#f0f921"
             ]
            ],
            "type": "heatmap"
           }
          ],
          "heatmapgl": [
           {
            "colorbar": {
             "outlinewidth": 0,
             "ticks": ""
            },
            "colorscale": [
             [
              0,
              "#0d0887"
             ],
             [
              0.1111111111111111,
              "#46039f"
             ],
             [
              0.2222222222222222,
              "#7201a8"
             ],
             [
              0.3333333333333333,
              "#9c179e"
             ],
             [
              0.4444444444444444,
              "#bd3786"
             ],
             [
              0.5555555555555556,
              "#d8576b"
             ],
             [
              0.6666666666666666,
              "#ed7953"
             ],
             [
              0.7777777777777778,
              "#fb9f3a"
             ],
             [
              0.8888888888888888,
              "#fdca26"
             ],
             [
              1,
              "#f0f921"
             ]
            ],
            "type": "heatmapgl"
           }
          ],
          "histogram": [
           {
            "marker": {
             "pattern": {
              "fillmode": "overlay",
              "size": 10,
              "solidity": 0.2
             }
            },
            "type": "histogram"
           }
          ],
          "histogram2d": [
           {
            "colorbar": {
             "outlinewidth": 0,
             "ticks": ""
            },
            "colorscale": [
             [
              0,
              "#0d0887"
             ],
             [
              0.1111111111111111,
              "#46039f"
             ],
             [
              0.2222222222222222,
              "#7201a8"
             ],
             [
              0.3333333333333333,
              "#9c179e"
             ],
             [
              0.4444444444444444,
              "#bd3786"
             ],
             [
              0.5555555555555556,
              "#d8576b"
             ],
             [
              0.6666666666666666,
              "#ed7953"
             ],
             [
              0.7777777777777778,
              "#fb9f3a"
             ],
             [
              0.8888888888888888,
              "#fdca26"
             ],
             [
              1,
              "#f0f921"
             ]
            ],
            "type": "histogram2d"
           }
          ],
          "histogram2dcontour": [
           {
            "colorbar": {
             "outlinewidth": 0,
             "ticks": ""
            },
            "colorscale": [
             [
              0,
              "#0d0887"
             ],
             [
              0.1111111111111111,
              "#46039f"
             ],
             [
              0.2222222222222222,
              "#7201a8"
             ],
             [
              0.3333333333333333,
              "#9c179e"
             ],
             [
              0.4444444444444444,
              "#bd3786"
             ],
             [
              0.5555555555555556,
              "#d8576b"
             ],
             [
              0.6666666666666666,
              "#ed7953"
             ],
             [
              0.7777777777777778,
              "#fb9f3a"
             ],
             [
              0.8888888888888888,
              "#fdca26"
             ],
             [
              1,
              "#f0f921"
             ]
            ],
            "type": "histogram2dcontour"
           }
          ],
          "mesh3d": [
           {
            "colorbar": {
             "outlinewidth": 0,
             "ticks": ""
            },
            "type": "mesh3d"
           }
          ],
          "parcoords": [
           {
            "line": {
             "colorbar": {
              "outlinewidth": 0,
              "ticks": ""
             }
            },
            "type": "parcoords"
           }
          ],
          "pie": [
           {
            "automargin": true,
            "type": "pie"
           }
          ],
          "scatter": [
           {
            "fillpattern": {
             "fillmode": "overlay",
             "size": 10,
             "solidity": 0.2
            },
            "type": "scatter"
           }
          ],
          "scatter3d": [
           {
            "line": {
             "colorbar": {
              "outlinewidth": 0,
              "ticks": ""
             }
            },
            "marker": {
             "colorbar": {
              "outlinewidth": 0,
              "ticks": ""
             }
            },
            "type": "scatter3d"
           }
          ],
          "scattercarpet": [
           {
            "marker": {
             "colorbar": {
              "outlinewidth": 0,
              "ticks": ""
             }
            },
            "type": "scattercarpet"
           }
          ],
          "scattergeo": [
           {
            "marker": {
             "colorbar": {
              "outlinewidth": 0,
              "ticks": ""
             }
            },
            "type": "scattergeo"
           }
          ],
          "scattergl": [
           {
            "marker": {
             "colorbar": {
              "outlinewidth": 0,
              "ticks": ""
             }
            },
            "type": "scattergl"
           }
          ],
          "scattermapbox": [
           {
            "marker": {
             "colorbar": {
              "outlinewidth": 0,
              "ticks": ""
             }
            },
            "type": "scattermapbox"
           }
          ],
          "scatterpolar": [
           {
            "marker": {
             "colorbar": {
              "outlinewidth": 0,
              "ticks": ""
             }
            },
            "type": "scatterpolar"
           }
          ],
          "scatterpolargl": [
           {
            "marker": {
             "colorbar": {
              "outlinewidth": 0,
              "ticks": ""
             }
            },
            "type": "scatterpolargl"
           }
          ],
          "scatterternary": [
           {
            "marker": {
             "colorbar": {
              "outlinewidth": 0,
              "ticks": ""
             }
            },
            "type": "scatterternary"
           }
          ],
          "surface": [
           {
            "colorbar": {
             "outlinewidth": 0,
             "ticks": ""
            },
            "colorscale": [
             [
              0,
              "#0d0887"
             ],
             [
              0.1111111111111111,
              "#46039f"
             ],
             [
              0.2222222222222222,
              "#7201a8"
             ],
             [
              0.3333333333333333,
              "#9c179e"
             ],
             [
              0.4444444444444444,
              "#bd3786"
             ],
             [
              0.5555555555555556,
              "#d8576b"
             ],
             [
              0.6666666666666666,
              "#ed7953"
             ],
             [
              0.7777777777777778,
              "#fb9f3a"
             ],
             [
              0.8888888888888888,
              "#fdca26"
             ],
             [
              1,
              "#f0f921"
             ]
            ],
            "type": "surface"
           }
          ],
          "table": [
           {
            "cells": {
             "fill": {
              "color": "#EBF0F8"
             },
             "line": {
              "color": "white"
             }
            },
            "header": {
             "fill": {
              "color": "#C8D4E3"
             },
             "line": {
              "color": "white"
             }
            },
            "type": "table"
           }
          ]
         },
         "layout": {
          "annotationdefaults": {
           "arrowcolor": "#2a3f5f",
           "arrowhead": 0,
           "arrowwidth": 1
          },
          "autotypenumbers": "strict",
          "coloraxis": {
           "colorbar": {
            "outlinewidth": 0,
            "ticks": ""
           }
          },
          "colorscale": {
           "diverging": [
            [
             0,
             "#8e0152"
            ],
            [
             0.1,
             "#c51b7d"
            ],
            [
             0.2,
             "#de77ae"
            ],
            [
             0.3,
             "#f1b6da"
            ],
            [
             0.4,
             "#fde0ef"
            ],
            [
             0.5,
             "#f7f7f7"
            ],
            [
             0.6,
             "#e6f5d0"
            ],
            [
             0.7,
             "#b8e186"
            ],
            [
             0.8,
             "#7fbc41"
            ],
            [
             0.9,
             "#4d9221"
            ],
            [
             1,
             "#276419"
            ]
           ],
           "sequential": [
            [
             0,
             "#0d0887"
            ],
            [
             0.1111111111111111,
             "#46039f"
            ],
            [
             0.2222222222222222,
             "#7201a8"
            ],
            [
             0.3333333333333333,
             "#9c179e"
            ],
            [
             0.4444444444444444,
             "#bd3786"
            ],
            [
             0.5555555555555556,
             "#d8576b"
            ],
            [
             0.6666666666666666,
             "#ed7953"
            ],
            [
             0.7777777777777778,
             "#fb9f3a"
            ],
            [
             0.8888888888888888,
             "#fdca26"
            ],
            [
             1,
             "#f0f921"
            ]
           ],
           "sequentialminus": [
            [
             0,
             "#0d0887"
            ],
            [
             0.1111111111111111,
             "#46039f"
            ],
            [
             0.2222222222222222,
             "#7201a8"
            ],
            [
             0.3333333333333333,
             "#9c179e"
            ],
            [
             0.4444444444444444,
             "#bd3786"
            ],
            [
             0.5555555555555556,
             "#d8576b"
            ],
            [
             0.6666666666666666,
             "#ed7953"
            ],
            [
             0.7777777777777778,
             "#fb9f3a"
            ],
            [
             0.8888888888888888,
             "#fdca26"
            ],
            [
             1,
             "#f0f921"
            ]
           ]
          },
          "colorway": [
           "#636efa",
           "#EF553B",
           "#00cc96",
           "#ab63fa",
           "#FFA15A",
           "#19d3f3",
           "#FF6692",
           "#B6E880",
           "#FF97FF",
           "#FECB52"
          ],
          "font": {
           "color": "#2a3f5f"
          },
          "geo": {
           "bgcolor": "white",
           "lakecolor": "white",
           "landcolor": "#E5ECF6",
           "showlakes": true,
           "showland": true,
           "subunitcolor": "white"
          },
          "hoverlabel": {
           "align": "left"
          },
          "hovermode": "closest",
          "mapbox": {
           "style": "light"
          },
          "paper_bgcolor": "white",
          "plot_bgcolor": "#E5ECF6",
          "polar": {
           "angularaxis": {
            "gridcolor": "white",
            "linecolor": "white",
            "ticks": ""
           },
           "bgcolor": "#E5ECF6",
           "radialaxis": {
            "gridcolor": "white",
            "linecolor": "white",
            "ticks": ""
           }
          },
          "scene": {
           "xaxis": {
            "backgroundcolor": "#E5ECF6",
            "gridcolor": "white",
            "gridwidth": 2,
            "linecolor": "white",
            "showbackground": true,
            "ticks": "",
            "zerolinecolor": "white"
           },
           "yaxis": {
            "backgroundcolor": "#E5ECF6",
            "gridcolor": "white",
            "gridwidth": 2,
            "linecolor": "white",
            "showbackground": true,
            "ticks": "",
            "zerolinecolor": "white"
           },
           "zaxis": {
            "backgroundcolor": "#E5ECF6",
            "gridcolor": "white",
            "gridwidth": 2,
            "linecolor": "white",
            "showbackground": true,
            "ticks": "",
            "zerolinecolor": "white"
           }
          },
          "shapedefaults": {
           "line": {
            "color": "#2a3f5f"
           }
          },
          "ternary": {
           "aaxis": {
            "gridcolor": "white",
            "linecolor": "white",
            "ticks": ""
           },
           "baxis": {
            "gridcolor": "white",
            "linecolor": "white",
            "ticks": ""
           },
           "bgcolor": "#E5ECF6",
           "caxis": {
            "gridcolor": "white",
            "linecolor": "white",
            "ticks": ""
           }
          },
          "title": {
           "x": 0.05
          },
          "xaxis": {
           "automargin": true,
           "gridcolor": "white",
           "linecolor": "white",
           "ticks": "",
           "title": {
            "standoff": 15
           },
           "zerolinecolor": "white",
           "zerolinewidth": 2
          },
          "yaxis": {
           "automargin": true,
           "gridcolor": "white",
           "linecolor": "white",
           "ticks": "",
           "title": {
            "standoff": 15
           },
           "zerolinecolor": "white",
           "zerolinewidth": 2
          }
         }
        },
        "title": {
         "text": "Pollen Total by Gust Wind Speed Bins",
         "x": 0.5,
         "xanchor": "center",
         "yanchor": "top"
        },
        "xaxis": {
         "anchor": "y",
         "domain": [
          0,
          1
         ],
         "gridcolor": "LightGray",
         "showgrid": true,
         "title": {
          "text": "Gust Wind Speed Bins (km/h)"
         }
        },
        "yaxis": {
         "anchor": "x",
         "domain": [
          0,
          1
         ],
         "gridcolor": "LightGray",
         "showgrid": true,
         "title": {
          "text": "Total Pollen"
         }
        }
       }
      }
     },
     "metadata": {},
     "output_type": "display_data"
    }
   ],
   "source": [
    "# 创建风速区间\n",
    "df['gust_kmh_binned'] = pd.cut(df['gust_kmh'], bins=10).astype(str)\n",
    "\n",
    "# 分组并计算每个风速区间的花粉总量\n",
    "pollen_total_by_bins = df.groupby('gust_kmh_binned')['pollen_total'].sum().reset_index()\n",
    "\n",
    "# 绘制条形图\n",
    "fig_bar_gust = px.bar(pollen_total_by_bins, x='gust_kmh_binned', y='pollen_total', \n",
    "                      title='Pollen Total by Gust Wind Speed Bins',\n",
    "                      labels={'gust_kmh_binned': 'Gust Wind Speed Bins (km/h)', 'pollen_total': 'Total Pollen'},\n",
    "                      color='pollen_total', color_continuous_scale='Viridis')\n",
    "\n",
    "# 自定义悬停信息\n",
    "fig_bar_gust.update_traces(\n",
    "    hovertemplate='<b>Gust Wind Speed Bin:</b> %{x}<br><b>Total Pollen:</b> %{y}<extra></extra>'\n",
    ")\n",
    "\n",
    "# 更新布局\n",
    "fig_bar_gust.update_layout(\n",
    "    plot_bgcolor='white',\n",
    "    paper_bgcolor='white',\n",
    "    xaxis=dict(showgrid=True, gridcolor='LightGray'),\n",
    "    yaxis=dict(showgrid=True, gridcolor='LightGray'),\n",
    "    font=dict(family=\"Arial, sans-serif\", size=12, color=\"black\"),\n",
    "    title=dict(text='Pollen Total by Gust Wind Speed Bins', x=0.5, xanchor='center', yanchor='top'),\n",
    "    coloraxis_colorbar=dict(title='Total Pollen')\n",
    ")\n",
    "\n",
    "fig_bar_gust.show()\n",
    "\n",
    "\n"
   ]
  },
  {
   "cell_type": "code",
   "execution_count": 273,
   "metadata": {},
   "outputs": [
    {
     "data": {
      "application/vnd.plotly.v1+json": {
       "config": {
        "plotlyServerURL": "https://plot.ly"
       },
       "data": [
        {
         "customdata": [
          "2024-05-16 19:00:00",
          "2024-05-16 19:00:00",
          "2024-05-16 18:00:00",
          "2024-05-16 18:00:00",
          "2024-05-16 17:00:00",
          "2024-05-16 17:00:00",
          "2024-05-16 16:00:00",
          "2024-05-16 16:00:00",
          "2024-05-16 15:00:00",
          "2024-05-16 15:00:00",
          "2024-05-16 14:00:00",
          "2024-05-16 14:00:00",
          "2024-05-16 13:00:00",
          "2024-05-16 13:00:00",
          "2024-05-16 12:00:00",
          "2024-05-16 12:00:00",
          "2024-05-16 11:00:00",
          "2024-05-16 11:00:00",
          "2024-05-16 10:00:00",
          "2024-05-16 10:00:00",
          "2024-05-16 09:00:00",
          "2024-05-16 09:00:00",
          "2024-05-16 08:00:00",
          "2024-05-16 08:00:00",
          "2024-05-16 07:00:00",
          "2024-05-16 07:00:00",
          "2024-05-16 06:00:00",
          "2024-05-16 06:00:00",
          "2024-05-16 05:00:00",
          "2024-05-16 05:00:00",
          "2024-05-16 04:00:00",
          "2024-05-16 04:00:00",
          "2024-05-16 03:00:00",
          "2024-05-16 03:00:00",
          "2024-05-16 02:00:00",
          "2024-05-16 02:00:00",
          "2024-05-16 01:00:00",
          "2024-05-16 01:00:00",
          "2024-05-16 00:00:00",
          "2024-05-16 00:00:00",
          "2024-05-15 23:00:00",
          "2024-05-15 23:00:00",
          "2024-05-15 22:00:00",
          "2024-05-15 22:00:00",
          "2024-05-15 21:00:00",
          "2024-05-15 21:00:00",
          "2024-05-15 20:00:00",
          "2024-05-15 20:00:00",
          "2024-05-15 19:00:00",
          "2024-05-15 19:00:00",
          "2024-05-15 18:00:00",
          "2024-05-15 18:00:00",
          "2024-05-15 17:00:00",
          "2024-05-15 17:00:00",
          "2024-05-15 16:00:00",
          "2024-05-15 16:00:00",
          "2024-05-15 15:00:00",
          "2024-05-15 15:00:00",
          "2024-05-15 14:00:00",
          "2024-05-15 14:00:00",
          "2024-05-15 13:00:00",
          "2024-05-15 13:00:00",
          "2024-05-15 12:00:00",
          "2024-05-15 12:00:00",
          "2024-05-15 11:00:00",
          "2024-05-15 11:00:00",
          "2024-05-15 10:00:00",
          "2024-05-15 10:00:00",
          "2024-05-15 09:00:00",
          "2024-05-15 09:00:00",
          "2024-05-15 08:00:00",
          "2024-05-15 08:00:00",
          "2024-05-15 07:00:00",
          "2024-05-15 07:00:00",
          "2024-05-15 06:00:00",
          "2024-05-15 06:00:00",
          "2024-05-15 05:00:00",
          "2024-05-15 05:00:00",
          "2024-05-15 04:00:00",
          "2024-05-15 04:00:00",
          "2024-05-15 03:00:00",
          "2024-05-15 03:00:00",
          "2024-05-15 02:00:00",
          "2024-05-15 02:00:00",
          "2024-05-15 01:00:00",
          "2024-05-15 01:00:00",
          "2024-05-15 00:00:00",
          "2024-05-15 00:00:00",
          "2024-05-14 23:00:00",
          "2024-05-14 23:00:00",
          "2024-05-14 22:00:00",
          "2024-05-14 22:00:00",
          "2024-05-14 21:00:00",
          "2024-05-14 21:00:00",
          "2024-05-14 20:00:00",
          "2024-05-14 20:00:00",
          "2024-05-14 19:00:00",
          "2024-05-14 19:00:00",
          "2024-05-14 18:00:00",
          "2024-05-14 18:00:00",
          "2024-05-14 17:00:00",
          "2024-05-14 17:00:00",
          "2024-05-14 16:00:00",
          "2024-05-14 16:00:00",
          "2024-05-14 15:00:00",
          "2024-05-14 15:00:00",
          "2024-05-14 14:00:00",
          "2024-05-14 14:00:00",
          "2024-05-14 13:00:00",
          "2024-05-14 13:00:00",
          "2024-05-14 12:00:00",
          "2024-05-14 12:00:00",
          "2024-05-14 11:00:00",
          "2024-05-14 11:00:00",
          "2024-05-14 10:00:00",
          "2024-05-14 10:00:00",
          "2024-05-14 09:00:00",
          "2024-05-14 09:00:00",
          "2024-05-14 08:00:00",
          "2024-05-14 08:00:00",
          "2024-05-14 07:00:00",
          "2024-05-14 07:00:00",
          "2024-05-14 06:00:00",
          "2024-05-14 06:00:00",
          "2024-05-14 05:00:00",
          "2024-05-14 05:00:00",
          "2024-05-14 04:00:00",
          "2024-05-14 04:00:00",
          "2024-05-14 03:00:00",
          "2024-05-14 03:00:00",
          "2024-05-14 02:00:00",
          "2024-05-14 02:00:00",
          "2024-05-14 01:00:00",
          "2024-05-14 01:00:00",
          "2024-05-14 00:00:00",
          "2024-05-14 00:00:00",
          "2024-05-13 23:00:00",
          "2024-05-13 23:00:00",
          "2024-05-13 22:00:00",
          "2024-05-13 22:00:00",
          "2024-05-13 21:00:00",
          "2024-05-13 21:00:00",
          "2024-05-13 20:00:00",
          "2024-05-13 20:00:00"
         ],
         "hovertemplate": "<b>Date:</b> %{customdata}<br><b>Gust Wind Speed:</b> %{x:.2f} km/h<br><b>Average Wind Speed:</b> %{y:.2f} km/h<br><b>Pollen Total:</b> %{marker.size:.2f}<extra></extra>",
         "legendgroup": "",
         "marker": {
          "color": [
           30.7751671199028,
           30.849203292458437,
           30.673698798881386,
           29.331342899491816,
           31.864648422655772,
           31.065689084269014,
           30.32853837764402,
           29.805072870498947,
           28.63178503688844,
           28.490055707059344,
           28.957290523202285,
           29.65353285311181,
           29.091254265342503,
           29.82799548671143,
           30.039427657532265,
           29.631776281767767,
           28.831543911146724,
           29.441444166818272,
           30.346248953378677,
           29.385584146374775,
           29.695698815144784,
           28.544877082953168,
           30.934792209596385,
           30.319479645012006,
           31.658846861129227,
           31.658846861129227,
           30.77368937471197,
           30.77368937471197,
           31.068073765759518,
           31.19951551699075,
           30.556581989991436,
           31.19951551699075,
           30.87532376575952,
           29.37065656943675,
           29.636428772723658,
           30.40006469072723,
           30.64623610342186,
           31.440434260373273,
           30.552084246506844,
           30.970125096008225,
           30.508840718363167,
           33.69392094728532,
           31.97015697879767,
           31.658846861129227,
           33.06469927831988,
           29.955963220474047,
           31.592552057076045,
           30.443902402452387,
           30.754406517263416,
           31.989870073212106,
           30.830511161054815,
           31.754846163640277,
           29.856015724540338,
           30.07225552525388,
           28.47608508248716,
           29.25864310055605,
           29.210329628704628,
           29.10581766517796,
           29.29362467434526,
           29.79238999596895,
           29.59396472864081,
           29.50349654409058,
           29.730712212838757,
           30.079762289696884,
           29.788004027061685,
           29.501952198063297,
           28.94070252721994,
           29.80068740722753,
           29.315685688431007,
           29.666399009807,
           31.989870073212106,
           33.65217538144764,
           30.493604040224636,
           30.319479645012006,
           31.5310582266726,
           30.319479645012006,
           30.319479645012006,
           30.319479645012006,
           30.319479645012006,
           30.319479645012006,
           30.74438192052261,
           31.658846861129227,
           31.658846861129227,
           31.658846861129227,
           31.658846861129227,
           33.69392094728532,
           33.11624540224213,
           33.11624540224213,
           31.658846861129227,
           31.127349484210313,
           33.06469927831988,
           30.34578627171163,
           32.41022308784369,
           30.552084246506844,
           32.715629736104965,
           30.183627525480755,
           31.4073642734974,
           28.63356232446604,
           28.702032293431213,
           29.8328436001563,
           29.37609342151432,
           28.997124188942035,
           29.499566936417555,
           29.492813311688305,
           29.527685003700476,
           29.295256903571147,
           29.10532824889249,
           28.97805322128852,
           28.890984259548503,
           29.098483116993684,
           29.367947111818275,
           29.856866239153007,
           29.06176927250073,
           29.234543519432055,
           29.014388316763558,
           29.949348660548853,
           28.135820096138286,
           28.847724591687253,
           29.15689983856275,
           29.82250020129509,
           30.81552661115974,
           30.81552661115974,
           30.171431512597202,
           30.319479645012006,
           30.319479645012006,
           30.689875427016112,
           30.171431512597202,
           31.187897387511757,
           30.319479645012006,
           30.319479645012006,
           30.319479645012006,
           30.319479645012006,
           30.319479645012006,
           30.319479645012006,
           30.319479645012006,
           31.658846861129227,
           30.319479645012006,
           31.658846861129227,
           31.658846861129227,
           31.658846861129227,
           30.77368937471197,
           31.658846861129227,
           32.15233941095024,
           28.211361004063015
          ],
          "coloraxis": "coloraxis",
          "line": {
           "color": "DarkSlateGrey",
           "width": 1.5
          },
          "opacity": 0.7,
          "size": [
           30.7751671199028,
           30.849203292458437,
           30.673698798881386,
           29.331342899491816,
           31.864648422655772,
           31.065689084269014,
           30.32853837764402,
           29.805072870498947,
           28.63178503688844,
           28.490055707059344,
           28.957290523202285,
           29.65353285311181,
           29.091254265342503,
           29.82799548671143,
           30.039427657532265,
           29.631776281767767,
           28.831543911146724,
           29.441444166818272,
           30.346248953378677,
           29.385584146374775,
           29.695698815144784,
           28.544877082953168,
           30.934792209596385,
           30.319479645012006,
           31.658846861129227,
           31.658846861129227,
           30.77368937471197,
           30.77368937471197,
           31.068073765759518,
           31.19951551699075,
           30.556581989991436,
           31.19951551699075,
           30.87532376575952,
           29.37065656943675,
           29.636428772723658,
           30.40006469072723,
           30.64623610342186,
           31.440434260373273,
           30.552084246506844,
           30.970125096008225,
           30.508840718363167,
           33.69392094728532,
           31.97015697879767,
           31.658846861129227,
           33.06469927831988,
           29.955963220474047,
           31.592552057076045,
           30.443902402452387,
           30.754406517263416,
           31.989870073212106,
           30.830511161054815,
           31.754846163640277,
           29.856015724540338,
           30.07225552525388,
           28.47608508248716,
           29.25864310055605,
           29.210329628704628,
           29.10581766517796,
           29.29362467434526,
           29.79238999596895,
           29.59396472864081,
           29.50349654409058,
           29.730712212838757,
           30.079762289696884,
           29.788004027061685,
           29.501952198063297,
           28.94070252721994,
           29.80068740722753,
           29.315685688431007,
           29.666399009807,
           31.989870073212106,
           33.65217538144764,
           30.493604040224636,
           30.319479645012006,
           31.5310582266726,
           30.319479645012006,
           30.319479645012006,
           30.319479645012006,
           30.319479645012006,
           30.319479645012006,
           30.74438192052261,
           31.658846861129227,
           31.658846861129227,
           31.658846861129227,
           31.658846861129227,
           33.69392094728532,
           33.11624540224213,
           33.11624540224213,
           31.658846861129227,
           31.127349484210313,
           33.06469927831988,
           30.34578627171163,
           32.41022308784369,
           30.552084246506844,
           32.715629736104965,
           30.183627525480755,
           31.4073642734974,
           28.63356232446604,
           28.702032293431213,
           29.8328436001563,
           29.37609342151432,
           28.997124188942035,
           29.499566936417555,
           29.492813311688305,
           29.527685003700476,
           29.295256903571147,
           29.10532824889249,
           28.97805322128852,
           28.890984259548503,
           29.098483116993684,
           29.367947111818275,
           29.856866239153007,
           29.06176927250073,
           29.234543519432055,
           29.014388316763558,
           29.949348660548853,
           28.135820096138286,
           28.847724591687253,
           29.15689983856275,
           29.82250020129509,
           30.81552661115974,
           30.81552661115974,
           30.171431512597202,
           30.319479645012006,
           30.319479645012006,
           30.689875427016112,
           30.171431512597202,
           31.187897387511757,
           30.319479645012006,
           30.319479645012006,
           30.319479645012006,
           30.319479645012006,
           30.319479645012006,
           30.319479645012006,
           30.319479645012006,
           31.658846861129227,
           30.319479645012006,
           31.658846861129227,
           31.658846861129227,
           31.658846861129227,
           30.77368937471197,
           31.658846861129227,
           32.15233941095024,
           28.211361004063015
          ],
          "sizemode": "diameter",
          "sizeref": 1.123130698242844,
          "symbol": "circle"
         },
         "mode": "markers",
         "name": "",
         "orientation": "v",
         "showlegend": false,
         "type": "scatter",
         "x": [
          0,
          0,
          0,
          0,
          0,
          0,
          11,
          15,
          9,
          7,
          13,
          17,
          11,
          11,
          11,
          9,
          11,
          7,
          9,
          9,
          7,
          0,
          0,
          0,
          0,
          0,
          0,
          0,
          6,
          7,
          9,
          7,
          6,
          13,
          11,
          11,
          9,
          9,
          0,
          9,
          15,
          7,
          9,
          0,
          0,
          0,
          7,
          7,
          7,
          7,
          0,
          0,
          7,
          0,
          7,
          9,
          13,
          13,
          11,
          17,
          20,
          17,
          19,
          15,
          15,
          9,
          11,
          9,
          9,
          9,
          7,
          7,
          0,
          0,
          6,
          0,
          0,
          0,
          0,
          0,
          6,
          0,
          0,
          0,
          0,
          7,
          7,
          7,
          0,
          0,
          0,
          0,
          0,
          0,
          7,
          0,
          7,
          0,
          6,
          7,
          13,
          11,
          17,
          13,
          7,
          15,
          15,
          13,
          20,
          20,
          9,
          11,
          9,
          11,
          19,
          11,
          13,
          17,
          13,
          11,
          9,
          9,
          9,
          0,
          0,
          6,
          9,
          6,
          0,
          0,
          0,
          0,
          0,
          0,
          0,
          0,
          0,
          0,
          0,
          0,
          0,
          0,
          0,
          0
         ],
         "xaxis": "x",
         "y": [
          0,
          0,
          0,
          0,
          0,
          0,
          7,
          9,
          6,
          4,
          7,
          9,
          7,
          7,
          6,
          6,
          7,
          4,
          6,
          6,
          6,
          0,
          0,
          0,
          0,
          0,
          0,
          0,
          2,
          7,
          7,
          7,
          2,
          9,
          9,
          7,
          2,
          4,
          0,
          4,
          11,
          4,
          2,
          0,
          0,
          0,
          2,
          6,
          6,
          6,
          0,
          0,
          6,
          0,
          6,
          6,
          9,
          6,
          6,
          9,
          11,
          9,
          9,
          9,
          9,
          6,
          7,
          6,
          6,
          4,
          6,
          4,
          0,
          0,
          4,
          0,
          0,
          0,
          0,
          0,
          2,
          0,
          0,
          0,
          0,
          4,
          6,
          6,
          0,
          0,
          0,
          0,
          0,
          0,
          6,
          0,
          6,
          0,
          2,
          6,
          7,
          7,
          9,
          9,
          4,
          9,
          9,
          9,
          11,
          13,
          6,
          6,
          6,
          7,
          9,
          7,
          9,
          9,
          9,
          9,
          6,
          6,
          7,
          0,
          0,
          0,
          7,
          6,
          0,
          0,
          0,
          0,
          0,
          0,
          0,
          0,
          0,
          0,
          0,
          0,
          0,
          0,
          0,
          0
         ],
         "yaxis": "y"
        }
       ],
       "layout": {
        "coloraxis": {
         "colorbar": {
          "title": {
           "text": "Pollen Total"
          }
         },
         "colorscale": [
          [
           0,
           "#440154"
          ],
          [
           0.1111111111111111,
           "#482878"
          ],
          [
           0.2222222222222222,
           "#3e4989"
          ],
          [
           0.3333333333333333,
           "#31688e"
          ],
          [
           0.4444444444444444,
           "#26828e"
          ],
          [
           0.5555555555555556,
           "#1f9e89"
          ],
          [
           0.6666666666666666,
           "#35b779"
          ],
          [
           0.7777777777777778,
           "#6ece58"
          ],
          [
           0.8888888888888888,
           "#b5de2b"
          ],
          [
           1,
           "#fde725"
          ]
         ]
        },
        "font": {
         "color": "black",
         "family": "Arial, sans-serif",
         "size": 12
        },
        "legend": {
         "itemsizing": "constant",
         "tracegroupgap": 0
        },
        "plot_bgcolor": "white",
        "template": {
         "data": {
          "bar": [
           {
            "error_x": {
             "color": "#2a3f5f"
            },
            "error_y": {
             "color": "#2a3f5f"
            },
            "marker": {
             "line": {
              "color": "#E5ECF6",
              "width": 0.5
             },
             "pattern": {
              "fillmode": "overlay",
              "size": 10,
              "solidity": 0.2
             }
            },
            "type": "bar"
           }
          ],
          "barpolar": [
           {
            "marker": {
             "line": {
              "color": "#E5ECF6",
              "width": 0.5
             },
             "pattern": {
              "fillmode": "overlay",
              "size": 10,
              "solidity": 0.2
             }
            },
            "type": "barpolar"
           }
          ],
          "carpet": [
           {
            "aaxis": {
             "endlinecolor": "#2a3f5f",
             "gridcolor": "white",
             "linecolor": "white",
             "minorgridcolor": "white",
             "startlinecolor": "#2a3f5f"
            },
            "baxis": {
             "endlinecolor": "#2a3f5f",
             "gridcolor": "white",
             "linecolor": "white",
             "minorgridcolor": "white",
             "startlinecolor": "#2a3f5f"
            },
            "type": "carpet"
           }
          ],
          "choropleth": [
           {
            "colorbar": {
             "outlinewidth": 0,
             "ticks": ""
            },
            "type": "choropleth"
           }
          ],
          "contour": [
           {
            "colorbar": {
             "outlinewidth": 0,
             "ticks": ""
            },
            "colorscale": [
             [
              0,
              "#0d0887"
             ],
             [
              0.1111111111111111,
              "#46039f"
             ],
             [
              0.2222222222222222,
              "#7201a8"
             ],
             [
              0.3333333333333333,
              "#9c179e"
             ],
             [
              0.4444444444444444,
              "#bd3786"
             ],
             [
              0.5555555555555556,
              "#d8576b"
             ],
             [
              0.6666666666666666,
              "#ed7953"
             ],
             [
              0.7777777777777778,
              "#fb9f3a"
             ],
             [
              0.8888888888888888,
              "#fdca26"
             ],
             [
              1,
              "#f0f921"
             ]
            ],
            "type": "contour"
           }
          ],
          "contourcarpet": [
           {
            "colorbar": {
             "outlinewidth": 0,
             "ticks": ""
            },
            "type": "contourcarpet"
           }
          ],
          "heatmap": [
           {
            "colorbar": {
             "outlinewidth": 0,
             "ticks": ""
            },
            "colorscale": [
             [
              0,
              "#0d0887"
             ],
             [
              0.1111111111111111,
              "#46039f"
             ],
             [
              0.2222222222222222,
              "#7201a8"
             ],
             [
              0.3333333333333333,
              "#9c179e"
             ],
             [
              0.4444444444444444,
              "#bd3786"
             ],
             [
              0.5555555555555556,
              "#d8576b"
             ],
             [
              0.6666666666666666,
              "#ed7953"
             ],
             [
              0.7777777777777778,
              "#fb9f3a"
             ],
             [
              0.8888888888888888,
              "#fdca26"
             ],
             [
              1,
              "#f0f921"
             ]
            ],
            "type": "heatmap"
           }
          ],
          "heatmapgl": [
           {
            "colorbar": {
             "outlinewidth": 0,
             "ticks": ""
            },
            "colorscale": [
             [
              0,
              "#0d0887"
             ],
             [
              0.1111111111111111,
              "#46039f"
             ],
             [
              0.2222222222222222,
              "#7201a8"
             ],
             [
              0.3333333333333333,
              "#9c179e"
             ],
             [
              0.4444444444444444,
              "#bd3786"
             ],
             [
              0.5555555555555556,
              "#d8576b"
             ],
             [
              0.6666666666666666,
              "#ed7953"
             ],
             [
              0.7777777777777778,
              "#fb9f3a"
             ],
             [
              0.8888888888888888,
              "#fdca26"
             ],
             [
              1,
              "#f0f921"
             ]
            ],
            "type": "heatmapgl"
           }
          ],
          "histogram": [
           {
            "marker": {
             "pattern": {
              "fillmode": "overlay",
              "size": 10,
              "solidity": 0.2
             }
            },
            "type": "histogram"
           }
          ],
          "histogram2d": [
           {
            "colorbar": {
             "outlinewidth": 0,
             "ticks": ""
            },
            "colorscale": [
             [
              0,
              "#0d0887"
             ],
             [
              0.1111111111111111,
              "#46039f"
             ],
             [
              0.2222222222222222,
              "#7201a8"
             ],
             [
              0.3333333333333333,
              "#9c179e"
             ],
             [
              0.4444444444444444,
              "#bd3786"
             ],
             [
              0.5555555555555556,
              "#d8576b"
             ],
             [
              0.6666666666666666,
              "#ed7953"
             ],
             [
              0.7777777777777778,
              "#fb9f3a"
             ],
             [
              0.8888888888888888,
              "#fdca26"
             ],
             [
              1,
              "#f0f921"
             ]
            ],
            "type": "histogram2d"
           }
          ],
          "histogram2dcontour": [
           {
            "colorbar": {
             "outlinewidth": 0,
             "ticks": ""
            },
            "colorscale": [
             [
              0,
              "#0d0887"
             ],
             [
              0.1111111111111111,
              "#46039f"
             ],
             [
              0.2222222222222222,
              "#7201a8"
             ],
             [
              0.3333333333333333,
              "#9c179e"
             ],
             [
              0.4444444444444444,
              "#bd3786"
             ],
             [
              0.5555555555555556,
              "#d8576b"
             ],
             [
              0.6666666666666666,
              "#ed7953"
             ],
             [
              0.7777777777777778,
              "#fb9f3a"
             ],
             [
              0.8888888888888888,
              "#fdca26"
             ],
             [
              1,
              "#f0f921"
             ]
            ],
            "type": "histogram2dcontour"
           }
          ],
          "mesh3d": [
           {
            "colorbar": {
             "outlinewidth": 0,
             "ticks": ""
            },
            "type": "mesh3d"
           }
          ],
          "parcoords": [
           {
            "line": {
             "colorbar": {
              "outlinewidth": 0,
              "ticks": ""
             }
            },
            "type": "parcoords"
           }
          ],
          "pie": [
           {
            "automargin": true,
            "type": "pie"
           }
          ],
          "scatter": [
           {
            "fillpattern": {
             "fillmode": "overlay",
             "size": 10,
             "solidity": 0.2
            },
            "type": "scatter"
           }
          ],
          "scatter3d": [
           {
            "line": {
             "colorbar": {
              "outlinewidth": 0,
              "ticks": ""
             }
            },
            "marker": {
             "colorbar": {
              "outlinewidth": 0,
              "ticks": ""
             }
            },
            "type": "scatter3d"
           }
          ],
          "scattercarpet": [
           {
            "marker": {
             "colorbar": {
              "outlinewidth": 0,
              "ticks": ""
             }
            },
            "type": "scattercarpet"
           }
          ],
          "scattergeo": [
           {
            "marker": {
             "colorbar": {
              "outlinewidth": 0,
              "ticks": ""
             }
            },
            "type": "scattergeo"
           }
          ],
          "scattergl": [
           {
            "marker": {
             "colorbar": {
              "outlinewidth": 0,
              "ticks": ""
             }
            },
            "type": "scattergl"
           }
          ],
          "scattermapbox": [
           {
            "marker": {
             "colorbar": {
              "outlinewidth": 0,
              "ticks": ""
             }
            },
            "type": "scattermapbox"
           }
          ],
          "scatterpolar": [
           {
            "marker": {
             "colorbar": {
              "outlinewidth": 0,
              "ticks": ""
             }
            },
            "type": "scatterpolar"
           }
          ],
          "scatterpolargl": [
           {
            "marker": {
             "colorbar": {
              "outlinewidth": 0,
              "ticks": ""
             }
            },
            "type": "scatterpolargl"
           }
          ],
          "scatterternary": [
           {
            "marker": {
             "colorbar": {
              "outlinewidth": 0,
              "ticks": ""
             }
            },
            "type": "scatterternary"
           }
          ],
          "surface": [
           {
            "colorbar": {
             "outlinewidth": 0,
             "ticks": ""
            },
            "colorscale": [
             [
              0,
              "#0d0887"
             ],
             [
              0.1111111111111111,
              "#46039f"
             ],
             [
              0.2222222222222222,
              "#7201a8"
             ],
             [
              0.3333333333333333,
              "#9c179e"
             ],
             [
              0.4444444444444444,
              "#bd3786"
             ],
             [
              0.5555555555555556,
              "#d8576b"
             ],
             [
              0.6666666666666666,
              "#ed7953"
             ],
             [
              0.7777777777777778,
              "#fb9f3a"
             ],
             [
              0.8888888888888888,
              "#fdca26"
             ],
             [
              1,
              "#f0f921"
             ]
            ],
            "type": "surface"
           }
          ],
          "table": [
           {
            "cells": {
             "fill": {
              "color": "#EBF0F8"
             },
             "line": {
              "color": "white"
             }
            },
            "header": {
             "fill": {
              "color": "#C8D4E3"
             },
             "line": {
              "color": "white"
             }
            },
            "type": "table"
           }
          ]
         },
         "layout": {
          "annotationdefaults": {
           "arrowcolor": "#2a3f5f",
           "arrowhead": 0,
           "arrowwidth": 1
          },
          "autotypenumbers": "strict",
          "coloraxis": {
           "colorbar": {
            "outlinewidth": 0,
            "ticks": ""
           }
          },
          "colorscale": {
           "diverging": [
            [
             0,
             "#8e0152"
            ],
            [
             0.1,
             "#c51b7d"
            ],
            [
             0.2,
             "#de77ae"
            ],
            [
             0.3,
             "#f1b6da"
            ],
            [
             0.4,
             "#fde0ef"
            ],
            [
             0.5,
             "#f7f7f7"
            ],
            [
             0.6,
             "#e6f5d0"
            ],
            [
             0.7,
             "#b8e186"
            ],
            [
             0.8,
             "#7fbc41"
            ],
            [
             0.9,
             "#4d9221"
            ],
            [
             1,
             "#276419"
            ]
           ],
           "sequential": [
            [
             0,
             "#0d0887"
            ],
            [
             0.1111111111111111,
             "#46039f"
            ],
            [
             0.2222222222222222,
             "#7201a8"
            ],
            [
             0.3333333333333333,
             "#9c179e"
            ],
            [
             0.4444444444444444,
             "#bd3786"
            ],
            [
             0.5555555555555556,
             "#d8576b"
            ],
            [
             0.6666666666666666,
             "#ed7953"
            ],
            [
             0.7777777777777778,
             "#fb9f3a"
            ],
            [
             0.8888888888888888,
             "#fdca26"
            ],
            [
             1,
             "#f0f921"
            ]
           ],
           "sequentialminus": [
            [
             0,
             "#0d0887"
            ],
            [
             0.1111111111111111,
             "#46039f"
            ],
            [
             0.2222222222222222,
             "#7201a8"
            ],
            [
             0.3333333333333333,
             "#9c179e"
            ],
            [
             0.4444444444444444,
             "#bd3786"
            ],
            [
             0.5555555555555556,
             "#d8576b"
            ],
            [
             0.6666666666666666,
             "#ed7953"
            ],
            [
             0.7777777777777778,
             "#fb9f3a"
            ],
            [
             0.8888888888888888,
             "#fdca26"
            ],
            [
             1,
             "#f0f921"
            ]
           ]
          },
          "colorway": [
           "#636efa",
           "#EF553B",
           "#00cc96",
           "#ab63fa",
           "#FFA15A",
           "#19d3f3",
           "#FF6692",
           "#B6E880",
           "#FF97FF",
           "#FECB52"
          ],
          "font": {
           "color": "#2a3f5f"
          },
          "geo": {
           "bgcolor": "white",
           "lakecolor": "white",
           "landcolor": "#E5ECF6",
           "showlakes": true,
           "showland": true,
           "subunitcolor": "white"
          },
          "hoverlabel": {
           "align": "left"
          },
          "hovermode": "closest",
          "mapbox": {
           "style": "light"
          },
          "paper_bgcolor": "white",
          "plot_bgcolor": "#E5ECF6",
          "polar": {
           "angularaxis": {
            "gridcolor": "white",
            "linecolor": "white",
            "ticks": ""
           },
           "bgcolor": "#E5ECF6",
           "radialaxis": {
            "gridcolor": "white",
            "linecolor": "white",
            "ticks": ""
           }
          },
          "scene": {
           "xaxis": {
            "backgroundcolor": "#E5ECF6",
            "gridcolor": "white",
            "gridwidth": 2,
            "linecolor": "white",
            "showbackground": true,
            "ticks": "",
            "zerolinecolor": "white"
           },
           "yaxis": {
            "backgroundcolor": "#E5ECF6",
            "gridcolor": "white",
            "gridwidth": 2,
            "linecolor": "white",
            "showbackground": true,
            "ticks": "",
            "zerolinecolor": "white"
           },
           "zaxis": {
            "backgroundcolor": "#E5ECF6",
            "gridcolor": "white",
            "gridwidth": 2,
            "linecolor": "white",
            "showbackground": true,
            "ticks": "",
            "zerolinecolor": "white"
           }
          },
          "shapedefaults": {
           "line": {
            "color": "#2a3f5f"
           }
          },
          "ternary": {
           "aaxis": {
            "gridcolor": "white",
            "linecolor": "white",
            "ticks": ""
           },
           "baxis": {
            "gridcolor": "white",
            "linecolor": "white",
            "ticks": ""
           },
           "bgcolor": "#E5ECF6",
           "caxis": {
            "gridcolor": "white",
            "linecolor": "white",
            "ticks": ""
           }
          },
          "title": {
           "x": 0.05
          },
          "xaxis": {
           "automargin": true,
           "gridcolor": "white",
           "linecolor": "white",
           "ticks": "",
           "title": {
            "standoff": 15
           },
           "zerolinecolor": "white",
           "zerolinewidth": 2
          },
          "yaxis": {
           "automargin": true,
           "gridcolor": "white",
           "linecolor": "white",
           "ticks": "",
           "title": {
            "standoff": 15
           },
           "zerolinecolor": "white",
           "zerolinewidth": 2
          }
         }
        },
        "title": {
         "text": "Relationship Between Gust Wind Speed, Average Wind Speed, and Pollen Total",
         "x": 0.5,
         "xanchor": "center",
         "y": 0.95,
         "yanchor": "top"
        },
        "xaxis": {
         "anchor": "y",
         "domain": [
          0,
          1
         ],
         "gridcolor": "LightGray",
         "showgrid": true,
         "title": {
          "text": "Gust Wind Speed (km/h)"
         }
        },
        "yaxis": {
         "anchor": "x",
         "domain": [
          0,
          1
         ],
         "gridcolor": "LightGray",
         "showgrid": true,
         "title": {
          "text": "Average Wind Speed (km/h)"
         }
        }
       }
      }
     },
     "metadata": {},
     "output_type": "display_data"
    }
   ],
   "source": [
    "# 调整 sizeref 的值以增加对比度\n",
    "sizeref = df['pollen_total'].max() / 30  # 调整数值以增加对比度\n",
    "\n",
    "fig = px.scatter(df, x='gust_kmh', y='wind_spd_kmh', size='pollen_total', color='pollen_total',\n",
    "                 title='Relationship Between Gust Wind Speed, Average Wind Speed, and Pollen Total',\n",
    "                 labels={'gust_kmh': 'Gust Wind Speed (km/h)', 'wind_spd_kmh': 'Average Wind Speed (km/h)', 'pollen_total': 'Pollen Total'},\n",
    "                 size_max=15,  # 调整气泡的最大尺寸\n",
    "                 color_continuous_scale='Viridis')\n",
    "\n",
    "# 自定义悬停信息\n",
    "fig.update_traces(marker=dict(opacity=0.7, line=dict(width=1.5, color='DarkSlateGrey'),\n",
    "                              sizemode='diameter', sizeref=sizeref),\n",
    "                  hovertemplate='<b>Date:</b> %{customdata}<br>' +\n",
    "                                '<b>Gust Wind Speed:</b> %{x:.2f} km/h<br>' +\n",
    "                                '<b>Average Wind Speed:</b> %{y:.2f} km/h<br>' +\n",
    "                                '<b>Pollen Total:</b> %{marker.size:.2f}<extra></extra>',\n",
    "                  customdata=df.index.strftime('%Y-%m-%d %H:%M:%S'))  # 自定义数据\n",
    "\n",
    "# 更新布局以提高美观性\n",
    "fig.update_layout(\n",
    "    title={\n",
    "        'text': 'Relationship Between Gust Wind Speed, Average Wind Speed, and Pollen Total',\n",
    "        'y': 0.95,\n",
    "        'x': 0.5,\n",
    "        'xanchor': 'center',\n",
    "        'yanchor': 'top'\n",
    "    },\n",
    "    xaxis=dict(\n",
    "        title='Gust Wind Speed (km/h)',\n",
    "        showgrid=True,\n",
    "        gridcolor='LightGray'\n",
    "    ),\n",
    "    yaxis=dict(\n",
    "        title='Average Wind Speed (km/h)',\n",
    "        showgrid=True,\n",
    "        gridcolor='LightGray'\n",
    "    ),\n",
    "    plot_bgcolor='white',\n",
    "    font=dict(\n",
    "        family=\"Arial, sans-serif\",\n",
    "        size=12,\n",
    "        color=\"black\"\n",
    "    ),\n",
    "    coloraxis_colorbar=dict(\n",
    "        title='Pollen Total'\n",
    "    )\n",
    ")\n",
    "\n",
    "fig.show()\n"
   ]
  }
 ],
 "metadata": {
  "kernelspec": {
   "display_name": "base",
   "language": "python",
   "name": "python3"
  },
  "language_info": {
   "codemirror_mode": {
    "name": "ipython",
    "version": 3
   },
   "file_extension": ".py",
   "mimetype": "text/x-python",
   "name": "python",
   "nbconvert_exporter": "python",
   "pygments_lexer": "ipython3",
   "version": "3.8.8"
  }
 },
 "nbformat": 4,
 "nbformat_minor": 2
}
