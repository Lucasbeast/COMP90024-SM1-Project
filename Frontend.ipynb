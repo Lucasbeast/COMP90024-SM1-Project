{
 "cells": [
  {
   "cell_type": "code",
   "execution_count": 1,
   "id": "initial_id",
   "metadata": {
    "collapsed": true,
    "ExecuteTime": {
     "end_time": "2024-05-12T06:55:25.421950Z",
     "start_time": "2024-05-12T06:55:25.396169Z"
    }
   },
   "outputs": [],
   "source": [
    "import requests\n",
    "import warnings\n",
    "warnings.filterwarnings(\"ignore\")"
   ]
  },
  {
   "cell_type": "code",
   "outputs": [],
   "source": [
    "# this method fetch data from the backend; triggered by url call\n",
    "# fetch data allows you to qurey from the body argument\n",
    "\n",
    "def fetch_data(body, index_name):\n",
    "    url = 'http://127.0.0.1:9090/query-es'\n",
    "    response = requests.post(url, json={'body': body, 'index': index_name})\n",
    "    if response.status_code == 200:\n",
    "        return response.json()\n",
    "    else:\n",
    "        return f\"Failed to fetch data: Status code {response.status_code}\"\n",
    "\n",
    "\n",
    "# this function return the WHOLE es index\n",
    "# be careful with large data set\n",
    "# 中文再说一遍，这个function把整个表都读进来，如果数据很大会很慢\n",
    "# 为了避免内存爆炸，考虑使用上面的函数写query\n",
    "\n",
    "def fetch_all_data(index: str):\n",
    "    url = 'http://127.0.0.1:9090/fetch-all'\n",
    "    response = requests.post(url, json={'index': index}, headers={\"Content-Type\": \"application/json\"})\n",
    "    if response.status_code == 200:\n",
    "        return response.json()  # Make sure to return the parsed JSON\n",
    "    else:\n",
    "        return f\"Failed to fetch data: Status code {response.status_code}\"\n",
    "\n"
   ],
   "metadata": {
    "collapsed": false,
    "ExecuteTime": {
     "end_time": "2024-05-13T00:29:58.463403Z",
     "start_time": "2024-05-13T00:29:58.459174Z"
    }
   },
   "id": "a569f360e9b04835",
   "execution_count": 60
  },
  {
   "cell_type": "code",
   "outputs": [
    {
     "ename": "TypeError",
     "evalue": "fetch_data() missing 1 required positional argument: 'index_name'",
     "output_type": "error",
     "traceback": [
      "\u001B[0;31m---------------------------------------------------------------------------\u001B[0m",
      "\u001B[0;31mTypeError\u001B[0m                                 Traceback (most recent call last)",
      "Cell \u001B[0;32mIn[65], line 4\u001B[0m\n\u001B[1;32m      2\u001B[0m query \u001B[38;5;241m=\u001B[39m {\u001B[38;5;124m\"\u001B[39m\u001B[38;5;124msize\u001B[39m\u001B[38;5;124m\"\u001B[39m: \u001B[38;5;241m10\u001B[39m, \u001B[38;5;124m\"\u001B[39m\u001B[38;5;124mquery\u001B[39m\u001B[38;5;124m\"\u001B[39m: {\u001B[38;5;124m\"\u001B[39m\u001B[38;5;124mmatch_all\u001B[39m\u001B[38;5;124m\"\u001B[39m: {}}}\n\u001B[1;32m      3\u001B[0m index \u001B[38;5;241m=\u001B[39m \u001B[38;5;124m'\u001B[39m\u001B[38;5;124msensor\u001B[39m\u001B[38;5;124m'\u001B[39m\n\u001B[0;32m----> 4\u001B[0m test \u001B[38;5;241m=\u001B[39m fetch_data(index)\n",
      "\u001B[0;31mTypeError\u001B[0m: fetch_data() missing 1 required positional argument: 'index_name'"
     ]
    }
   ],
   "source": [
    "# testing querying the first 5 rows from the sensor index\n",
    "query = {\"size\": 10, \"query\": {\"match_all\": {}}}\n",
    "index = 'sensor'\n",
    "test = fetch_data(index)"
   ],
   "metadata": {
    "collapsed": false,
    "ExecuteTime": {
     "end_time": "2024-05-13T00:30:17.435019Z",
     "start_time": "2024-05-13T00:30:17.422968Z"
    }
   },
   "id": "ea5eb36b804ed370",
   "execution_count": 65
  },
  {
   "cell_type": "code",
   "outputs": [
    {
     "data": {
      "text/plain": "[{'_id': 'DGhlYI8BAp0N_qlVe4j5',\n  '_index': 'sensor',\n  '_routing': 'sensor',\n  '_score': 1.0,\n  '_source': {'battery': 3,\n   'date': '2023-02-26',\n   'dev_id': 'r712-a7f7',\n   'humidity': 71.09,\n   'location': {'lat': -37.8030396, 'lon': 144.965898},\n   'temperature': 20.16,\n   'time': '05:37:18'}},\n {'_id': 'DWhlYI8BAp0N_qlVfYiw',\n  '_index': 'sensor',\n  '_routing': 'sensor',\n  '_score': 1.0,\n  '_source': {'battery': 3,\n   'date': '2023-02-26',\n   'dev_id': 'r712-4e85',\n   'humidity': 71.79,\n   'location': {'lat': -37.8024211, 'lon': 144.9663054},\n   'temperature': 19.96,\n   'time': '05:41:09'}},\n {'_id': 'DmhlYI8BAp0N_qlVfogs',\n  '_index': 'sensor',\n  '_routing': 'sensor',\n  '_score': 1.0,\n  '_source': {'battery': 3,\n   'date': '2023-02-26',\n   'dev_id': 'r712-a7f7',\n   'humidity': 68.32,\n   'location': {'lat': -37.8030396, 'lon': 144.965898},\n   'temperature': 20.11,\n   'time': '07:37:19'}},\n {'_id': 'D2hlYI8BAp0N_qlVfohV',\n  '_index': 'sensor',\n  '_routing': 'sensor',\n  '_score': 1.0,\n  '_source': {'battery': 3,\n   'date': '2023-02-26',\n   'dev_id': 'r712-a7f8',\n   'humidity': 74.18,\n   'location': {'lat': -37.8027955, 'lon': 144.9657785},\n   'temperature': 19.14,\n   'time': '09:33:40'}},\n {'_id': 'EGhlYI8BAp0N_qlVfojF',\n  '_index': 'sensor',\n  '_routing': 'sensor',\n  '_score': 1.0,\n  '_source': {'battery': 3,\n   'date': '2023-02-26',\n   'dev_id': 'r712-a7f9',\n   'humidity': 76.76,\n   'location': {'lat': -37.8026473, 'lon': 144.9661236},\n   'temperature': 18.93,\n   'time': '10:28:31'}},\n {'_id': 'EWhlYI8BAp0N_qlVfojx',\n  '_index': 'sensor',\n  '_routing': 'sensor',\n  '_score': 1.0,\n  '_source': {'battery': 3,\n   'date': '2023-02-26',\n   'dev_id': 'r712-a7f8',\n   'humidity': 76.93,\n   'location': {'lat': -37.8027955, 'lon': 144.9657785},\n   'temperature': 18.9,\n   'time': '10:33:40'}},\n {'_id': 'EmhlYI8BAp0N_qlVf4gv',\n  '_index': 'sensor',\n  '_routing': 'sensor',\n  '_score': 1.0,\n  '_source': {'battery': 3,\n   'date': '2023-02-26',\n   'dev_id': 'r712-a7f8',\n   'humidity': 79.08,\n   'location': {'lat': -37.8027955, 'lon': 144.9657785},\n   'temperature': 18.59,\n   'time': '11:33:40'}},\n {'_id': 'E2hlYI8BAp0N_qlVgIhQ',\n  '_index': 'sensor',\n  '_routing': 'sensor',\n  '_score': 1.0,\n  '_source': {'battery': 3,\n   'date': '2023-02-26',\n   'dev_id': 'r712-a7f9',\n   'humidity': 80.38,\n   'location': {'lat': -37.8026473, 'lon': 144.9661236},\n   'temperature': 18.24,\n   'time': '12:28:32'}},\n {'_id': 'FGhlYI8BAp0N_qlVgIis',\n  '_index': 'sensor',\n  '_routing': 'sensor',\n  '_score': 1.0,\n  '_source': {'battery': 3,\n   'date': '2023-02-26',\n   'dev_id': 'r712-a7f7',\n   'humidity': 79.62,\n   'location': {'lat': -37.8030396, 'lon': 144.965898},\n   'temperature': 18.39,\n   'time': '12:37:20'}},\n {'_id': 'FWhlYI8BAp0N_qlVgIjS',\n  '_index': 'sensor',\n  '_routing': 'sensor',\n  '_score': 1.0,\n  '_source': {'battery': 3,\n   'date': '2023-02-26',\n   'dev_id': 'r712-a7f8',\n   'humidity': 81.77,\n   'location': {'lat': -37.8027955, 'lon': 144.9657785},\n   'temperature': 18.17,\n   'time': '14:33:41'}}]"
     },
     "execution_count": 64,
     "metadata": {},
     "output_type": "execute_result"
    }
   ],
   "source": [
    "test"
   ],
   "metadata": {
    "collapsed": false,
    "ExecuteTime": {
     "end_time": "2024-05-13T00:30:14.451799Z",
     "start_time": "2024-05-13T00:30:14.446366Z"
    }
   },
   "id": "4bfbecde1f122b9e",
   "execution_count": 64
  },
  {
   "cell_type": "code",
   "outputs": [],
   "source": [
    "# reading the fix data into pd.dataframe\n",
    "import pandas as pd\n",
    "def es_into_df(es_outcome: list):\n",
    "    data = []\n",
    "    for document in es_outcome:\n",
    "        if '_source' in document:\n",
    "            data.append(document['_source'])\n",
    "    df = pd.DataFrame(data)\n",
    "    return df"
   ],
   "metadata": {
    "collapsed": false,
    "ExecuteTime": {
     "end_time": "2024-05-11T07:27:35.441511Z",
     "start_time": "2024-05-11T07:27:35.437833Z"
    }
   },
   "id": "1aaadde226d5b77f",
   "execution_count": 22
  },
  {
   "cell_type": "code",
   "outputs": [
    {
     "data": {
      "text/plain": "[{'_index': 'sensor',\n  '_id': 'DGhlYI8BAp0N_qlVe4j5',\n  '_score': 1.0,\n  '_routing': 'sensor',\n  '_source': {'date': '2023-02-26',\n   'time': '05:37:18',\n   'dev_id': 'r712-a7f7',\n   'temperature': 20.16,\n   'humidity': 71.09,\n   'battery': 3,\n   'location': {'lat': -37.8030396, 'lon': 144.965898}}},\n {'_index': 'sensor',\n  '_id': 'DWhlYI8BAp0N_qlVfYiw',\n  '_score': 1.0,\n  '_routing': 'sensor',\n  '_source': {'date': '2023-02-26',\n   'time': '05:41:09',\n   'dev_id': 'r712-4e85',\n   'temperature': 19.96,\n   'humidity': 71.79,\n   'battery': 3,\n   'location': {'lat': -37.8024211, 'lon': 144.9663054}}},\n {'_index': 'sensor',\n  '_id': 'DmhlYI8BAp0N_qlVfogs',\n  '_score': 1.0,\n  '_routing': 'sensor',\n  '_source': {'date': '2023-02-26',\n   'time': '07:37:19',\n   'dev_id': 'r712-a7f7',\n   'temperature': 20.11,\n   'humidity': 68.32,\n   'battery': 3,\n   'location': {'lat': -37.8030396, 'lon': 144.965898}}},\n {'_index': 'sensor',\n  '_id': 'D2hlYI8BAp0N_qlVfohV',\n  '_score': 1.0,\n  '_routing': 'sensor',\n  '_source': {'date': '2023-02-26',\n   'time': '09:33:40',\n   'dev_id': 'r712-a7f8',\n   'temperature': 19.14,\n   'humidity': 74.18,\n   'battery': 3,\n   'location': {'lat': -37.8027955, 'lon': 144.9657785}}},\n {'_index': 'sensor',\n  '_id': 'EGhlYI8BAp0N_qlVfojF',\n  '_score': 1.0,\n  '_routing': 'sensor',\n  '_source': {'date': '2023-02-26',\n   'time': '10:28:31',\n   'dev_id': 'r712-a7f9',\n   'temperature': 18.93,\n   'humidity': 76.76,\n   'battery': 3,\n   'location': {'lat': -37.8026473, 'lon': 144.9661236}}}]"
     },
     "execution_count": 51,
     "metadata": {},
     "output_type": "execute_result"
    }
   ],
   "source": [],
   "metadata": {
    "collapsed": false,
    "ExecuteTime": {
     "end_time": "2024-05-11T12:00:26.877088Z",
     "start_time": "2024-05-11T12:00:26.677555Z"
    }
   },
   "id": "68e477cbcd09b96",
   "execution_count": 51
  },
  {
   "cell_type": "code",
   "outputs": [],
   "source": [],
   "metadata": {
    "collapsed": false
   },
   "id": "3d2528aaf89d054"
  }
 ],
 "metadata": {
  "kernelspec": {
   "display_name": "Python 3",
   "language": "python",
   "name": "python3"
  },
  "language_info": {
   "codemirror_mode": {
    "name": "ipython",
    "version": 2
   },
   "file_extension": ".py",
   "mimetype": "text/x-python",
   "name": "python",
   "nbconvert_exporter": "python",
   "pygments_lexer": "ipython2",
   "version": "2.7.6"
  }
 },
 "nbformat": 4,
 "nbformat_minor": 5
}
