{
 "cells": [
  {
   "cell_type": "code",
   "outputs": [],
   "source": [
    "import requests\n",
    "import warnings\n",
    "warnings.filterwarnings(\"ignore\")"
   ],
   "metadata": {
    "collapsed": false
   },
   "id": "626fbd8555fda8b2"
  },
  {
   "cell_type": "code",
   "outputs": [],
   "source": [
    "# this method fetch data from the backend; triggered by url call\n",
    "# fetch data allows you to qurey from the body argument\n",
    "\n",
    "def fetch_data(body, index_name):\n",
    "    url = 'http://127.0.0.1:9090/query-es'\n",
    "    response = requests.post(url, json={'body': body, 'index': index_name})\n",
    "    if response.status_code == 200:\n",
    "        return response.json()\n",
    "    else:\n",
    "        return f\"Failed to fetch data: Status code {response.status_code}\"\n",
    "\n",
    "\n",
    "# this function return the WHOLE es index\n",
    "# be careful with large data set\n",
    "# 中文再说一遍，这个function把整个表都读进来，如果数据很大会很慢\n",
    "# 为了避免内存爆炸，考虑使用上面的函数写query\n",
    "\n",
    "def fetch_all_data(index: str):\n",
    "    url = 'http://127.0.0.1:9090/fetch-all'\n",
    "    response = requests.post(url, json={'index': index}, headers={\"Content-Type\": \"application/json\"})\n",
    "    if response.status_code == 200:\n",
    "        return response.json()  # Make sure to return the parsed JSON\n",
    "    else:\n",
    "        return f\"Failed to fetch data: Status code {response.status_code}\"\n",
    "\n"
   ],
   "metadata": {
    "collapsed": false
   },
   "id": "59381425eebc1b89"
  },
  {
   "cell_type": "code",
   "outputs": [],
   "source": [
    "# testing querying the first 5 rows from the sensor index\n",
    "query = {\"size\": 10, \"query\": {\"match_all\": {}}}\n",
    "index = 'sensor'\n",
    "test = fetch_data(index)"
   ],
   "metadata": {
    "collapsed": false
   },
   "id": "d627b497667e5493"
  },
  {
   "cell_type": "code",
   "outputs": [],
   "source": [
    "test"
   ],
   "metadata": {
    "collapsed": false
   },
   "id": "5054d7800572e800"
  },
  {
   "cell_type": "code",
   "outputs": [],
   "source": [
    "# reading the fix data into pd.dataframe\n",
    "import pandas as pd\n",
    "def es_into_df(es_outcome: list):\n",
    "    data = []\n",
    "    for document in es_outcome:\n",
    "        if '_source' in document:\n",
    "            data.append(document['_source'])\n",
    "    df = pd.DataFrame(data)\n",
    "    return df"
   ],
   "metadata": {
    "collapsed": false
   },
   "id": "6ee0b8cf35686880"
  },
  {
   "cell_type": "code",
   "outputs": [],
   "source": [
    "es_into_df(test)"
   ],
   "metadata": {
    "collapsed": false
   },
   "id": "d559f5023fc08c05"
  },
  {
   "cell_type": "code",
   "outputs": [],
   "source": [],
   "metadata": {
    "collapsed": false
   },
   "id": "3e4883efbeddf234"
  }
 ],
 "metadata": {
  "kernelspec": {
   "display_name": "Python 3",
   "language": "python",
   "name": "python3"
  },
  "language_info": {
   "codemirror_mode": {
    "name": "ipython",
    "version": 2
   },
   "file_extension": ".py",
   "mimetype": "text/x-python",
   "name": "python",
   "nbconvert_exporter": "python",
   "pygments_lexer": "ipython2",
   "version": "2.7.6"
  }
 },
 "nbformat": 4,
 "nbformat_minor": 5
}
