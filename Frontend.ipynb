{
 "cells": [
  {
   "cell_type": "code",
   "execution_count": 1,
   "id": "initial_id",
   "metadata": {
    "collapsed": true,
    "ExecuteTime": {
     "end_time": "2024-05-12T06:55:25.421950Z",
     "start_time": "2024-05-12T06:55:25.396169Z"
    }
   },
   "outputs": [],
   "source": [
    "import requests\n",
    "import warnings\n",
    "warnings.filterwarnings(\"ignore\")"
   ]
  },
  {
   "cell_type": "code",
   "outputs": [],
   "source": [
    "# this method fetch data from the backend; triggered by url call\n",
    "# fetch data allows you to qurey from the body argument\n",
    "\n",
    "def fetch_data(body, index_name):\n",
    "    url = 'http://127.0.0.1:9090/query-es'\n",
    "    response = requests.post(url, json={'body': body, 'index': index_name})\n",
    "    if response.status_code == 200:\n",
    "        return response.json()\n",
    "    else:\n",
    "        return f\"Failed to fetch data: Status code {response.status_code}\"\n",
    "\n",
    "\n",
    "# this function return the WHOLE es index\n",
    "# be careful with large data set\n",
    "# 中文再说一遍，这个function把整个表都读进来，如果数据很大会很慢\n",
    "# 为了避免内存爆炸，考虑使用上面的函数写query\n",
    "\n",
    "def fetch_all_data(index: str):\n",
    "    url = 'http://127.0.0.1:9090/fetch-all'\n",
    "    response = requests.post(url, json={'index': index}, headers={\"Content-Type\": \"application/json\"})\n",
    "    if response.status_code == 200:\n",
    "        return response.json()  # Make sure to return the parsed JSON\n",
    "    else:\n",
    "        return f\"Failed to fetch data: Status code {response.status_code}\"\n",
    "\n"
   ],
   "metadata": {
    "collapsed": false,
    "ExecuteTime": {
     "end_time": "2024-05-13T00:33:09.035204Z",
     "start_time": "2024-05-13T00:33:09.030875Z"
    }
   },
   "id": "a569f360e9b04835",
   "execution_count": 67
  },
  {
   "cell_type": "code",
   "outputs": [
    {
     "ename": "TypeError",
     "evalue": "fetch_data() missing 1 required positional argument: 'index_name'",
     "output_type": "error",
     "traceback": [
      "\u001B[0;31m---------------------------------------------------------------------------\u001B[0m",
      "\u001B[0;31mTypeError\u001B[0m                                 Traceback (most recent call last)",
      "Cell \u001B[0;32mIn[68], line 4\u001B[0m\n\u001B[1;32m      2\u001B[0m query \u001B[38;5;241m=\u001B[39m {\u001B[38;5;124m\"\u001B[39m\u001B[38;5;124msize\u001B[39m\u001B[38;5;124m\"\u001B[39m: \u001B[38;5;241m10\u001B[39m, \u001B[38;5;124m\"\u001B[39m\u001B[38;5;124mquery\u001B[39m\u001B[38;5;124m\"\u001B[39m: {\u001B[38;5;124m\"\u001B[39m\u001B[38;5;124mmatch_all\u001B[39m\u001B[38;5;124m\"\u001B[39m: {}}}\n\u001B[1;32m      3\u001B[0m index \u001B[38;5;241m=\u001B[39m \u001B[38;5;124m'\u001B[39m\u001B[38;5;124msensor\u001B[39m\u001B[38;5;124m'\u001B[39m\n\u001B[0;32m----> 4\u001B[0m test \u001B[38;5;241m=\u001B[39m fetch_data(index)\n",
      "\u001B[0;31mTypeError\u001B[0m: fetch_data() missing 1 required positional argument: 'index_name'"
     ]
    }
   ],
   "source": [
    "# testing querying the first 5 rows from the sensor index\n",
    "query = {\"size\": 10, \"query\": {\"match_all\": {}}}\n",
    "index = 'sensor'\n",
    "test = fetch_data(index)"
   ],
   "metadata": {
    "collapsed": false,
    "ExecuteTime": {
     "end_time": "2024-05-13T00:33:09.492559Z",
     "start_time": "2024-05-13T00:33:09.485417Z"
    }
   },
   "id": "ea5eb36b804ed370",
   "execution_count": 68
  },
  {
   "cell_type": "code",
   "outputs": [
    {
     "data": {
      "text/plain": "[{'_id': 'DGhlYI8BAp0N_qlVe4j5',\n  '_index': 'sensor',\n  '_routing': 'sensor',\n  '_score': 1.0,\n  '_source': {'battery': 3,\n   'date': '2023-02-26',\n   'dev_id': 'r712-a7f7',\n   'humidity': 71.09,\n   'location': {'lat': -37.8030396, 'lon': 144.965898},\n   'temperature': 20.16,\n   'time': '05:37:18'}},\n {'_id': 'DWhlYI8BAp0N_qlVfYiw',\n  '_index': 'sensor',\n  '_routing': 'sensor',\n  '_score': 1.0,\n  '_source': {'battery': 3,\n   'date': '2023-02-26',\n   'dev_id': 'r712-4e85',\n   'humidity': 71.79,\n   'location': {'lat': -37.8024211, 'lon': 144.9663054},\n   'temperature': 19.96,\n   'time': '05:41:09'}},\n {'_id': 'DmhlYI8BAp0N_qlVfogs',\n  '_index': 'sensor',\n  '_routing': 'sensor',\n  '_score': 1.0,\n  '_source': {'battery': 3,\n   'date': '2023-02-26',\n   'dev_id': 'r712-a7f7',\n   'humidity': 68.32,\n   'location': {'lat': -37.8030396, 'lon': 144.965898},\n   'temperature': 20.11,\n   'time': '07:37:19'}},\n {'_id': 'D2hlYI8BAp0N_qlVfohV',\n  '_index': 'sensor',\n  '_routing': 'sensor',\n  '_score': 1.0,\n  '_source': {'battery': 3,\n   'date': '2023-02-26',\n   'dev_id': 'r712-a7f8',\n   'humidity': 74.18,\n   'location': {'lat': -37.8027955, 'lon': 144.9657785},\n   'temperature': 19.14,\n   'time': '09:33:40'}},\n {'_id': 'EGhlYI8BAp0N_qlVfojF',\n  '_index': 'sensor',\n  '_routing': 'sensor',\n  '_score': 1.0,\n  '_source': {'battery': 3,\n   'date': '2023-02-26',\n   'dev_id': 'r712-a7f9',\n   'humidity': 76.76,\n   'location': {'lat': -37.8026473, 'lon': 144.9661236},\n   'temperature': 18.93,\n   'time': '10:28:31'}},\n {'_id': 'EWhlYI8BAp0N_qlVfojx',\n  '_index': 'sensor',\n  '_routing': 'sensor',\n  '_score': 1.0,\n  '_source': {'battery': 3,\n   'date': '2023-02-26',\n   'dev_id': 'r712-a7f8',\n   'humidity': 76.93,\n   'location': {'lat': -37.8027955, 'lon': 144.9657785},\n   'temperature': 18.9,\n   'time': '10:33:40'}},\n {'_id': 'EmhlYI8BAp0N_qlVf4gv',\n  '_index': 'sensor',\n  '_routing': 'sensor',\n  '_score': 1.0,\n  '_source': {'battery': 3,\n   'date': '2023-02-26',\n   'dev_id': 'r712-a7f8',\n   'humidity': 79.08,\n   'location': {'lat': -37.8027955, 'lon': 144.9657785},\n   'temperature': 18.59,\n   'time': '11:33:40'}},\n {'_id': 'E2hlYI8BAp0N_qlVgIhQ',\n  '_index': 'sensor',\n  '_routing': 'sensor',\n  '_score': 1.0,\n  '_source': {'battery': 3,\n   'date': '2023-02-26',\n   'dev_id': 'r712-a7f9',\n   'humidity': 80.38,\n   'location': {'lat': -37.8026473, 'lon': 144.9661236},\n   'temperature': 18.24,\n   'time': '12:28:32'}},\n {'_id': 'FGhlYI8BAp0N_qlVgIis',\n  '_index': 'sensor',\n  '_routing': 'sensor',\n  '_score': 1.0,\n  '_source': {'battery': 3,\n   'date': '2023-02-26',\n   'dev_id': 'r712-a7f7',\n   'humidity': 79.62,\n   'location': {'lat': -37.8030396, 'lon': 144.965898},\n   'temperature': 18.39,\n   'time': '12:37:20'}},\n {'_id': 'FWhlYI8BAp0N_qlVgIjS',\n  '_index': 'sensor',\n  '_routing': 'sensor',\n  '_score': 1.0,\n  '_source': {'battery': 3,\n   'date': '2023-02-26',\n   'dev_id': 'r712-a7f8',\n   'humidity': 81.77,\n   'location': {'lat': -37.8027955, 'lon': 144.9657785},\n   'temperature': 18.17,\n   'time': '14:33:41'}}]"
     },
     "execution_count": 69,
     "metadata": {},
     "output_type": "execute_result"
    }
   ],
   "source": [
    "test"
   ],
   "metadata": {
    "collapsed": false,
    "ExecuteTime": {
     "end_time": "2024-05-13T00:33:10.500005Z",
     "start_time": "2024-05-13T00:33:10.494506Z"
    }
   },
   "id": "4bfbecde1f122b9e",
   "execution_count": 69
  },
  {
   "cell_type": "code",
   "outputs": [],
   "source": [
    "# reading the fix data into pd.dataframe\n",
    "import pandas as pd\n",
    "def es_into_df(es_outcome: list):\n",
    "    data = []\n",
    "    for document in es_outcome:\n",
    "        if '_source' in document:\n",
    "            data.append(document['_source'])\n",
    "    df = pd.DataFrame(data)\n",
    "    return df"
   ],
   "metadata": {
    "collapsed": false,
    "ExecuteTime": {
     "end_time": "2024-05-13T00:33:11.398706Z",
     "start_time": "2024-05-13T00:33:11.395272Z"
    }
   },
   "id": "1aaadde226d5b77f",
   "execution_count": 70
  },
  {
   "cell_type": "code",
   "outputs": [
    {
     "data": {
      "text/plain": "   battery        date     dev_id  humidity  \\\n0        3  2023-02-26  r712-a7f7     71.09   \n1        3  2023-02-26  r712-4e85     71.79   \n2        3  2023-02-26  r712-a7f7     68.32   \n3        3  2023-02-26  r712-a7f8     74.18   \n4        3  2023-02-26  r712-a7f9     76.76   \n5        3  2023-02-26  r712-a7f8     76.93   \n6        3  2023-02-26  r712-a7f8     79.08   \n7        3  2023-02-26  r712-a7f9     80.38   \n8        3  2023-02-26  r712-a7f7     79.62   \n9        3  2023-02-26  r712-a7f8     81.77   \n\n                                   location  temperature      time  \n0   {'lat': -37.8030396, 'lon': 144.965898}        20.16  05:37:18  \n1  {'lat': -37.8024211, 'lon': 144.9663054}        19.96  05:41:09  \n2   {'lat': -37.8030396, 'lon': 144.965898}        20.11  07:37:19  \n3  {'lat': -37.8027955, 'lon': 144.9657785}        19.14  09:33:40  \n4  {'lat': -37.8026473, 'lon': 144.9661236}        18.93  10:28:31  \n5  {'lat': -37.8027955, 'lon': 144.9657785}        18.90  10:33:40  \n6  {'lat': -37.8027955, 'lon': 144.9657785}        18.59  11:33:40  \n7  {'lat': -37.8026473, 'lon': 144.9661236}        18.24  12:28:32  \n8   {'lat': -37.8030396, 'lon': 144.965898}        18.39  12:37:20  \n9  {'lat': -37.8027955, 'lon': 144.9657785}        18.17  14:33:41  ",
      "text/html": "<div>\n<style scoped>\n    .dataframe tbody tr th:only-of-type {\n        vertical-align: middle;\n    }\n\n    .dataframe tbody tr th {\n        vertical-align: top;\n    }\n\n    .dataframe thead th {\n        text-align: right;\n    }\n</style>\n<table border=\"1\" class=\"dataframe\">\n  <thead>\n    <tr style=\"text-align: right;\">\n      <th></th>\n      <th>battery</th>\n      <th>date</th>\n      <th>dev_id</th>\n      <th>humidity</th>\n      <th>location</th>\n      <th>temperature</th>\n      <th>time</th>\n    </tr>\n  </thead>\n  <tbody>\n    <tr>\n      <th>0</th>\n      <td>3</td>\n      <td>2023-02-26</td>\n      <td>r712-a7f7</td>\n      <td>71.09</td>\n      <td>{'lat': -37.8030396, 'lon': 144.965898}</td>\n      <td>20.16</td>\n      <td>05:37:18</td>\n    </tr>\n    <tr>\n      <th>1</th>\n      <td>3</td>\n      <td>2023-02-26</td>\n      <td>r712-4e85</td>\n      <td>71.79</td>\n      <td>{'lat': -37.8024211, 'lon': 144.9663054}</td>\n      <td>19.96</td>\n      <td>05:41:09</td>\n    </tr>\n    <tr>\n      <th>2</th>\n      <td>3</td>\n      <td>2023-02-26</td>\n      <td>r712-a7f7</td>\n      <td>68.32</td>\n      <td>{'lat': -37.8030396, 'lon': 144.965898}</td>\n      <td>20.11</td>\n      <td>07:37:19</td>\n    </tr>\n    <tr>\n      <th>3</th>\n      <td>3</td>\n      <td>2023-02-26</td>\n      <td>r712-a7f8</td>\n      <td>74.18</td>\n      <td>{'lat': -37.8027955, 'lon': 144.9657785}</td>\n      <td>19.14</td>\n      <td>09:33:40</td>\n    </tr>\n    <tr>\n      <th>4</th>\n      <td>3</td>\n      <td>2023-02-26</td>\n      <td>r712-a7f9</td>\n      <td>76.76</td>\n      <td>{'lat': -37.8026473, 'lon': 144.9661236}</td>\n      <td>18.93</td>\n      <td>10:28:31</td>\n    </tr>\n    <tr>\n      <th>5</th>\n      <td>3</td>\n      <td>2023-02-26</td>\n      <td>r712-a7f8</td>\n      <td>76.93</td>\n      <td>{'lat': -37.8027955, 'lon': 144.9657785}</td>\n      <td>18.90</td>\n      <td>10:33:40</td>\n    </tr>\n    <tr>\n      <th>6</th>\n      <td>3</td>\n      <td>2023-02-26</td>\n      <td>r712-a7f8</td>\n      <td>79.08</td>\n      <td>{'lat': -37.8027955, 'lon': 144.9657785}</td>\n      <td>18.59</td>\n      <td>11:33:40</td>\n    </tr>\n    <tr>\n      <th>7</th>\n      <td>3</td>\n      <td>2023-02-26</td>\n      <td>r712-a7f9</td>\n      <td>80.38</td>\n      <td>{'lat': -37.8026473, 'lon': 144.9661236}</td>\n      <td>18.24</td>\n      <td>12:28:32</td>\n    </tr>\n    <tr>\n      <th>8</th>\n      <td>3</td>\n      <td>2023-02-26</td>\n      <td>r712-a7f7</td>\n      <td>79.62</td>\n      <td>{'lat': -37.8030396, 'lon': 144.965898}</td>\n      <td>18.39</td>\n      <td>12:37:20</td>\n    </tr>\n    <tr>\n      <th>9</th>\n      <td>3</td>\n      <td>2023-02-26</td>\n      <td>r712-a7f8</td>\n      <td>81.77</td>\n      <td>{'lat': -37.8027955, 'lon': 144.9657785}</td>\n      <td>18.17</td>\n      <td>14:33:41</td>\n    </tr>\n  </tbody>\n</table>\n</div>"
     },
     "execution_count": 71,
     "metadata": {},
     "output_type": "execute_result"
    }
   ],
   "source": [
    "es_into_df(test)"
   ],
   "metadata": {
    "collapsed": false,
    "ExecuteTime": {
     "end_time": "2024-05-13T00:33:12.228833Z",
     "start_time": "2024-05-13T00:33:12.198442Z"
    }
   },
   "id": "68e477cbcd09b96",
   "execution_count": 71
  },
  {
   "cell_type": "code",
   "outputs": [],
   "source": [],
   "metadata": {
    "collapsed": false
   },
   "id": "3d2528aaf89d054"
  }
 ],
 "metadata": {
  "kernelspec": {
   "display_name": "Python 3",
   "language": "python",
   "name": "python3"
  },
  "language_info": {
   "codemirror_mode": {
    "name": "ipython",
    "version": 2
   },
   "file_extension": ".py",
   "mimetype": "text/x-python",
   "name": "python",
   "nbconvert_exporter": "python",
   "pygments_lexer": "ipython2",
   "version": "2.7.6"
  }
 },
 "nbformat": 4,
 "nbformat_minor": 5
}
