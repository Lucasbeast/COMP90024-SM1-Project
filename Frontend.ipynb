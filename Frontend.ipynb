{
 "cells": [
  {
   "cell_type": "code",
   "execution_count": 115,
   "id": "initial_id",
   "metadata": {
    "ExecuteTime": {
     "end_time": "2024-05-12T06:55:25.421950Z",
     "start_time": "2024-05-12T06:55:25.396169Z"
    },
    "collapsed": true
   },
   "outputs": [],
   "source": [
    "import requests\n",
    "import warnings\n",
    "warnings.filterwarnings(\"ignore\")"
   ]
  },
  {
   "cell_type": "code",
   "execution_count": 121,
   "id": "a569f360e9b04835",
   "metadata": {
    "ExecuteTime": {
     "end_time": "2024-05-13T00:33:09.035204Z",
     "start_time": "2024-05-13T00:33:09.030875Z"
    },
    "collapsed": false
   },
   "outputs": [],
   "source": [
    "# this method fetch data from the backend; triggered by url call\n",
    "# fetch data allows you to qurey from the body argument\n",
    "\n",
    "def fetch_data(body, index_name):\n",
    "    url = 'http://127.0.0.1:9090/query-es'\n",
    "    response = requests.post(url, json={'body': body, 'index': index_name})\n",
    "    if response.status_code == 200:\n",
    "        return response.json()\n",
    "    else:\n",
    "        return f\"Failed to fetch data: Status code {response.status_code}\"\n",
    "\n",
    "\n",
    "# this function return the WHOLE es index\n",
    "# be careful with large data set\n",
    "# 中文再说一遍，这个function把整个表都读进来，如果数据很大会很慢\n",
    "# 为了避免内存爆炸，考虑使用上面的函数写query\n",
    "\n",
    "def fetch_all_data(index: str):\n",
    "    url = 'http://127.0.0.1:9090/fetch-all'\n",
    "    response = requests.post(url, json={'index': index}, headers={\"Content-Type\": \"application/json\"})\n",
    "    if response.status_code == 200:\n",
    "        return response.json()  # Make sure to return the parsed JSON\n",
    "    else:\n",
    "        return f\"Failed to fetch data: Status code {response.status_code}\"\n",
    "\n"
   ]
  },
  {
   "cell_type": "code",
   "execution_count": 122,
   "id": "ea5eb36b804ed370",
   "metadata": {
    "ExecuteTime": {
     "end_time": "2024-05-13T00:33:09.492559Z",
     "start_time": "2024-05-13T00:33:09.485417Z"
    },
    "collapsed": false
   },
   "outputs": [
    {
     "ename": "TypeError",
     "evalue": "fetch_data() missing 1 required positional argument: 'index_name'",
     "output_type": "error",
     "traceback": [
      "\u001b[0;31m---------------------------------------------------------------------------\u001b[0m",
      "\u001b[0;31mTypeError\u001b[0m                                 Traceback (most recent call last)",
      "\u001b[0;32m<ipython-input-122-39bbe32d31b5>\u001b[0m in \u001b[0;36m<module>\u001b[0;34m\u001b[0m\n\u001b[1;32m      2\u001b[0m \u001b[0mquery\u001b[0m \u001b[0;34m=\u001b[0m \u001b[0;34m{\u001b[0m\u001b[0;34m\"size\"\u001b[0m\u001b[0;34m:\u001b[0m \u001b[0;36m10\u001b[0m\u001b[0;34m,\u001b[0m \u001b[0;34m\"query\"\u001b[0m\u001b[0;34m:\u001b[0m \u001b[0;34m{\u001b[0m\u001b[0;34m\"match_all\"\u001b[0m\u001b[0;34m:\u001b[0m \u001b[0;34m{\u001b[0m\u001b[0;34m}\u001b[0m\u001b[0;34m}\u001b[0m\u001b[0;34m}\u001b[0m\u001b[0;34m\u001b[0m\u001b[0;34m\u001b[0m\u001b[0m\n\u001b[1;32m      3\u001b[0m \u001b[0mindex\u001b[0m \u001b[0;34m=\u001b[0m \u001b[0;34m'sensor'\u001b[0m\u001b[0;34m\u001b[0m\u001b[0;34m\u001b[0m\u001b[0m\n\u001b[0;32m----> 4\u001b[0;31m \u001b[0mtest\u001b[0m \u001b[0;34m=\u001b[0m \u001b[0mfetch_data\u001b[0m\u001b[0;34m(\u001b[0m\u001b[0mindex\u001b[0m\u001b[0;34m)\u001b[0m\u001b[0;34m\u001b[0m\u001b[0;34m\u001b[0m\u001b[0m\n\u001b[0m",
      "\u001b[0;31mTypeError\u001b[0m: fetch_data() missing 1 required positional argument: 'index_name'"
     ]
    }
   ],
   "source": [
    "# testing querying the first 5 rows from the sensor index\n",
    "query = {\"size\": 10, \"query\": {\"match_all\": {}}}\n",
    "index = 'sensor'\n",
    "test = fetch_data(index)"
   ]
  },
  {
   "cell_type": "code",
   "execution_count": 118,
   "id": "4bfbecde1f122b9e",
   "metadata": {
    "ExecuteTime": {
     "end_time": "2024-05-13T00:33:10.500005Z",
     "start_time": "2024-05-13T00:33:10.494506Z"
    },
    "collapsed": false
   },
   "outputs": [
    {
     "ename": "NameError",
     "evalue": "name 'test' is not defined",
     "output_type": "error",
     "traceback": [
      "\u001b[0;31m---------------------------------------------------------------------------\u001b[0m",
      "\u001b[0;31mNameError\u001b[0m                                 Traceback (most recent call last)",
      "\u001b[0;32m<ipython-input-118-4e1243bd22c6>\u001b[0m in \u001b[0;36m<module>\u001b[0;34m\u001b[0m\n\u001b[0;32m----> 1\u001b[0;31m \u001b[0mtest\u001b[0m\u001b[0;34m\u001b[0m\u001b[0;34m\u001b[0m\u001b[0m\n\u001b[0m",
      "\u001b[0;31mNameError\u001b[0m: name 'test' is not defined"
     ]
    }
   ],
   "source": [
    "test"
   ]
  },
  {
   "cell_type": "code",
   "execution_count": 119,
   "id": "1aaadde226d5b77f",
   "metadata": {
    "ExecuteTime": {
     "end_time": "2024-05-13T00:33:11.398706Z",
     "start_time": "2024-05-13T00:33:11.395272Z"
    },
    "collapsed": false
   },
   "outputs": [],
   "source": [
    "# reading the fix data into pd.dataframe\n",
    "import pandas as pd\n",
    "def es_into_df(es_outcome: list):\n",
    "    data = []\n",
    "    for document in es_outcome:\n",
    "        if '_source' in document:\n",
    "            data.append(document['_source'])\n",
    "    df = pd.DataFrame(data)\n",
    "    return df"
   ]
  },
  {
   "cell_type": "code",
   "execution_count": 120,
   "id": "68e477cbcd09b96",
   "metadata": {
    "ExecuteTime": {
     "end_time": "2024-05-13T00:33:12.228833Z",
     "start_time": "2024-05-13T00:33:12.198442Z"
    },
    "collapsed": false
   },
   "outputs": [
    {
     "ename": "NameError",
     "evalue": "name 'test' is not defined",
     "output_type": "error",
     "traceback": [
      "\u001b[0;31m---------------------------------------------------------------------------\u001b[0m",
      "\u001b[0;31mNameError\u001b[0m                                 Traceback (most recent call last)",
      "\u001b[0;32m<ipython-input-120-8d068735cdc3>\u001b[0m in \u001b[0;36m<module>\u001b[0;34m\u001b[0m\n\u001b[0;32m----> 1\u001b[0;31m \u001b[0mes_into_df\u001b[0m\u001b[0;34m(\u001b[0m\u001b[0mtest\u001b[0m\u001b[0;34m)\u001b[0m\u001b[0;34m\u001b[0m\u001b[0;34m\u001b[0m\u001b[0m\n\u001b[0m",
      "\u001b[0;31mNameError\u001b[0m: name 'test' is not defined"
     ]
    }
   ],
   "source": [
    "es_into_df(test)"
   ]
  },
  {
   "cell_type": "code",
   "execution_count": null,
   "id": "3d2528aaf89d054",
   "metadata": {
    "collapsed": false
   },
   "outputs": [],
   "source": []
  }
 ],
 "metadata": {
  "kernelspec": {
   "display_name": "Python 3",
   "language": "python",
   "name": "python3"
  },
  "language_info": {
   "codemirror_mode": {
    "name": "ipython",
    "version": 2
   },
   "file_extension": ".py",
   "mimetype": "text/x-python",
   "name": "python",
   "nbconvert_exporter": "python",
   "pygments_lexer": "ipython2",
   "version": "2.7.6"
  }
 },
 "nbformat": 4,
 "nbformat_minor": 5
}
