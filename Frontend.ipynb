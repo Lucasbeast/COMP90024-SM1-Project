{
 "cells": [
  {
   "cell_type": "code",
   "execution_count": 5,
   "id": "initial_id",
   "metadata": {
    "collapsed": true,
    "ExecuteTime": {
     "end_time": "2024-05-09T13:43:21.048845Z",
     "start_time": "2024-05-09T13:43:21.038894Z"
    }
   },
   "outputs": [],
   "source": [
    "import requests\n",
    "import warnings\n",
    "warnings.filterwarnings(\"ignore\")"
   ]
  },
  {
   "cell_type": "code",
   "outputs": [],
   "source": [
    "# this method fetch data from the backend; triggered by url call\n",
    "# the ingress route called query_es\n",
    "import requests\n",
    "def fetch_data(body, index_name):\n",
    "    url = 'http://127.0.0.1:9090/query_es'\n",
    "    response = requests.post(url, json={'body': body, 'index': index_name})\n",
    "    if response.status_code == 200:\n",
    "        return response.json()\n",
    "    else:\n",
    "        return f\"Failed to fetch data: Status code {response.status_code}\"\n"
   ],
   "metadata": {
    "collapsed": false,
    "ExecuteTime": {
     "end_time": "2024-05-09T16:27:07.711922Z",
     "start_time": "2024-05-09T16:27:07.688550Z"
    }
   },
   "id": "a569f360e9b04835",
   "execution_count": 1
  },
  {
   "cell_type": "code",
   "outputs": [
    {
     "data": {
      "text/plain": "[{'_id': '0miwXI8BAp0N_qlVyFlp',\n  '_index': 'bomtest',\n  '_score': 1.0,\n  '_source': {'latitude': -37.8,\n   'local_date_time_full': '20240509191300',\n   'longitude': 145.0,\n   'name': 'Melbourne (Olympic Park)'}},\n {'_id': '22iwXI8BAp0N_qlV0FlD',\n  '_index': 'bomtest',\n  '_score': 1.0,\n  '_source': {'latitude': -37.8,\n   'local_date_time_full': '20240509190000',\n   'longitude': 145.0,\n   'name': 'Melbourne (Olympic Park)'}},\n {'_id': '3GiwXI8BAp0N_qlV0Flw',\n  '_index': 'bomtest',\n  '_score': 1.0,\n  '_source': {'latitude': -37.8,\n   'local_date_time_full': '20240509183000',\n   'longitude': 145.0,\n   'name': 'Melbourne (Olympic Park)'}},\n {'_id': '3WiwXI8BAp0N_qlV0Fl2',\n  '_index': 'bomtest',\n  '_score': 1.0,\n  '_source': {'latitude': -37.8,\n   'local_date_time_full': '20240509180000',\n   'longitude': 145.0,\n   'name': 'Melbourne (Olympic Park)'}},\n {'_id': '3miwXI8BAp0N_qlV0Fl7',\n  '_index': 'bomtest',\n  '_score': 1.0,\n  '_source': {'latitude': -37.8,\n   'local_date_time_full': '20240509173000',\n   'longitude': 145.0,\n   'name': 'Melbourne (Olympic Park)'}}]"
     },
     "execution_count": 2,
     "metadata": {},
     "output_type": "execute_result"
    }
   ],
   "source": [
    "# testing \n",
    "query = {\"size\": 5,\"query\": {\"match_all\": {}}}\n",
    "index = 'bomtest'\n",
    "fetch_data(body=query, index_name=index)"
   ],
   "metadata": {
    "collapsed": false,
    "ExecuteTime": {
     "end_time": "2024-05-09T16:27:12.633271Z",
     "start_time": "2024-05-09T16:27:10.655860Z"
    }
   },
   "id": "ea5eb36b804ed370",
   "execution_count": 2
  }
 ],
 "metadata": {
  "kernelspec": {
   "display_name": "Python 3",
   "language": "python",
   "name": "python3"
  },
  "language_info": {
   "codemirror_mode": {
    "name": "ipython",
    "version": 2
   },
   "file_extension": ".py",
   "mimetype": "text/x-python",
   "name": "python",
   "nbconvert_exporter": "python",
   "pygments_lexer": "ipython2",
   "version": "2.7.6"
  }
 },
 "nbformat": 4,
 "nbformat_minor": 5
}
